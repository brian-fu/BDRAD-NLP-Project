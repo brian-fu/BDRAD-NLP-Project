{
  "nbformat": 4,
  "nbformat_minor": 0,
  "metadata": {
    "colab": {
      "provenance": [],
      "toc_visible": true
    },
    "kernelspec": {
      "name": "python3",
      "display_name": "Python 3"
    },
    "language_info": {
      "name": "python"
    }
  },
  "cells": [
    {
      "cell_type": "markdown",
      "metadata": {
        "id": "Aa9xRyBkjaPF"
      },
      "source": [
        "# DLL 52 Basics of NLP in Radiology - RSNA 2021\n",
        "\n",
        "This session will feature a brief lecture introducing the basics of natural language processing (NLP) and highlight potential uses for it in radiology. This accompanying notebook will provide hands-on opportunity to explore some of the basic tools of NLP available in Python. \n",
        "\n",
        "**Learning Objectives:**\n",
        "1.   Understand common terminology and preprocessing techniques in NLP\n",
        "2.   Identify several classic and modern approaches used to capture semantic meaning in text\n",
        "3. Learn how to implement a basic NLP pipeline from preprocessing to performance evaluation\n",
        "\n",
        "**Session Authors**\n",
        "\n",
        "Timothy L. Chen MD - University of California San Francisco, San Francisco, USA\n",
        "\n",
        "Jae Ho Sohn MD, MS - University of California San Francisco, San Francisco, USA\n",
        "\n",
        "\n",
        "\n"
      ]
    },
    {
      "cell_type": "markdown",
      "metadata": {
        "id": "rFZdK4accSlG"
      },
      "source": [
        "# Install Packages\n",
        "\n",
        "We will use a number of prepackaged python NLP tools for this demonstration. Google colab instances come preloaded with a number of packages but not everything. We will install the missing packages here.\n",
        "\n",
        "Natural Language Toolkit ([NLTK](https://www.nltk.org/))\n",
        "\n",
        "[spacy](https://spacy.io/) and [scispacy](https://allenai.github.io/scispacy/)\n",
        "\n",
        "[gensim](https://radimrehurek.com/gensim/)\n",
        "\n",
        "[sklearn](https://scikit-learn.org/stable/)\n",
        "\n",
        "\n",
        "\n",
        "\n"
      ]
    },
    {
      "cell_type": "code",
      "metadata": {
        "id": "W4QbilZBcYyx",
        "outputId": "1cb97a74-1b6d-4dda-8b29-4c4f7a7acfe3",
        "colab": {
          "base_uri": "https://localhost:8080/"
        }
      },
      "source": [
        "#@title Installing missing required packages\n",
        "!pip install xmltodict >/dev/null\n",
        "!pip install spacy > /dev/null \n",
        "!pip install scispacy > /dev/null\n",
        "!pip install negspacy > /dev/null\n",
        "!pip install https://s3-us-west-2.amazonaws.com/ai2-s2-scispacy/releases/v0.4.0/en_core_sci_md-0.4.0.tar.gz> /dev/null\n",
        "!pip install contractions\n",
        "\n",
        "#! pip freeze"
      ],
      "execution_count": 117,
      "outputs": [
        {
          "output_type": "stream",
          "name": "stdout",
          "text": [
            "\u001b[31mERROR: pip's dependency resolver does not currently take into account all the packages that are installed. This behaviour is the source of the following dependency conflicts.\n",
            "en-core-web-sm 3.5.0 requires spacy<3.6.0,>=3.5.0, but you have spacy 3.4.4 which is incompatible.\n",
            "en-core-sci-md 0.4.0 requires spacy<3.1.0,>=3.0.1, but you have spacy 3.4.4 which is incompatible.\u001b[0m\u001b[31m\n",
            "\u001b[0m\u001b[31mERROR: pip's dependency resolver does not currently take into account all the packages that are installed. This behaviour is the source of the following dependency conflicts.\n",
            "scispacy 0.5.1 requires spacy<3.5.0,>=3.4.0, but you have spacy 3.0.9 which is incompatible.\n",
            "en-core-web-sm 3.5.0 requires spacy<3.6.0,>=3.5.0, but you have spacy 3.0.9 which is incompatible.\u001b[0m\u001b[31m\n",
            "\u001b[0mLooking in indexes: https://pypi.org/simple, https://us-python.pkg.dev/colab-wheels/public/simple/\n",
            "Requirement already satisfied: contractions in /usr/local/lib/python3.9/dist-packages (0.1.73)\n",
            "Requirement already satisfied: textsearch>=0.0.21 in /usr/local/lib/python3.9/dist-packages (from contractions) (0.0.24)\n",
            "Requirement already satisfied: pyahocorasick in /usr/local/lib/python3.9/dist-packages (from textsearch>=0.0.21->contractions) (2.0.0)\n",
            "Requirement already satisfied: anyascii in /usr/local/lib/python3.9/dist-packages (from textsearch>=0.0.21->contractions) (0.3.2)\n"
          ]
        }
      ]
    },
    {
      "cell_type": "markdown",
      "metadata": {
        "id": "NxJj3ct4Q58_"
      },
      "source": [
        "# Acquiring Data\n",
        "\n",
        "This demo will utilize data from the [Indiana University CXR dataset](https://openi.nlm.nih.gov/faq). \n",
        "\n",
        "More information regarding the creation of this dataset is detailed in [1] *Demner-Fushman et. al. \"Preparing a collection of radiology examinations for distirbution and retrieval\". J. Am. Med. Inform. Assoc. 2016. doi: [10.1093/jamia/ocv080](https://academic.oup.com/jamia/article/23/2/304/2572395)*"
      ]
    },
    {
      "cell_type": "code",
      "metadata": {
        "colab": {
          "base_uri": "https://localhost:8080/"
        },
        "id": "LdlPCIiCLYHe",
        "outputId": "fbefab82-6b7a-4353-d621-923baf6f1601"
      },
      "source": [
        "# Download the data\n",
        "# tar options - x -extract, v - show progress of archive file, z - filter archive through gzip\n",
        "!curl https://openi.nlm.nih.gov/imgs/collections/NLMCXR_reports.tgz > NLMCXR_reports.tgz\n",
        "!tar xvf /content/NLMCXR_reports.tgz >/dev/null\n"
      ],
      "execution_count": 118,
      "outputs": [
        {
          "output_type": "stream",
          "name": "stdout",
          "text": [
            "  % Total    % Received % Xferd  Average Speed   Time    Time     Time  Current\n",
            "                                 Dload  Upload   Total   Spent    Left  Speed\n",
            "100 1086k  100 1086k    0     0  2944k      0 --:--:-- --:--:-- --:--:-- 2944k\n"
          ]
        }
      ]
    },
    {
      "cell_type": "code",
      "metadata": {
        "id": "mAsCZXsE-HQe",
        "colab": {
          "base_uri": "https://localhost:8080/"
        },
        "outputId": "e2671e8c-2e3d-40eb-8ec8-b3e454268469"
      },
      "source": [
        "# taking a closer look at our file hierarchy\n",
        "!dir"
      ],
      "execution_count": 119,
      "outputs": [
        {
          "output_type": "stream",
          "name": "stdout",
          "text": [
            "ecgen-radiology  NLMCXR_reports.tgz  sample_data\n"
          ]
        }
      ]
    },
    {
      "cell_type": "markdown",
      "metadata": {
        "id": "rPkhaPx3gXmI"
      },
      "source": [
        "With permission from [2] Wiggins et. al., we borrow code to parse the xml. More information about this code can be found here: [Natural Language Processing of Radiology Text Reports: Interactive Text Classification](https://pubs.rsna.org/doi/full/10.1148/ryai.2021210035)\n",
        "\n",
        "The XML file format stores data under various headers which we store as key-value pairs in a python dictionary object.\n",
        "\n",
        "Here we first examine the data stucture of one such xml using an explicit file path. We want to extract the relevant text information from each file. We are interested in the text from the \"FINDINGS\" AND \"IMPRESSION\" keys. In addition, the reports are labeled as normal under the MeSH key - we will use this for labeling the reports as normal (if normal is present under MeSH) or abnormal.\n",
        "\n",
        "If we closely examine the data, there are some oddities. Some entries are multiple xrays together. For example, 875.xml contains text for both CXR and a knee X-ray. Some CXR have no text under FINDINGS and IMPRESSION. For some chest x-ray, there is no label given (\"No Indexing\"). These \"No Indexing\" labels will be considered as normal for this exercise. "
      ]
    },
    {
      "cell_type": "code",
      "metadata": {
        "id": "MIA9a7rckKil"
      },
      "source": [
        "import xmltodict\n",
        "\n",
        "# function from Wiggins et. al.\n",
        "def xml_parse(f):\n",
        "  with open(f) as xml:\n",
        "    report_dict = xmltodict.parse(xml.read())\n",
        "    xml.close()\n",
        "  return report_dict"
      ],
      "execution_count": 120,
      "outputs": []
    },
    {
      "cell_type": "markdown",
      "metadata": {
        "id": "GeqrbiKb2R_z"
      },
      "source": [
        "Let's take a look at a random xml file and see the contents after parsing"
      ]
    },
    {
      "cell_type": "code",
      "metadata": {
        "colab": {
          "base_uri": "https://localhost:8080/"
        },
        "id": "vptTTkdh2RbE",
        "outputId": "32d9e8ba-fd2c-4fc0-95a9-d67340d8f1f4"
      },
      "source": [
        "reportdict_1 = xml_parse(\"./ecgen-radiology/1404.xml\")\n",
        "reportdict_1"
      ],
      "execution_count": 121,
      "outputs": [
        {
          "output_type": "execute_result",
          "data": {
            "text/plain": [
              "{'eCitation': {'meta': {'@type': 'rr'},\n",
              "  'uId': {'@id': 'CXR1404'},\n",
              "  'pmcId': {'@id': '1404'},\n",
              "  'docSource': 'CXR',\n",
              "  'IUXRId': {'@id': '1404'},\n",
              "  'licenseType': 'open-access',\n",
              "  'licenseURL': 'http://creativecommons.org/licenses/by-nc-nd/4.0/',\n",
              "  'ccLicense': 'byncnd',\n",
              "  'articleURL': None,\n",
              "  'articleDate': '2013-08-01',\n",
              "  'articleType': 'XR',\n",
              "  'publisher': 'Indiana University',\n",
              "  'title': 'Indiana University Chest X-ray Collection',\n",
              "  'note': 'The data are drawn from multiple hospital systems.',\n",
              "  'specialty': 'pulmonary diseases',\n",
              "  'subset': 'CXR',\n",
              "  'MedlineCitation': {'@Owner': 'Indiana University',\n",
              "   '@Status': 'supplied by publisher',\n",
              "   'Article': {'@PubModel': 'Electronic',\n",
              "    'Journal': {'JournalIssue': {'PubDate': {'Year': '2013',\n",
              "       'Month': '08',\n",
              "       'Day': '01'}}},\n",
              "    'ArticleTitle': 'Indiana University Chest X-ray Collection',\n",
              "    'Abstract': {'AbstractText': [{'@Label': 'COMPARISON', '#text': 'XXXX'},\n",
              "      {'@Label': 'INDICATION',\n",
              "       '#text': 'XXXX year old with chest pain, shortness of breath, hypertension.'},\n",
              "      {'@Label': 'FINDINGS',\n",
              "       '#text': 'No focal lung consolidation. Heart size and pulmonary vascularity are within normal limits. No pneumothorax or pleural effusion. No acute bony abnormalities. There are stable anterior wedge XXXX deformities of 2 midthoracic vertebral bodies.'},\n",
              "      {'@Label': 'IMPRESSION',\n",
              "       '#text': '1. No acute findings. 2. Stable midthoracic vertebral body XXXX fractures.'}]},\n",
              "    'Affiliation': 'Indiana University',\n",
              "    'AuthorList': {'@CompleteYN': 'Y',\n",
              "     'Author': [{'@ValidYN': 'Y',\n",
              "       'LastName': 'Kohli',\n",
              "       'ForeName': 'Marc',\n",
              "       'Initials': 'MD'},\n",
              "      {'@ValidYN': 'Y',\n",
              "       'LastName': 'Rosenman',\n",
              "       'ForeName': 'Marc',\n",
              "       'Initials': 'M'}]},\n",
              "    'Language': 'eng',\n",
              "    'PublicationTypeList': {'PublicationType': 'Radiology Report'},\n",
              "    'ArticleDate': {'Year': '2013', 'Month': '08', 'Day': '01'}},\n",
              "   'EssieArticleTitle': 'Indiana University Chest X-ray Collection',\n",
              "   'IMedAuthor': ['Marc David Kohli MD', 'Marc Rosenman M']},\n",
              "  'MeSH': {'major': ['Deformity/thoracic vertebrae/anterior/multiple',\n",
              "    'Fractures, Bone/Thoracic Vertebrae'],\n",
              "   'automatic': ['deformity', 'fracture', 'Spinal Fractures', 'Spine']},\n",
              "  'parentImage': [{'@id': 'CXR1404_IM-0258-1001',\n",
              "    'figureId': 'F1',\n",
              "    'caption': 'CHEST PA and Lateral on XXXX, XXXX',\n",
              "    'panel': {'@type': 'single',\n",
              "     'url': '/hadoop/storage/radiology/extract/CXR1404_IM-0258-1001.jpg',\n",
              "     'imgModality': '7',\n",
              "     'region': {'@type': 'panel',\n",
              "      'globalImageFeatures': {'CEDD': 'f2p0k680',\n",
              "       'ColorLayout': 'f1p0k26',\n",
              "       'EdgeHistogram': 'f0p0k338',\n",
              "       'FCTH': 'f4p0k369',\n",
              "       'SemanticContext60': 'f3p0k74'}}}},\n",
              "   {'@id': 'CXR1404_IM-0258-2001',\n",
              "    'figureId': 'F2',\n",
              "    'caption': 'CHEST PA and Lateral on XXXX, XXXX',\n",
              "    'panel': {'@type': 'single',\n",
              "     'url': '/hadoop/storage/radiology/extract/CXR1404_IM-0258-2001.jpg',\n",
              "     'imgModality': '7',\n",
              "     'region': {'@type': 'panel',\n",
              "      'globalImageFeatures': {'CEDD': 'f2p0k1637',\n",
              "       'ColorLayout': 'f1p0k25',\n",
              "       'EdgeHistogram': 'f0p0k518',\n",
              "       'FCTH': 'f4p0k1142',\n",
              "       'SemanticContext60': 'f3p0k151'}}}}]}}"
            ]
          },
          "metadata": {},
          "execution_count": 121
        }
      ]
    },
    {
      "cell_type": "markdown",
      "metadata": {
        "id": "kBZb655Tp2qp"
      },
      "source": [
        "\n",
        "The entirety of the of the xml data files were uncompressed into the \"ecgen-radiology\" folder, so we will need to go through each file and extract the relevant information. The [glob](https://docs.python.org/3/library/glob.html) function in the glob module makes this easy by matching all files whose pathname matches a given pattern using [fnmatch](https://docs.python.org/3/library/fnmatch.html#module-fnmatch)\n",
        "\n",
        "Additionally, we will extract relevant information from each xml file and store it into a pandas dataframe (which is basically a table)."
      ]
    },
    {
      "cell_type": "code",
      "metadata": {
        "id": "k-N2UbgWnU8P"
      },
      "source": [
        "# functions from Wiggins et. al. , slightly modified to remove dependence on fastai L class\n",
        "\n",
        "def get_label(report):\n",
        "    label = report['eCitation']['MeSH']['major']\n",
        "    return 'normal' if label == 'normal' or label == \"No Indexing\" else 'abnormal'\n",
        "\n",
        "def get_text(report):\n",
        "    text_dict = {}\n",
        "    text_dict['id'] = report['eCitation']['IUXRId']['@id']\n",
        "    text = report['eCitation']['MedlineCitation']['Article']['Abstract']['AbstractText']\n",
        "    findings = text[2]['#text'] if '#text' in text[2] else ''\n",
        "    text_dict['findings'] = findings\n",
        "    impression = text[3]['#text'] if '#text' in text[3] else ''\n",
        "    text_dict['impression'] = impression\n",
        "    text_dict['full-text'] = ' '.join([findings, impression])\n",
        "    return text_dict\n",
        "\n",
        "def process_report(report):\n",
        "    label = get_label(report)\n",
        "    report_dict = get_text(report)\n",
        "    report_dict['label'] = label\n",
        "    return report_dict\n"
      ],
      "execution_count": 122,
      "outputs": []
    },
    {
      "cell_type": "code",
      "metadata": {
        "id": "tLhLsKYJoces"
      },
      "source": [
        "import glob\n",
        "import pandas as pd\n",
        "\n",
        "files = glob.glob(\"./ecgen-radiology/*\")\n",
        "reports = list()\n",
        "reports_unlabeled = list()\n",
        "\n",
        "for file in files:\n",
        "  report_extract = xml_parse(file)\n",
        "  if report_extract['eCitation']['MeSH']['major'] == \"No Indexing\":\n",
        "    reports_unlabeled.append(file)\n",
        "    \n",
        "  reports.append(process_report(report_extract))\n",
        "  \n",
        "reports_df = pd.DataFrame(reports)\n"
      ],
      "execution_count": 123,
      "outputs": []
    },
    {
      "cell_type": "markdown",
      "metadata": {
        "id": "p48E2P5r2wMh"
      },
      "source": [
        "Let's examine some of the data in our table\n",
        "\n",
        "The .head() function will return the first n rows (default 5) of the table. The .sample() method will randomly choose n rows of the table to display (default is 1)"
      ]
    },
    {
      "cell_type": "code",
      "metadata": {
        "colab": {
          "base_uri": "https://localhost:8080/",
          "height": 511
        },
        "id": "kpOxPVK1uzHv",
        "outputId": "b1210ced-91ac-46b6-c754-25a93a3bf3bd"
      },
      "source": [
        "print(\"# of reports:\",reports_df.shape[0])\n",
        "pd.options.display.max_colwidth = 0\n",
        "reports_df.head()"
      ],
      "execution_count": 124,
      "outputs": [
        {
          "output_type": "stream",
          "name": "stdout",
          "text": [
            "# of reports: 3955\n"
          ]
        },
        {
          "output_type": "execute_result",
          "data": {
            "text/plain": [
              "     id  \\\n",
              "0  3872   \n",
              "1  1833   \n",
              "2  3701   \n",
              "3  1789   \n",
              "4  3503   \n",
              "\n",
              "                                                                                                                                                                                                                                                                                                    findings  \\\n",
              "0  The cardiac contours are normal. The lungs are clear. Thoracic spondylosis.                                                                                                                                                                                                                                 \n",
              "1  There is a small area of scarring or atelectasis in the left base. Calcified granulomas seen in the posterior right lower lobe. Lungs are otherwise clear. The heart and mediastinum are normal. The skeletal structures and soft tissues are normal.                                                       \n",
              "2  Both lungs are clear and expanded. Heart and mediastinum normal.                                                                                                                                                                                                                                            \n",
              "3                                                                                                                                                                                                                                                                                                              \n",
              "4  The heart size is normal. The mediastinal contour is within normal limits. The lungs are free of any focal infiltrates. There are no nodules or masses. No visible pneumothorax. No visible pleural fluid. The XXXX are grossly normal. There is no visible free intraperitoneal air under the diaphragm.   \n",
              "\n",
              "                                                                   impression  \\\n",
              "0  No acute process.                                                            \n",
              "1  Minimal small area scarring of the left base.                                \n",
              "2  No active disease.                                                           \n",
              "3  Heart size is normal. Lungs are clear. Elevated right diaphragm, unchanged   \n",
              "4  No acute radiographic cardiopulmonary process.                               \n",
              "\n",
              "                                                                                                                                                                                                                                                                                                                                                  full-text  \\\n",
              "0  The cardiac contours are normal. The lungs are clear. Thoracic spondylosis. No acute process.                                                                                                                                                                                                                                                              \n",
              "1  There is a small area of scarring or atelectasis in the left base. Calcified granulomas seen in the posterior right lower lobe. Lungs are otherwise clear. The heart and mediastinum are normal. The skeletal structures and soft tissues are normal. Minimal small area scarring of the left base.                                                        \n",
              "2  Both lungs are clear and expanded. Heart and mediastinum normal. No active disease.                                                                                                                                                                                                                                                                        \n",
              "3   Heart size is normal. Lungs are clear. Elevated right diaphragm, unchanged                                                                                                                                                                                                                                                                                \n",
              "4  The heart size is normal. The mediastinal contour is within normal limits. The lungs are free of any focal infiltrates. There are no nodules or masses. No visible pneumothorax. No visible pleural fluid. The XXXX are grossly normal. There is no visible free intraperitoneal air under the diaphragm. No acute radiographic cardiopulmonary process.   \n",
              "\n",
              "      label  \n",
              "0  abnormal  \n",
              "1  abnormal  \n",
              "2  normal    \n",
              "3  abnormal  \n",
              "4  normal    "
            ],
            "text/html": [
              "\n",
              "  <div id=\"df-939c4e10-f380-440f-8ad5-978694e3c82a\">\n",
              "    <div class=\"colab-df-container\">\n",
              "      <div>\n",
              "<style scoped>\n",
              "    .dataframe tbody tr th:only-of-type {\n",
              "        vertical-align: middle;\n",
              "    }\n",
              "\n",
              "    .dataframe tbody tr th {\n",
              "        vertical-align: top;\n",
              "    }\n",
              "\n",
              "    .dataframe thead th {\n",
              "        text-align: right;\n",
              "    }\n",
              "</style>\n",
              "<table border=\"1\" class=\"dataframe\">\n",
              "  <thead>\n",
              "    <tr style=\"text-align: right;\">\n",
              "      <th></th>\n",
              "      <th>id</th>\n",
              "      <th>findings</th>\n",
              "      <th>impression</th>\n",
              "      <th>full-text</th>\n",
              "      <th>label</th>\n",
              "    </tr>\n",
              "  </thead>\n",
              "  <tbody>\n",
              "    <tr>\n",
              "      <th>0</th>\n",
              "      <td>3872</td>\n",
              "      <td>The cardiac contours are normal. The lungs are clear. Thoracic spondylosis.</td>\n",
              "      <td>No acute process.</td>\n",
              "      <td>The cardiac contours are normal. The lungs are clear. Thoracic spondylosis. No acute process.</td>\n",
              "      <td>abnormal</td>\n",
              "    </tr>\n",
              "    <tr>\n",
              "      <th>1</th>\n",
              "      <td>1833</td>\n",
              "      <td>There is a small area of scarring or atelectasis in the left base. Calcified granulomas seen in the posterior right lower lobe. Lungs are otherwise clear. The heart and mediastinum are normal. The skeletal structures and soft tissues are normal.</td>\n",
              "      <td>Minimal small area scarring of the left base.</td>\n",
              "      <td>There is a small area of scarring or atelectasis in the left base. Calcified granulomas seen in the posterior right lower lobe. Lungs are otherwise clear. The heart and mediastinum are normal. The skeletal structures and soft tissues are normal. Minimal small area scarring of the left base.</td>\n",
              "      <td>abnormal</td>\n",
              "    </tr>\n",
              "    <tr>\n",
              "      <th>2</th>\n",
              "      <td>3701</td>\n",
              "      <td>Both lungs are clear and expanded. Heart and mediastinum normal.</td>\n",
              "      <td>No active disease.</td>\n",
              "      <td>Both lungs are clear and expanded. Heart and mediastinum normal. No active disease.</td>\n",
              "      <td>normal</td>\n",
              "    </tr>\n",
              "    <tr>\n",
              "      <th>3</th>\n",
              "      <td>1789</td>\n",
              "      <td></td>\n",
              "      <td>Heart size is normal. Lungs are clear. Elevated right diaphragm, unchanged</td>\n",
              "      <td>Heart size is normal. Lungs are clear. Elevated right diaphragm, unchanged</td>\n",
              "      <td>abnormal</td>\n",
              "    </tr>\n",
              "    <tr>\n",
              "      <th>4</th>\n",
              "      <td>3503</td>\n",
              "      <td>The heart size is normal. The mediastinal contour is within normal limits. The lungs are free of any focal infiltrates. There are no nodules or masses. No visible pneumothorax. No visible pleural fluid. The XXXX are grossly normal. There is no visible free intraperitoneal air under the diaphragm.</td>\n",
              "      <td>No acute radiographic cardiopulmonary process.</td>\n",
              "      <td>The heart size is normal. The mediastinal contour is within normal limits. The lungs are free of any focal infiltrates. There are no nodules or masses. No visible pneumothorax. No visible pleural fluid. The XXXX are grossly normal. There is no visible free intraperitoneal air under the diaphragm. No acute radiographic cardiopulmonary process.</td>\n",
              "      <td>normal</td>\n",
              "    </tr>\n",
              "  </tbody>\n",
              "</table>\n",
              "</div>\n",
              "      <button class=\"colab-df-convert\" onclick=\"convertToInteractive('df-939c4e10-f380-440f-8ad5-978694e3c82a')\"\n",
              "              title=\"Convert this dataframe to an interactive table.\"\n",
              "              style=\"display:none;\">\n",
              "        \n",
              "  <svg xmlns=\"http://www.w3.org/2000/svg\" height=\"24px\"viewBox=\"0 0 24 24\"\n",
              "       width=\"24px\">\n",
              "    <path d=\"M0 0h24v24H0V0z\" fill=\"none\"/>\n",
              "    <path d=\"M18.56 5.44l.94 2.06.94-2.06 2.06-.94-2.06-.94-.94-2.06-.94 2.06-2.06.94zm-11 1L8.5 8.5l.94-2.06 2.06-.94-2.06-.94L8.5 2.5l-.94 2.06-2.06.94zm10 10l.94 2.06.94-2.06 2.06-.94-2.06-.94-.94-2.06-.94 2.06-2.06.94z\"/><path d=\"M17.41 7.96l-1.37-1.37c-.4-.4-.92-.59-1.43-.59-.52 0-1.04.2-1.43.59L10.3 9.45l-7.72 7.72c-.78.78-.78 2.05 0 2.83L4 21.41c.39.39.9.59 1.41.59.51 0 1.02-.2 1.41-.59l7.78-7.78 2.81-2.81c.8-.78.8-2.07 0-2.86zM5.41 20L4 18.59l7.72-7.72 1.47 1.35L5.41 20z\"/>\n",
              "  </svg>\n",
              "      </button>\n",
              "      \n",
              "  <style>\n",
              "    .colab-df-container {\n",
              "      display:flex;\n",
              "      flex-wrap:wrap;\n",
              "      gap: 12px;\n",
              "    }\n",
              "\n",
              "    .colab-df-convert {\n",
              "      background-color: #E8F0FE;\n",
              "      border: none;\n",
              "      border-radius: 50%;\n",
              "      cursor: pointer;\n",
              "      display: none;\n",
              "      fill: #1967D2;\n",
              "      height: 32px;\n",
              "      padding: 0 0 0 0;\n",
              "      width: 32px;\n",
              "    }\n",
              "\n",
              "    .colab-df-convert:hover {\n",
              "      background-color: #E2EBFA;\n",
              "      box-shadow: 0px 1px 2px rgba(60, 64, 67, 0.3), 0px 1px 3px 1px rgba(60, 64, 67, 0.15);\n",
              "      fill: #174EA6;\n",
              "    }\n",
              "\n",
              "    [theme=dark] .colab-df-convert {\n",
              "      background-color: #3B4455;\n",
              "      fill: #D2E3FC;\n",
              "    }\n",
              "\n",
              "    [theme=dark] .colab-df-convert:hover {\n",
              "      background-color: #434B5C;\n",
              "      box-shadow: 0px 1px 3px 1px rgba(0, 0, 0, 0.15);\n",
              "      filter: drop-shadow(0px 1px 2px rgba(0, 0, 0, 0.3));\n",
              "      fill: #FFFFFF;\n",
              "    }\n",
              "  </style>\n",
              "\n",
              "      <script>\n",
              "        const buttonEl =\n",
              "          document.querySelector('#df-939c4e10-f380-440f-8ad5-978694e3c82a button.colab-df-convert');\n",
              "        buttonEl.style.display =\n",
              "          google.colab.kernel.accessAllowed ? 'block' : 'none';\n",
              "\n",
              "        async function convertToInteractive(key) {\n",
              "          const element = document.querySelector('#df-939c4e10-f380-440f-8ad5-978694e3c82a');\n",
              "          const dataTable =\n",
              "            await google.colab.kernel.invokeFunction('convertToInteractive',\n",
              "                                                     [key], {});\n",
              "          if (!dataTable) return;\n",
              "\n",
              "          const docLinkHtml = 'Like what you see? Visit the ' +\n",
              "            '<a target=\"_blank\" href=https://colab.research.google.com/notebooks/data_table.ipynb>data table notebook</a>'\n",
              "            + ' to learn more about interactive tables.';\n",
              "          element.innerHTML = '';\n",
              "          dataTable['output_type'] = 'display_data';\n",
              "          await google.colab.output.renderOutput(dataTable, element);\n",
              "          const docLink = document.createElement('div');\n",
              "          docLink.innerHTML = docLinkHtml;\n",
              "          element.appendChild(docLink);\n",
              "        }\n",
              "      </script>\n",
              "    </div>\n",
              "  </div>\n",
              "  "
            ]
          },
          "metadata": {},
          "execution_count": 124
        }
      ]
    },
    {
      "cell_type": "code",
      "metadata": {
        "colab": {
          "base_uri": "https://localhost:8080/",
          "height": 770
        },
        "id": "gPf0e-SE9Uwc",
        "outputId": "db2f88c2-05bf-4d7e-9dd4-b27e589fc926"
      },
      "source": [
        "reports_df.sample(5)"
      ],
      "execution_count": 125,
      "outputs": [
        {
          "output_type": "execute_result",
          "data": {
            "text/plain": [
              "        id  \\\n",
              "32    1375   \n",
              "3314  706    \n",
              "1366  2121   \n",
              "1723  1676   \n",
              "415   1663   \n",
              "\n",
              "                                                                                                                                                                                                                                                                                                                                                                                                    findings  \\\n",
              "32                                                                                                                                                                                                                                                                                                                                                                                                             \n",
              "3314  Stable cardiomediastinal silhouette with normal heart size and aortic ectasia/tortuosity. No focal alveolar consolidation, no definite pleural effusion seen. Mild bronchovascular crowding without typical findings of pulmonary edema. Distal clavicle shortening also present on the previous exam, possibly posttraumatic or postsurgical.                                                           \n",
              "1366  The heart size is within normal limits. There is ectasia/tortuosity of the thoracic aorta. Calcified hilar lymph XXXX. Irregular calcific density projecting over the left lower lobe, stable since XXXX and may represent mitral annular calcifications. No focal airspace consolidation, pleural effusions or pneumothorax. Degenerative changes of the thoracic spine. No acute bony abnormalities.   \n",
              "1723  Heart size and mediastinal contour within normal limits. Aortic atherosclerotic calcifications. Emphysematous changes. Nodular densities projecting over right anterior fifth and six ribs. No focal airspace consolidation, pneumothorax, or large pleural effusion. No acute osseous abnormality.                                                                                                      \n",
              "415   Cardiac size, mediastinal contour, and pulmonary vascularity are within normal limits. No focal consolidation, suspicious pulmonary opacity, pleural effusion, or pneumothorax. The visualized osseous structures appear intact.                                                                                                                                                                         \n",
              "\n",
              "                                                                                                                                                                                                                                                impression  \\\n",
              "32    Cardiomegaly with interstitial edema. No effusions, pneumonia, nodules or masses.                                                                                                                                                                      \n",
              "3314  No acute findings                                                                                                                                                                                                                                      \n",
              "1366  No acute cardiopulmonary findings.                                                                                                                                                                                                                     \n",
              "1723  Nodular densities projecting over right 5th and 6th ribs may healing rib fracture; XXXX recommended to rule-out underlying pulmonary nodule. XXXX level Veriphy message was sent XXXX. XXXX regarding possible lung nodules at XXXX hours XXXX/XXXX.   \n",
              "415   No acute cardiopulmonary abnormalities.                                                                                                                                                                                                                \n",
              "\n",
              "                                                                                                                                                                                                                                                                                                                                                                                                                                                                                                                                                     full-text  \\\n",
              "32     Cardiomegaly with interstitial edema. No effusions, pneumonia, nodules or masses.                                                                                                                                                                                                                                                                                                                                                                                                                                                                         \n",
              "3314  Stable cardiomediastinal silhouette with normal heart size and aortic ectasia/tortuosity. No focal alveolar consolidation, no definite pleural effusion seen. Mild bronchovascular crowding without typical findings of pulmonary edema. Distal clavicle shortening also present on the previous exam, possibly posttraumatic or postsurgical. No acute findings                                                                                                                                                                                           \n",
              "1366  The heart size is within normal limits. There is ectasia/tortuosity of the thoracic aorta. Calcified hilar lymph XXXX. Irregular calcific density projecting over the left lower lobe, stable since XXXX and may represent mitral annular calcifications. No focal airspace consolidation, pleural effusions or pneumothorax. Degenerative changes of the thoracic spine. No acute bony abnormalities. No acute cardiopulmonary findings.                                                                                                                  \n",
              "1723  Heart size and mediastinal contour within normal limits. Aortic atherosclerotic calcifications. Emphysematous changes. Nodular densities projecting over right anterior fifth and six ribs. No focal airspace consolidation, pneumothorax, or large pleural effusion. No acute osseous abnormality. Nodular densities projecting over right 5th and 6th ribs may healing rib fracture; XXXX recommended to rule-out underlying pulmonary nodule. XXXX level Veriphy message was sent XXXX. XXXX regarding possible lung nodules at XXXX hours XXXX/XXXX.   \n",
              "415   Cardiac size, mediastinal contour, and pulmonary vascularity are within normal limits. No focal consolidation, suspicious pulmonary opacity, pleural effusion, or pneumothorax. The visualized osseous structures appear intact. No acute cardiopulmonary abnormalities.                                                                                                                                                                                                                                                                                   \n",
              "\n",
              "         label  \n",
              "32    abnormal  \n",
              "3314  abnormal  \n",
              "1366  abnormal  \n",
              "1723  abnormal  \n",
              "415   normal    "
            ],
            "text/html": [
              "\n",
              "  <div id=\"df-020467cd-3747-457c-9222-f87729811846\">\n",
              "    <div class=\"colab-df-container\">\n",
              "      <div>\n",
              "<style scoped>\n",
              "    .dataframe tbody tr th:only-of-type {\n",
              "        vertical-align: middle;\n",
              "    }\n",
              "\n",
              "    .dataframe tbody tr th {\n",
              "        vertical-align: top;\n",
              "    }\n",
              "\n",
              "    .dataframe thead th {\n",
              "        text-align: right;\n",
              "    }\n",
              "</style>\n",
              "<table border=\"1\" class=\"dataframe\">\n",
              "  <thead>\n",
              "    <tr style=\"text-align: right;\">\n",
              "      <th></th>\n",
              "      <th>id</th>\n",
              "      <th>findings</th>\n",
              "      <th>impression</th>\n",
              "      <th>full-text</th>\n",
              "      <th>label</th>\n",
              "    </tr>\n",
              "  </thead>\n",
              "  <tbody>\n",
              "    <tr>\n",
              "      <th>32</th>\n",
              "      <td>1375</td>\n",
              "      <td></td>\n",
              "      <td>Cardiomegaly with interstitial edema. No effusions, pneumonia, nodules or masses.</td>\n",
              "      <td>Cardiomegaly with interstitial edema. No effusions, pneumonia, nodules or masses.</td>\n",
              "      <td>abnormal</td>\n",
              "    </tr>\n",
              "    <tr>\n",
              "      <th>3314</th>\n",
              "      <td>706</td>\n",
              "      <td>Stable cardiomediastinal silhouette with normal heart size and aortic ectasia/tortuosity. No focal alveolar consolidation, no definite pleural effusion seen. Mild bronchovascular crowding without typical findings of pulmonary edema. Distal clavicle shortening also present on the previous exam, possibly posttraumatic or postsurgical.</td>\n",
              "      <td>No acute findings</td>\n",
              "      <td>Stable cardiomediastinal silhouette with normal heart size and aortic ectasia/tortuosity. No focal alveolar consolidation, no definite pleural effusion seen. Mild bronchovascular crowding without typical findings of pulmonary edema. Distal clavicle shortening also present on the previous exam, possibly posttraumatic or postsurgical. No acute findings</td>\n",
              "      <td>abnormal</td>\n",
              "    </tr>\n",
              "    <tr>\n",
              "      <th>1366</th>\n",
              "      <td>2121</td>\n",
              "      <td>The heart size is within normal limits. There is ectasia/tortuosity of the thoracic aorta. Calcified hilar lymph XXXX. Irregular calcific density projecting over the left lower lobe, stable since XXXX and may represent mitral annular calcifications. No focal airspace consolidation, pleural effusions or pneumothorax. Degenerative changes of the thoracic spine. No acute bony abnormalities.</td>\n",
              "      <td>No acute cardiopulmonary findings.</td>\n",
              "      <td>The heart size is within normal limits. There is ectasia/tortuosity of the thoracic aorta. Calcified hilar lymph XXXX. Irregular calcific density projecting over the left lower lobe, stable since XXXX and may represent mitral annular calcifications. No focal airspace consolidation, pleural effusions or pneumothorax. Degenerative changes of the thoracic spine. No acute bony abnormalities. No acute cardiopulmonary findings.</td>\n",
              "      <td>abnormal</td>\n",
              "    </tr>\n",
              "    <tr>\n",
              "      <th>1723</th>\n",
              "      <td>1676</td>\n",
              "      <td>Heart size and mediastinal contour within normal limits. Aortic atherosclerotic calcifications. Emphysematous changes. Nodular densities projecting over right anterior fifth and six ribs. No focal airspace consolidation, pneumothorax, or large pleural effusion. No acute osseous abnormality.</td>\n",
              "      <td>Nodular densities projecting over right 5th and 6th ribs may healing rib fracture; XXXX recommended to rule-out underlying pulmonary nodule. XXXX level Veriphy message was sent XXXX. XXXX regarding possible lung nodules at XXXX hours XXXX/XXXX.</td>\n",
              "      <td>Heart size and mediastinal contour within normal limits. Aortic atherosclerotic calcifications. Emphysematous changes. Nodular densities projecting over right anterior fifth and six ribs. No focal airspace consolidation, pneumothorax, or large pleural effusion. No acute osseous abnormality. Nodular densities projecting over right 5th and 6th ribs may healing rib fracture; XXXX recommended to rule-out underlying pulmonary nodule. XXXX level Veriphy message was sent XXXX. XXXX regarding possible lung nodules at XXXX hours XXXX/XXXX.</td>\n",
              "      <td>abnormal</td>\n",
              "    </tr>\n",
              "    <tr>\n",
              "      <th>415</th>\n",
              "      <td>1663</td>\n",
              "      <td>Cardiac size, mediastinal contour, and pulmonary vascularity are within normal limits. No focal consolidation, suspicious pulmonary opacity, pleural effusion, or pneumothorax. The visualized osseous structures appear intact.</td>\n",
              "      <td>No acute cardiopulmonary abnormalities.</td>\n",
              "      <td>Cardiac size, mediastinal contour, and pulmonary vascularity are within normal limits. No focal consolidation, suspicious pulmonary opacity, pleural effusion, or pneumothorax. The visualized osseous structures appear intact. No acute cardiopulmonary abnormalities.</td>\n",
              "      <td>normal</td>\n",
              "    </tr>\n",
              "  </tbody>\n",
              "</table>\n",
              "</div>\n",
              "      <button class=\"colab-df-convert\" onclick=\"convertToInteractive('df-020467cd-3747-457c-9222-f87729811846')\"\n",
              "              title=\"Convert this dataframe to an interactive table.\"\n",
              "              style=\"display:none;\">\n",
              "        \n",
              "  <svg xmlns=\"http://www.w3.org/2000/svg\" height=\"24px\"viewBox=\"0 0 24 24\"\n",
              "       width=\"24px\">\n",
              "    <path d=\"M0 0h24v24H0V0z\" fill=\"none\"/>\n",
              "    <path d=\"M18.56 5.44l.94 2.06.94-2.06 2.06-.94-2.06-.94-.94-2.06-.94 2.06-2.06.94zm-11 1L8.5 8.5l.94-2.06 2.06-.94-2.06-.94L8.5 2.5l-.94 2.06-2.06.94zm10 10l.94 2.06.94-2.06 2.06-.94-2.06-.94-.94-2.06-.94 2.06-2.06.94z\"/><path d=\"M17.41 7.96l-1.37-1.37c-.4-.4-.92-.59-1.43-.59-.52 0-1.04.2-1.43.59L10.3 9.45l-7.72 7.72c-.78.78-.78 2.05 0 2.83L4 21.41c.39.39.9.59 1.41.59.51 0 1.02-.2 1.41-.59l7.78-7.78 2.81-2.81c.8-.78.8-2.07 0-2.86zM5.41 20L4 18.59l7.72-7.72 1.47 1.35L5.41 20z\"/>\n",
              "  </svg>\n",
              "      </button>\n",
              "      \n",
              "  <style>\n",
              "    .colab-df-container {\n",
              "      display:flex;\n",
              "      flex-wrap:wrap;\n",
              "      gap: 12px;\n",
              "    }\n",
              "\n",
              "    .colab-df-convert {\n",
              "      background-color: #E8F0FE;\n",
              "      border: none;\n",
              "      border-radius: 50%;\n",
              "      cursor: pointer;\n",
              "      display: none;\n",
              "      fill: #1967D2;\n",
              "      height: 32px;\n",
              "      padding: 0 0 0 0;\n",
              "      width: 32px;\n",
              "    }\n",
              "\n",
              "    .colab-df-convert:hover {\n",
              "      background-color: #E2EBFA;\n",
              "      box-shadow: 0px 1px 2px rgba(60, 64, 67, 0.3), 0px 1px 3px 1px rgba(60, 64, 67, 0.15);\n",
              "      fill: #174EA6;\n",
              "    }\n",
              "\n",
              "    [theme=dark] .colab-df-convert {\n",
              "      background-color: #3B4455;\n",
              "      fill: #D2E3FC;\n",
              "    }\n",
              "\n",
              "    [theme=dark] .colab-df-convert:hover {\n",
              "      background-color: #434B5C;\n",
              "      box-shadow: 0px 1px 3px 1px rgba(0, 0, 0, 0.15);\n",
              "      filter: drop-shadow(0px 1px 2px rgba(0, 0, 0, 0.3));\n",
              "      fill: #FFFFFF;\n",
              "    }\n",
              "  </style>\n",
              "\n",
              "      <script>\n",
              "        const buttonEl =\n",
              "          document.querySelector('#df-020467cd-3747-457c-9222-f87729811846 button.colab-df-convert');\n",
              "        buttonEl.style.display =\n",
              "          google.colab.kernel.accessAllowed ? 'block' : 'none';\n",
              "\n",
              "        async function convertToInteractive(key) {\n",
              "          const element = document.querySelector('#df-020467cd-3747-457c-9222-f87729811846');\n",
              "          const dataTable =\n",
              "            await google.colab.kernel.invokeFunction('convertToInteractive',\n",
              "                                                     [key], {});\n",
              "          if (!dataTable) return;\n",
              "\n",
              "          const docLinkHtml = 'Like what you see? Visit the ' +\n",
              "            '<a target=\"_blank\" href=https://colab.research.google.com/notebooks/data_table.ipynb>data table notebook</a>'\n",
              "            + ' to learn more about interactive tables.';\n",
              "          element.innerHTML = '';\n",
              "          dataTable['output_type'] = 'display_data';\n",
              "          await google.colab.output.renderOutput(dataTable, element);\n",
              "          const docLink = document.createElement('div');\n",
              "          docLink.innerHTML = docLinkHtml;\n",
              "          element.appendChild(docLink);\n",
              "        }\n",
              "      </script>\n",
              "    </div>\n",
              "  </div>\n",
              "  "
            ]
          },
          "metadata": {},
          "execution_count": 125
        }
      ]
    },
    {
      "cell_type": "markdown",
      "metadata": {
        "id": "L7TwCTMm9cqB"
      },
      "source": [
        "# Some characteristics of the data\n",
        "\n",
        "We previously already noticed that not all reports had labels associated with them and kept track of a list of such reports in reports_unlabeled. Through further examination of the data we see that some reports (e.g. id 68) only have an impression section but no findings section. THere are also numerous XXXX in reports which likely represent placeholder text after PHI removal (names, dates, etc). Even for normal labeled reports, there is quite a large amount of variation in the text of the reports."
      ]
    },
    {
      "cell_type": "markdown",
      "metadata": {
        "id": "IrbIaKT--Vvs"
      },
      "source": [
        "## Distribution of labels\n",
        "\n",
        "For any data, it is important to examine the distribution of classes (labels) of the data. Imbalanced datasets can have large impacts in terms of how a model behaves after training. "
      ]
    },
    {
      "cell_type": "code",
      "metadata": {
        "colab": {
          "base_uri": "https://localhost:8080/",
          "height": 536
        },
        "id": "GZSWHhOu-ci0",
        "outputId": "9262295a-bf31-4fb5-9fe9-4cd2c0e19477"
      },
      "source": [
        "# code from Wiggins et. al.\n",
        "\n",
        "label_counts = reports_df.label.value_counts()\n",
        "print('Abnormal:', label_counts['abnormal'])\n",
        "print('Normal:', label_counts['normal'])\n",
        "print()\n",
        "label_counts.plot.bar();"
      ],
      "execution_count": 126,
      "outputs": [
        {
          "output_type": "stream",
          "name": "stdout",
          "text": [
            "Abnormal: 2469\n",
            "Normal: 1486\n",
            "\n"
          ]
        },
        {
          "output_type": "display_data",
          "data": {
            "text/plain": [
              "<Figure size 640x480 with 1 Axes>"
            ],
            "image/png": "[encoded data removed]"
          },
          "metadata": {}
        }
      ]
    },
    {
      "cell_type": "markdown",
      "metadata": {
        "id": "2gkDEelM-2he"
      },
      "source": [
        "# Training and test set split\n",
        "\n",
        "We will carve the data into two separate data sets - a training set to train the model and a test set to evaluate the model performance. It is necessary to use a separate dataset on which the model is not trained to evaluate the model because models can overfit onto training data and perform very well on that particular dataset but fail to generalize to examples it has not seen before.\n",
        "\n",
        "Similarly, a third validation set is sometimes employed as part of the model development process for hyperparameter tuning which is  part of the training process.\n",
        "\n",
        "For simplicity, we will use a single stratified train-test split, but a cross-validation approach with multiple train-test splits can offer better insight into how a model performs.\n",
        "\n",
        "The stratification refers to how the sampling is done when the data is split into separate data sets. This is important when there is class imbalance in the dataset because you could conceivably end up with one dataset only having members of one class. \n",
        "\n",
        "The stratify option in the train_test_split function takes the labels of the dataset as input. When this option is enabled, the sampler will attempt to preserve class proportions of the input dataset (aka the input dataset labels) in the split datasets via stratified sampling. Note this does not solve the class imbalance problem on its own."
      ]
    },
    {
      "cell_type": "code",
      "metadata": {
        "id": "lGzyqyLg-1fY"
      },
      "source": [
        "import numpy as np\n",
        "from sklearn.model_selection import train_test_split\n",
        "\n",
        "# fix seed for reproducibility\n",
        "np.random.seed(2021)\n",
        "\n",
        "train_df, test_df = train_test_split(reports_df, test_size=0.15, stratify=reports_df.label.values)"
      ],
      "execution_count": 127,
      "outputs": []
    },
    {
      "cell_type": "markdown",
      "metadata": {
        "id": "G1UzvyxVF_f0"
      },
      "source": [
        "If we examine the dataset labels of the test set, we can see that we have similar proportions of abnormal and normal labels compared to the original full dataset (approx 62% abnormal)"
      ]
    },
    {
      "cell_type": "code",
      "metadata": {
        "colab": {
          "base_uri": "https://localhost:8080/",
          "height": 555
        },
        "id": "6sXQ7JaPCGCB",
        "outputId": "4a8aa868-e9cf-40ac-8d63-19bf86d76c5a"
      },
      "source": [
        "# code from Wiggins et. al.\n",
        "\n",
        "print('Test set size:', test_df.shape[0])\n",
        "test_counts = test_df.label.value_counts()\n",
        "print('Abnormal:', test_counts['abnormal'])\n",
        "print('Normal:', test_counts['normal'])\n",
        "print()\n",
        "test_counts.plot.bar();"
      ],
      "execution_count": 128,
      "outputs": [
        {
          "output_type": "stream",
          "name": "stdout",
          "text": [
            "Test set size: 594\n",
            "Abnormal: 371\n",
            "Normal: 223\n",
            "\n"
          ]
        },
        {
          "output_type": "display_data",
          "data": {
            "text/plain": [
              "<Figure size 640x480 with 1 Axes>"
            ],
            "image/png": "[encoded data removed]"
          },
          "metadata": {}
        }
      ]
    },
    {
      "cell_type": "markdown",
      "metadata": {
        "id": "AT-jzMJb2ivw"
      },
      "source": [
        "# Preprocessing\n",
        "\n",
        "Most models will not understand a stream of free text as is. Before we can use our data as input into a model, we need to convert it into a form that can be understood by an algorithm. Often this is done by creating a \"vocabulary\" of words such that every unique word has a unique index and thus we can input a word's index as input into a model (or use the index to look up some numerical representation of the word).\n",
        "\n",
        "The following sections will examine pieces of a preprocessing pipeline in isolation using independent sections of code but then put these pieces together as one function at the end."
      ]
    },
    {
      "cell_type": "markdown",
      "metadata": {
        "id": "6ngfIeq-ep7-"
      },
      "source": [
        "## Regular expressions (regex)\n",
        "The data used in this tutorial was already nicely packaged into distinct Findings and Impression sections. Most of the time when working with radiology reports you'll have to divide the report into these separate entities yourself. One way to do this is with regular expressions which are rule based expressions that can match patterns of text. Regular expressions can be a powerful way to automatically segment reports or identify sections of text if pre-existing knowledge about their format is known.\n",
        "\n",
        "[Cheat sheet](http://stanford.edu/~wpmarble/webscraping_tutorial/regex_cheatsheet.pdf) for regex syntax\n",
        "\n",
        "We will not extensively cover regular expression nuances in this tutorial but just show a simple example of how they are used with respect to the Python re package. Regular expressions are a general framework thus you may also see packages outside of the re package which interface with regular expressions.\n",
        "\n",
        "More about regular expressions can be found [here](https://www.regular-expressions.info/refflavors.html).\n"
      ]
    },
    {
      "cell_type": "code",
      "metadata": {
        "id": "wvgJFJX-uRZJ",
        "colab": {
          "base_uri": "https://localhost:8080/"
        },
        "outputId": "a739b97b-846d-456f-9909-3fdb01793182"
      },
      "source": [
        "#@title\n",
        "import re\n",
        "\n",
        "regex_test_string = \"\"\"\n",
        "123-456-7890\n",
        "(123)456-7890\n",
        "(123)-456-7890\n",
        "123 456 7890\n",
        "123.456.7890\n",
        "+1-123-456-7890\n",
        "+1 (321) 456-7890\n",
        "+91 123-456-7890\n",
        "\"\"\"\n",
        "\n",
        "regex_pattern = \"\\+?(\\d{1,3})?[-. (]?[-. (]?(\\d{3})[-. )]?[-. )]?\\d{3}[-. ]?\\d{4}\"#@param {type:\"string\"}\n",
        "m = re.finditer(regex_pattern,regex_test_string)\n",
        "\n",
        "for match in m:\n",
        "  print(match.group())\n",
        "  print(f\"Area code is {match.group(2)}\\n\")"
      ],
      "execution_count": 129,
      "outputs": [
        {
          "output_type": "stream",
          "name": "stdout",
          "text": [
            "123-456-7890\n",
            "Area code is 123\n",
            "\n",
            "(123)456-7890\n",
            "Area code is 123\n",
            "\n",
            "(123)-456-7890\n",
            "Area code is 123\n",
            "\n",
            "123 456 7890\n",
            "Area code is 123\n",
            "\n",
            "123.456.7890\n",
            "Area code is 123\n",
            "\n",
            "+1-123-456-7890\n",
            "Area code is 123\n",
            "\n",
            "+1 (321) 456-7890\n",
            "Area code is 321\n",
            "\n",
            "+91 123-456-7890\n",
            "Area code is 123\n",
            "\n"
          ]
        }
      ]
    },
    {
      "cell_type": "markdown",
      "metadata": {
        "id": "Z2kgbwY9T82E"
      },
      "source": [
        "Note by default regex does greedy matching\n",
        "Greedy matching - match as much as text as possible to fulfill the pattern even if a smaller subsection of the text would have already fulfilled the pattern.\n",
        "\n",
        "In the following example we look for a string that begins with \"h\", has at least one character of anything except line breaks, and then an \"l\".\n",
        "\n",
        "If our test string is \"hello\" , then the substring \"hel\" matches our objective but so does \"hell\" if we go one character further. The default behavior is to return the longer version (hence greedy). If we wanted the non-greedy version, adding a \"?\" after a quantifier makes it non-greedy."
      ]
    },
    {
      "cell_type": "code",
      "metadata": {
        "colab": {
          "base_uri": "https://localhost:8080/"
        },
        "id": "Qys-4is5T76_",
        "outputId": "836357da-59be-46e5-ae9f-d7e0af3836a7"
      },
      "source": [
        "#@title\n",
        "regex_pattern = \"h.+l\"\n",
        "m = re.finditer(regex_pattern,\"hello\")\n",
        "for match in m:\n",
        "  print(match.group())"
      ],
      "execution_count": 130,
      "outputs": [
        {
          "output_type": "stream",
          "name": "stdout",
          "text": [
            "hell\n"
          ]
        }
      ]
    },
    {
      "cell_type": "code",
      "metadata": {
        "colab": {
          "base_uri": "https://localhost:8080/"
        },
        "id": "a7CnEewdUKJf",
        "outputId": "a0c554c7-0ed2-49db-c619-2394caeea1ed"
      },
      "source": [
        "#@title\n",
        "regex_pattern = \"h.+?l\"\n",
        "m = re.finditer(regex_pattern,\"hello\")\n",
        "for match in m:\n",
        "  print(match.group())"
      ],
      "execution_count": 131,
      "outputs": [
        {
          "output_type": "stream",
          "name": "stdout",
          "text": [
            "hel\n"
          ]
        }
      ]
    },
    {
      "cell_type": "markdown",
      "metadata": {
        "id": "NXLQtF-d2eYv"
      },
      "source": [
        "## Word Tokenization\n",
        "\n",
        "The first step in processing text is often tokenization. This is a process in which text is split into discrete sections which are known as tokens. A natural place to create these sections (for English) is dividing at spaces so that each word represents a token. However, tokens could also be defined at a phrase level (multiple words), sentence level, or character level. For simplicity here, we will tokenize at the single word level."
      ]
    },
    {
      "cell_type": "code",
      "metadata": {
        "id": "zelqyCW7HHZE",
        "colab": {
          "base_uri": "https://localhost:8080/"
        },
        "outputId": "46c24ff8-16f3-4b88-b7c0-3bd74066b461"
      },
      "source": [
        "import nltk\n",
        "nltk.download('punkt')\n",
        "text = \"Heart size upper limits of normal. Mediastinal contours are maintained. The patient is mildly rotated. There is a small to moderate sized right apical pneumothorax which measures approximately 2.0 cm. No focal airspace consolidation is seen. Left chest is clear. No definite displaced bony injury is seen. Results called XXXX. XXXX XXXX p.m. XXXX, XXXX. Small to moderate right apical pneumothorax.\"\n",
        "text_tokens = nltk.tokenize.word_tokenize(text)\n",
        "print(text_tokens)"
      ],
      "execution_count": 132,
      "outputs": [
        {
          "output_type": "stream",
          "name": "stdout",
          "text": [
            "['Heart', 'size', 'upper', 'limits', 'of', 'normal', '.', 'Mediastinal', 'contours', 'are', 'maintained', '.', 'The', 'patient', 'is', 'mildly', 'rotated', '.', 'There', 'is', 'a', 'small', 'to', 'moderate', 'sized', 'right', 'apical', 'pneumothorax', 'which', 'measures', 'approximately', '2.0', 'cm', '.', 'No', 'focal', 'airspace', 'consolidation', 'is', 'seen', '.', 'Left', 'chest', 'is', 'clear', '.', 'No', 'definite', 'displaced', 'bony', 'injury', 'is', 'seen', '.', 'Results', 'called', 'XXXX', '.', 'XXXX', 'XXXX', 'p.m.', 'XXXX', ',', 'XXXX', '.', 'Small', 'to', 'moderate', 'right', 'apical', 'pneumothorax', '.']\n"
          ]
        },
        {
          "output_type": "stream",
          "name": "stderr",
          "text": [
            "[nltk_data] Downloading package punkt to /root/nltk_data...\n",
            "[nltk_data]   Package punkt is already up-to-date!\n"
          ]
        }
      ]
    },
    {
      "cell_type": "markdown",
      "metadata": {
        "id": "o4fhncsA205b"
      },
      "source": [
        "## Stopword removal\n",
        "\n",
        "Stop words are high-frequeny words in language that tend to appear in any context due to their grammatical role (e.g. \"a\", \"the\", \"of\"). They generally do not contain much information, so it is customary to remove these words as part of the prprocessing step. In general this works well, but phrases that rely on stopwords can lose meaning (e.g. \"to be or not to be\"). \n",
        "\n",
        "In this case, XXXX should be removed as well.\n",
        "\n",
        "Removal of stopwords is as simple as defining a set of words that you want to remove and then removing these words by scanning through input text and filtering out words that are within the set.\n"
      ]
    },
    {
      "cell_type": "code",
      "metadata": {
        "id": "c1hZAWWsHMpg",
        "colab": {
          "base_uri": "https://localhost:8080/"
        },
        "outputId": "9912e187-bc24-4f62-f82c-71fc31feb455"
      },
      "source": [
        "import nltk\n",
        "nltk.download('stopwords')\n",
        "from nltk.corpus import stopwords\n",
        "print(stopwords.words('english'))"
      ],
      "execution_count": 133,
      "outputs": [
        {
          "output_type": "stream",
          "name": "stdout",
          "text": [
            "['i', 'me', 'my', 'myself', 'we', 'our', 'ours', 'ourselves', 'you', \"you're\", \"you've\", \"you'll\", \"you'd\", 'your', 'yours', 'yourself', 'yourselves', 'he', 'him', 'his', 'himself', 'she', \"she's\", 'her', 'hers', 'herself', 'it', \"it's\", 'its', 'itself', 'they', 'them', 'their', 'theirs', 'themselves', 'what', 'which', 'who', 'whom', 'this', 'that', \"that'll\", 'these', 'those', 'am', 'is', 'are', 'was', 'were', 'be', 'been', 'being', 'have', 'has', 'had', 'having', 'do', 'does', 'did', 'doing', 'a', 'an', 'the', 'and', 'but', 'if', 'or', 'because', 'as', 'until', 'while', 'of', 'at', 'by', 'for', 'with', 'about', 'against', 'between', 'into', 'through', 'during', 'before', 'after', 'above', 'below', 'to', 'from', 'up', 'down', 'in', 'out', 'on', 'off', 'over', 'under', 'again', 'further', 'then', 'once', 'here', 'there', 'when', 'where', 'why', 'how', 'all', 'any', 'both', 'each', 'few', 'more', 'most', 'other', 'some', 'such', 'no', 'nor', 'not', 'only', 'own', 'same', 'so', 'than', 'too', 'very', 's', 't', 'can', 'will', 'just', 'don', \"don't\", 'should', \"should've\", 'now', 'd', 'll', 'm', 'o', 're', 've', 'y', 'ain', 'aren', \"aren't\", 'couldn', \"couldn't\", 'didn', \"didn't\", 'doesn', \"doesn't\", 'hadn', \"hadn't\", 'hasn', \"hasn't\", 'haven', \"haven't\", 'isn', \"isn't\", 'ma', 'mightn', \"mightn't\", 'mustn', \"mustn't\", 'needn', \"needn't\", 'shan', \"shan't\", 'shouldn', \"shouldn't\", 'wasn', \"wasn't\", 'weren', \"weren't\", 'won', \"won't\", 'wouldn', \"wouldn't\"]\n"
          ]
        },
        {
          "output_type": "stream",
          "name": "stderr",
          "text": [
            "[nltk_data] Downloading package stopwords to /root/nltk_data...\n",
            "[nltk_data]   Package stopwords is already up-to-date!\n"
          ]
        }
      ]
    },
    {
      "cell_type": "markdown",
      "metadata": {
        "id": "gkTIN1FPRUbw"
      },
      "source": [
        "The imported stopwords exist originally as a list structure, but we should convert to a set for better performance. We can also add custom words to expand this set. Notice our set of stopwords is also all lower case. We will lowercase our tokens prior to matching to the stopword set.\n",
        "\n",
        "In addition to stopwords, numbers are often removed as well (e.g. list numberings) but in the context of radiology these numbers can be very important (e.g. size of a lung nodule)."
      ]
    },
    {
      "cell_type": "code",
      "metadata": {
        "colab": {
          "base_uri": "https://localhost:8080/"
        },
        "id": "j28XvnypRTSq",
        "outputId": "87b18d4a-7865-4802-c34f-37d1edb81bf8"
      },
      "source": [
        "import string\n",
        "stop = set(stopwords.words('english')+list(string.punctuation))\n",
        "stop.add(\"xxxx\")\n",
        "\n",
        "filtered_tokens = [i.lower() for i in text_tokens if i.lower() not in stop ]\n",
        "print(filtered_tokens)"
      ],
      "execution_count": 134,
      "outputs": [
        {
          "output_type": "stream",
          "name": "stdout",
          "text": [
            "['heart', 'size', 'upper', 'limits', 'normal', 'mediastinal', 'contours', 'maintained', 'patient', 'mildly', 'rotated', 'small', 'moderate', 'sized', 'right', 'apical', 'pneumothorax', 'measures', 'approximately', '2.0', 'cm', 'focal', 'airspace', 'consolidation', 'seen', 'left', 'chest', 'clear', 'definite', 'displaced', 'bony', 'injury', 'seen', 'results', 'called', 'p.m.', 'small', 'moderate', 'right', 'apical', 'pneumothorax']\n"
          ]
        }
      ]
    },
    {
      "cell_type": "markdown",
      "metadata": {
        "id": "iqPsXyKZ2bf7"
      },
      "source": [
        "## Word normalization - stemming and lemmatization\n",
        "\n",
        "Word (or text) normalization is reducing text to a standardized form before processing. One way to do this is word stemming and/or lemmatization. In word stemming, the suffix of a word is removed, often leaving behind a stem that is not a full word. In lemmatization, words are transformed into a base word. For example, it is common to remove verb conjugations to reduce different forms of a verb to a single word/token - transforming flying, flown, flew -> fly. \n",
        "\n",
        "We will introduce the concept here, but it will not be included within the preprocessing pipeline. Medical stemming is a difficult topic due to many words sharing roots while still having different meanings (e.g. pneumonia, pneumonitis, pneumonic, pneumothorax). Most available stemming packages are not designed for medical stemming and could introduce problems by truncating useful parts of words (\"over stemming\"). \n",
        "\n",
        "In addition to stemming/lemmatizing words which are based on word roots, one can normalize words by mapping words to a controlled vocabulary. This is especially useful in medicine where a number of terms could refer to the same entity (e.g. hepatorenal recess vs subhepatic recess vs pouch of Morison vs Morison's pouch). Examples of efforts to create standardized medical vocabulary include [UMLS](https://www.nlm.nih.gov/research/umls/index.html), [SNOMED-CT](https://www.nlm.nih.gov/healthit/snomedct/index.html), and [RadLex](http://radlex.org/)"
      ]
    },
    {
      "cell_type": "code",
      "metadata": {
        "id": "l3f1ZJUlLRB3",
        "colab": {
          "base_uri": "https://localhost:8080/"
        },
        "outputId": "6b20c184-55c9-4de4-db43-cfd86a39fe2b"
      },
      "source": [
        "import nltk\n",
        "nltk.download(\"wordnet\")\n",
        "from nltk.stem import WordNetLemmatizer\n",
        "from nltk.stem.porter import PorterStemmer"
      ],
      "execution_count": 135,
      "outputs": [
        {
          "output_type": "stream",
          "name": "stderr",
          "text": [
            "[nltk_data] Downloading package wordnet to /root/nltk_data...\n",
            "[nltk_data]   Package wordnet is already up-to-date!\n"
          ]
        }
      ]
    },
    {
      "cell_type": "markdown",
      "metadata": {
        "id": "umebJGsHLX5w"
      },
      "source": [
        "The [Porter Stemmer](http://snowball.tartarus.org/algorithms/porter/stemmer.html) is a commonly used stemmer which uses an extensive rule based approach to stem words. The stems generated by stemming may not be \"real\" words which is ok as the point is to normalize similar words into the same token."
      ]
    },
    {
      "cell_type": "code",
      "metadata": {
        "colab": {
          "base_uri": "https://localhost:8080/",
          "height": 36
        },
        "id": "wzAepJ9VJMG7",
        "outputId": "a3e08db3-2e4e-4ebf-9b19-4e4c07264464"
      },
      "source": [
        "stemmer = PorterStemmer()\n",
        "stemmer.stem(\"flying\")"
      ],
      "execution_count": 136,
      "outputs": [
        {
          "output_type": "execute_result",
          "data": {
            "text/plain": [
              "'fli'"
            ],
            "application/vnd.google.colaboratory.intrinsic+json": {
              "type": "string"
            }
          },
          "metadata": {},
          "execution_count": 136
        }
      ]
    },
    {
      "cell_type": "code",
      "metadata": {
        "colab": {
          "base_uri": "https://localhost:8080/"
        },
        "id": "Er980_PYKNId",
        "outputId": "35b93a7f-69e6-455d-a060-efdcd7d67346"
      },
      "source": [
        "print(stemmer.stem(\"pneumonic\"))\n",
        "print(stemmer.stem(\"pneumonitis\"))"
      ],
      "execution_count": 137,
      "outputs": [
        {
          "output_type": "stream",
          "name": "stdout",
          "text": [
            "pneumon\n",
            "pneumon\n"
          ]
        }
      ]
    },
    {
      "cell_type": "markdown",
      "metadata": {
        "id": "cXckjAH3KlxY"
      },
      "source": [
        "For lemmatization demonstration, we will use the NLTK default lemmatizer which is based on [WordNet](https://wordnet.princeton.edu/). In addition to the target text, the [lemmatizer](https://www.nltk.org/_modules/nltk/stem/wordnet.html) will generally require a part of speech parameter to be fully functional (default is noun)"
      ]
    },
    {
      "cell_type": "code",
      "metadata": {
        "colab": {
          "base_uri": "https://localhost:8080/"
        },
        "id": "3eSFqvCmJwy1",
        "outputId": "4afecefa-605e-4cc1-b125-e235e20657aa"
      },
      "source": [
        "lemmatizer = WordNetLemmatizer()\n",
        "print(lemmatizer.lemmatize(\"flown\",pos=\"v\"))"
      ],
      "execution_count": 138,
      "outputs": [
        {
          "output_type": "stream",
          "name": "stdout",
          "text": [
            "fly\n"
          ]
        }
      ]
    },
    {
      "cell_type": "markdown",
      "metadata": {
        "id": "3y_nsmWpHeas"
      },
      "source": [
        "## Negation"
      ]
    },
    {
      "cell_type": "markdown",
      "metadata": {
        "id": "LhvODUGKYSa3"
      },
      "source": [
        "Dealing with negation is important especially when using a bag of word model because it ignores word ordering. The presence of a word in a document does not mean we necessarily want it to always be used as the same feature especially if the word is qualified by \"no\" (e.g. no nodule). One way to deal with this is to detect such negated words/phrases and create \"new\" vocab words out of negated entities by appending some text to it (for example append \"NEGEX_\" to negated entities so that these entities are counted as separated words compared to their non-negated counterpart)\n",
        "\n",
        "spacy comes with pre-trained [models](https://github.com/explosion/spacy-models) for purposes of preprocessing (e.g. named entity recognition) and also [negation](https://github.com/jenojp/negspacy). Here we will use a default implementation of negspacy for negation detection."
      ]
    },
    {
      "cell_type": "code",
      "metadata": {
        "id": "y_WKbR3ywkXO",
        "colab": {
          "base_uri": "https://localhost:8080/"
        },
        "outputId": "e8354c86-dab2-47fb-827b-419dc1ebc02a"
      },
      "source": [
        "import scispacy\n",
        "import spacy\n",
        "from negspacy.negation import Negex\n",
        "import nltk\n",
        "nltk.download('stopwords')\n",
        "nltk.download('punkt')\n",
        "import string\n",
        "\n",
        "nlp = spacy.load(\"en_core_sci_md\")\n",
        "nlp.add_pipe(\"negex\")"
      ],
      "execution_count": 139,
      "outputs": [
        {
          "output_type": "stream",
          "name": "stderr",
          "text": [
            "[nltk_data] Downloading package stopwords to /root/nltk_data...\n",
            "[nltk_data]   Package stopwords is already up-to-date!\n",
            "[nltk_data] Downloading package punkt to /root/nltk_data...\n",
            "[nltk_data]   Package punkt is already up-to-date!\n"
          ]
        },
        {
          "output_type": "execute_result",
          "data": {
            "text/plain": [
              "<negspacy.negation.Negex at 0x7f228a0a0fd0>"
            ]
          },
          "metadata": {},
          "execution_count": 139
        }
      ]
    },
    {
      "cell_type": "markdown",
      "metadata": {
        "id": "kIuHzg8sstac"
      },
      "source": [
        "What kind of phrases is negex recognizing as negation? We can print the default patterns from negspaCy to see. The \"en_clinical\" dataset is used by default. Default termsets also include \"en\" and \"en_clinical_sensitive\". The official documentation covers how to change term sets and also how to add/remove custom phrases to the sets.\n",
        "\n",
        "From the documentation, negspaCy uses four patterns:\n",
        "\n",
        "**pseudo_negations** - phrases that are false triggers, ambiguous negations, or double negatives\n",
        "\n",
        "**preceding_negations** - negation phrases that precede an entity\n",
        "\n",
        "**following_negations** - negation phrases that follow an entity\n",
        "\n",
        "**termination** - phrases that cut a sentence in parts, for purposes of negation detection (.e.g., \"but\")"
      ]
    },
    {
      "cell_type": "code",
      "metadata": {
        "colab": {
          "base_uri": "https://localhost:8080/"
        },
        "id": "zl3g4Djkr2Be",
        "outputId": "bf161bcd-7591-4b96-9b1d-9c9c637e60e8"
      },
      "source": [
        "from negspacy.termsets import termset\n",
        "\n",
        "ts = termset(\"en_clinical\")\n",
        "ts_dict = ts.get_patterns()\n",
        "\n",
        "for key,value in ts_dict.items():\n",
        "  print(key,value)\n",
        "  print(\"\\n\")"
      ],
      "execution_count": 140,
      "outputs": [
        {
          "output_type": "stream",
          "name": "stdout",
          "text": [
            "pseudo_negations ['no further', 'not able to be', 'not certain if', 'not certain whether', 'not necessarily', 'without any further', 'without difficulty', 'without further', 'might not', 'not only', 'no increase', 'no significant change', 'no change', 'no definite change', 'not extend', 'not cause', 'gram negative', 'not rule out', 'not ruled out', 'not been ruled out', 'not drain', 'no suspicious change', 'no interval change', 'no significant interval change']\n",
            "\n",
            "\n",
            "preceding_negations ['absence of', 'declined', 'denied', 'denies', 'denying', 'no sign of', 'no signs of', 'not', 'not demonstrate', 'symptoms atypical', 'doubt', 'negative for', 'no', 'versus', 'without', \"doesn't\", 'doesnt', \"don't\", 'dont', \"didn't\", 'didnt', \"wasn't\", 'wasnt', \"weren't\", 'werent', \"isn't\", 'isnt', \"aren't\", 'arent', 'cannot', \"can't\", 'cant', \"couldn't\", 'couldnt', 'never', 'patient was not', 'without indication of', 'without sign of', 'without signs of', 'without any reactions or signs of', 'no complaints of', 'no evidence of', 'no cause of', 'evaluate for', 'fails to reveal', 'free of', 'never developed', 'never had', 'did not exhibit', 'rules out', 'rule out', 'rule him out', 'rule her out', 'rule patient out', 'rule the patient out', 'ruled out', 'ruled him out', 'ruled her out', 'ruled patient out', 'ruled the patient out', 'r/o', 'ro']\n",
            "\n",
            "\n",
            "following_negations ['declined', 'unlikely', 'was not', 'were not', \"wasn't\", 'wasnt', \"weren't\", 'werent', 'was ruled out', 'were ruled out', 'free']\n",
            "\n",
            "\n",
            "termination ['although', 'apart from', 'as there are', 'aside from', 'but', 'except', 'however', 'involving', 'nevertheless', 'still', 'though', 'which', 'yet', 'cause for', 'cause of', 'causes for', 'causes of', 'etiology for', 'etiology of', 'origin for', 'origin of', 'origins for', 'origins of', 'other possibilities of', 'reason for', 'reason of', 'reasons for', 'reasons of', 'secondary to', 'source for', 'source of', 'sources for', 'sources of', 'trigger event for']\n",
            "\n",
            "\n"
          ]
        }
      ]
    },
    {
      "cell_type": "markdown",
      "source": [
        "## Expanding Contractions"
      ],
      "metadata": {
        "id": "vHbTkHwfPgqt"
      }
    },
    {
      "cell_type": "markdown",
      "source": [
        "Contractions are words that are shorted by combining two originally seperated words together with an apostophe. Examples of contractions in the English language are don't and can't. This step in preprocessing can help because it allows us to expand words and get more meaning from the text, as well as help with the negation step shown above."
      ],
      "metadata": {
        "id": "3Le-I2RGPpkW"
      }
    },
    {
      "cell_type": "code",
      "source": [
        "# import the contractions library\n",
        "import contractions\n",
        "\n",
        "#method one of handling contractions\n",
        "def expandContractions(tokenList):\n",
        "  expanded_words = []\n",
        "  for word in tokenList:\n",
        "    expanded_words.extend(contractions.fix(word).split()) \n",
        "  return expanded_words\n",
        "\n",
        "#method 2 of handling contractions\n",
        "def quickContractions(text):\n",
        "  return contractions.fix(text)"
      ],
      "metadata": {
        "id": "0r2dlKeAQE8p"
      },
      "execution_count": 141,
      "outputs": []
    },
    {
      "cell_type": "code",
      "source": [
        "#test for contractions\n",
        "testContraction = \"I'd love to meet your friend! I'll be it's me\"\n",
        "print(expandContractions(testContraction.split()))\n",
        "print(quickContractions(testContraction))"
      ],
      "metadata": {
        "colab": {
          "base_uri": "https://localhost:8080/"
        },
        "id": "jpAVX7HPQ1BG",
        "outputId": "5812fe2b-51aa-49df-8015-597db2c74822"
      },
      "execution_count": 142,
      "outputs": [
        {
          "output_type": "stream",
          "name": "stdout",
          "text": [
            "['I', 'would', 'love', 'to', 'meet', 'your', 'friend!', 'I', 'will', 'be', 'it', 'is', 'me']\n",
            "I would love to meet your friend! I will be it is me\n"
          ]
        }
      ]
    },
    {
      "cell_type": "markdown",
      "metadata": {
        "id": "AqDHio7AFHw9"
      },
      "source": [
        "## Putting it all together"
      ]
    },
    {
      "cell_type": "code",
      "metadata": {
        "id": "0OH7aKTxmylY"
      },
      "source": [
        "from nltk.corpus import stopwords\n",
        "\n",
        "def preprocess(nlp_model,input_text):\n",
        "  input_text = input_text.strip()\n",
        "  doc = nlp_model(input_text)\n",
        "  negation_list = [0]*len(doc)\n",
        "  tokens = list()\n",
        "  stop = set(stopwords.words('english')+list(string.punctuation))\n",
        "  stop.add(\"xxxx\")\n",
        "  #The code above will not remove XXXX from the code which is present many times. We have to manually add a lowercase xxxx\n",
        "  #remove this stopwords as the code written does not account for stopwords in the stop array being uppercase. \n",
        "  stop.add(\"xxxx\")\n",
        "\n",
        "  lenNormal = len(re.findall(r'normal.{0,4}', input_text))\n",
        "  lenActive = len(re.findall(r'active.{0,4}', input_text))\n",
        "  lenSize = len(re.findall(r'size.{0,4}', input_text))\n",
        "  lenDisease = len(re.findall(r'disease.{0,4}', input_text))\n",
        "  lenClear = len(re.findall(r'clear.{0,4}', input_text))\n",
        "  lenHeart = len(re.findall(r'heart.{0,4}', input_text))\n",
        "  lenLung = len(re.findall(r'lung.{0,4}', input_text))\n",
        "  lenCardiomediastinal = len(re.findall(r'cardiomediastinal.{0,4}', input_text))\n",
        "  lenWithin = len(re.findall(r'within.{0,4}', input_text))\n",
        "  lenContours = len(re.findall(r'contour.{0,4}', input_text))\n",
        "\n",
        "  tokens.append(str(lenNormal) + \"numNormal\")\n",
        "  tokens.append(str(lenActive) + \"numActive\")\n",
        "  tokens.append(str(lenSize) + \"numSize\")\n",
        "  tokens.append(str(lenDisease) + \"numDisease\")\n",
        "  tokens.append(str(lenClear) + \"numClear\")\n",
        "  tokens.append(str(lenHeart) + \"numHeart\")\n",
        "  tokens.append(str(lenLung) + \"numLung\")\n",
        "  tokens.append(str(lenCardiomediastinal) + \"numCardiomediastinal\")\n",
        "  tokens.append(str(lenWithin) + \"numWithin\")\n",
        "  tokens.append(str(lenContours) + \"numContour\")\n",
        "\n",
        "\n",
        "  for ent in doc.ents:\n",
        "    if ent._.negex:\n",
        "      index = ent.start\n",
        "      while index < ent.end:\n",
        "        negation_list[index] = 1\n",
        "        index += 1\n",
        "        \n",
        "  for i,token in enumerate(doc):\n",
        "    #we need to lower stopwords because of this\n",
        "    if str(token).lower() not in stop:\n",
        "      if negation_list[i] == 1:\n",
        "        tokens.append((\"NEGEX_\"+str(token).lower()))\n",
        "      else:\n",
        "        tokens.append(str(token).lower())\n",
        "  \n",
        "  #We will contract our tokens in this step. In this step we are using method 1 to expand contractions. \n",
        "  tokens = expandContractions(tokens)\n",
        "\n",
        "  return tokens\n"
      ],
      "execution_count": 143,
      "outputs": []
    },
    {
      "cell_type": "markdown",
      "metadata": {
        "id": "bggt3sfZeYJg"
      },
      "source": [
        "## Creating a vocabulary\n",
        "After preprocessing the text, it is time to scan through the entire training corpus (aka all of the text available) and create a vocabulary which is essentially an index of all tokens encountered.\n",
        "\n",
        "We will use the gensim [Dictionary](https://radimrehurek.com/gensim/corpora/dictionary.html) class for this as it has some useful methods.\n",
        "\n",
        "We can also set a threshold to filter out tokens using the gensim dict method filter_extremes() that occur below a specified frequency. This could be useful for removing misspelled words."
      ]
    },
    {
      "cell_type": "code",
      "metadata": {
        "id": "2LqwYpEjXDjs",
        "colab": {
          "base_uri": "https://localhost:8080/",
          "height": 36
        },
        "outputId": "c15dc509-98d5-4cd0-9301-aa6b53aad0b2"
      },
      "source": [
        "from gensim.corpora import Dictionary\n",
        "\n",
        "train_text = train_df[\"full-text\"].to_list()\n",
        "\n",
        "def token_generator(text_list):\n",
        "  for text in text_list:\n",
        "    yield preprocess(nlp,text)\n",
        "\n",
        "train_tokens = token_generator(train_text)\n",
        "train_vocab_dict = Dictionary(train_tokens)\n",
        "\n",
        "# gensim Dictionary does not create an id2token dictionary  until dictionary is called\n",
        "train_vocab_dict[0]"
      ],
      "execution_count": 144,
      "outputs": [
        {
          "output_type": "execute_result",
          "data": {
            "text/plain": [
              "'0numActive'"
            ],
            "application/vnd.google.colaboratory.intrinsic+json": {
              "type": "string"
            }
          },
          "metadata": {},
          "execution_count": 144
        }
      ]
    },
    {
      "cell_type": "code",
      "metadata": {
        "colab": {
          "base_uri": "https://localhost:8080/"
        },
        "id": "SKHBh7yKcw0N",
        "outputId": "a0e3cb68-3ccc-4bbd-b828-f8756b0ebf22"
      },
      "source": [
        "len(train_vocab_dict.token2id)"
      ],
      "execution_count": 145,
      "outputs": [
        {
          "output_type": "execute_result",
          "data": {
            "text/plain": [
              "2362"
            ]
          },
          "metadata": {},
          "execution_count": 145
        }
      ]
    },
    {
      "cell_type": "markdown",
      "source": [
        "## Visualizing the preprocessing steps"
      ],
      "metadata": {
        "id": "ABZv7vEqaz_0"
      }
    },
    {
      "cell_type": "code",
      "source": [
        "reports_df['tokens'] = reports_df['full-text'].apply(lambda text:preprocess(nlp, text))\n",
        "reports_df"
      ],
      "metadata": {
        "colab": {
          "base_uri": "https://localhost:8080/",
          "height": 1000
        },
        "id": "g8LhJO2ua5mX",
        "outputId": "dbdb4cf2-1410-4787-f4bc-b03c1219ddf7"
      },
      "execution_count": 146,
      "outputs": [
        {
          "output_type": "execute_result",
          "data": {
            "text/plain": [
              "        id  \\\n",
              "0     3872   \n",
              "1     1833   \n",
              "2     3701   \n",
              "3     1789   \n",
              "4     3503   \n",
              "...    ...   \n",
              "3950  508    \n",
              "3951  690    \n",
              "3952  3470   \n",
              "3953  356    \n",
              "3954  267    \n",
              "\n",
              "                                                                                                                                                                                                                                                                                                       findings  \\\n",
              "0     The cardiac contours are normal. The lungs are clear. Thoracic spondylosis.                                                                                                                                                                                                                                 \n",
              "1     There is a small area of scarring or atelectasis in the left base. Calcified granulomas seen in the posterior right lower lobe. Lungs are otherwise clear. The heart and mediastinum are normal. The skeletal structures and soft tissues are normal.                                                       \n",
              "2     Both lungs are clear and expanded. Heart and mediastinum normal.                                                                                                                                                                                                                                            \n",
              "3                                                                                                                                                                                                                                                                                                                 \n",
              "4     The heart size is normal. The mediastinal contour is within normal limits. The lungs are free of any focal infiltrates. There are no nodules or masses. No visible pneumothorax. No visible pleural fluid. The XXXX are grossly normal. There is no visible free intraperitoneal air under the diaphragm.   \n",
              "...                                                                                                                                                                                                                                                                                                         ...   \n",
              "3950  Normal heart size and mediastinal contours. No focal airspace consolidation. No pleural effusion or pneumothorax. Visualized osseous structures are unremarkable.                                                                                                                                           \n",
              "3951  Mediastinal contours are normal. Lungs are clear. There is no pneumothorax or large pleural effusion.                                                                                                                                                                                                       \n",
              "3952  The patient is rotated. The heart is normal in size. The pulmonary vascularity is within normal limits in appearance. No pneumothorax or pleural effusion. No focal airspace opacities. Mild degenerative changes of the thoracic spine.                                                                    \n",
              "3953  The cardiomediastinal silhouette is within normal limits for size and contour. The lungs are normally inflated without evidence of focal airspace disease, pleural effusion, or pneumothorax. Osseous structures are within normal limits for patient age..                                                 \n",
              "3954  Endotracheal tube and NG tube have been removed. Mild patchy bilateral airspace disease. There are small bilateral pleural effusions. No pneumothorax. Heart and mediastinum are stable with normal size heart. Degenerative changes in the spine.                                                          \n",
              "\n",
              "                                                                                              impression  \\\n",
              "0     No acute process.                                                                                    \n",
              "1     Minimal small area scarring of the left base.                                                        \n",
              "2     No active disease.                                                                                   \n",
              "3     Heart size is normal. Lungs are clear. Elevated right diaphragm, unchanged                           \n",
              "4     No acute radiographic cardiopulmonary process.                                                       \n",
              "...                                              ...                                                       \n",
              "3950  No acute cardiopulmonary abnormality.                                                                \n",
              "3951  No acute cardiopulmonary abnormality.                                                                \n",
              "3952  No acute cardiopulmonary abnormalities.                                                              \n",
              "3953  1. No acute radiographic cardiopulmonary process.                                                    \n",
              "3954  Small bilateral pleural effusions with a few scattered areas of patchy bilateral airspace disease.   \n",
              "\n",
              "                                                                                                                                                                                                                                                                                                                                                     full-text  \\\n",
              "0     The cardiac contours are normal. The lungs are clear. Thoracic spondylosis. No acute process.                                                                                                                                                                                                                                                              \n",
              "1     There is a small area of scarring or atelectasis in the left base. Calcified granulomas seen in the posterior right lower lobe. Lungs are otherwise clear. The heart and mediastinum are normal. The skeletal structures and soft tissues are normal. Minimal small area scarring of the left base.                                                        \n",
              "2     Both lungs are clear and expanded. Heart and mediastinum normal. No active disease.                                                                                                                                                                                                                                                                        \n",
              "3      Heart size is normal. Lungs are clear. Elevated right diaphragm, unchanged                                                                                                                                                                                                                                                                                \n",
              "4     The heart size is normal. The mediastinal contour is within normal limits. The lungs are free of any focal infiltrates. There are no nodules or masses. No visible pneumothorax. No visible pleural fluid. The XXXX are grossly normal. There is no visible free intraperitoneal air under the diaphragm. No acute radiographic cardiopulmonary process.   \n",
              "...                                                                                                                                                                                                                                                                                                                                                        ...   \n",
              "3950  Normal heart size and mediastinal contours. No focal airspace consolidation. No pleural effusion or pneumothorax. Visualized osseous structures are unremarkable. No acute cardiopulmonary abnormality.                                                                                                                                                    \n",
              "3951  Mediastinal contours are normal. Lungs are clear. There is no pneumothorax or large pleural effusion. No acute cardiopulmonary abnormality.                                                                                                                                                                                                                \n",
              "3952  The patient is rotated. The heart is normal in size. The pulmonary vascularity is within normal limits in appearance. No pneumothorax or pleural effusion. No focal airspace opacities. Mild degenerative changes of the thoracic spine. No acute cardiopulmonary abnormalities.                                                                           \n",
              "3953  The cardiomediastinal silhouette is within normal limits for size and contour. The lungs are normally inflated without evidence of focal airspace disease, pleural effusion, or pneumothorax. Osseous structures are within normal limits for patient age.. 1. No acute radiographic cardiopulmonary process.                                              \n",
              "3954  Endotracheal tube and NG tube have been removed. Mild patchy bilateral airspace disease. There are small bilateral pleural effusions. No pneumothorax. Heart and mediastinum are stable with normal size heart. Degenerative changes in the spine. Small bilateral pleural effusions with a few scattered areas of patchy bilateral airspace disease.      \n",
              "\n",
              "         label  \\\n",
              "0     abnormal   \n",
              "1     abnormal   \n",
              "2     normal     \n",
              "3     abnormal   \n",
              "4     normal     \n",
              "...      ...     \n",
              "3950  normal     \n",
              "3951  normal     \n",
              "3952  abnormal   \n",
              "3953  normal     \n",
              "3954  abnormal   \n",
              "\n",
              "                                                                                                                                                                                                                                                                                                                                                                                                                                                                               tokens  \n",
              "0     [1numNormal, 0numActive, 0numSize, 0numDisease, 1numClear, 0numHeart, 1numLung, 0numCardiomediastinal, 0numWithin, 1numContour, cardiac, contours, normal, lungs, clear, thoracic, spondylosis, NEGEX_acute, NEGEX_process]                                                                                                                                                                                                                                                      \n",
              "1     [2numNormal, 0numActive, 0numSize, 0numDisease, 1numClear, 1numHeart, 0numLung, 0numCardiomediastinal, 0numWithin, 0numContour, small, area, scarring, atelectasis, left, base, calcified, granulomas, seen, posterior, right, lower, lobe, lungs, otherwise, clear, heart, mediastinum, normal, skeletal, structures, soft, tissues, normal, minimal, small, area, scarring, left, base]                                                                                        \n",
              "2     [1numNormal, 1numActive, 0numSize, 1numDisease, 1numClear, 0numHeart, 1numLung, 0numCardiomediastinal, 0numWithin, 0numContour, lungs, clear, expanded, heart, mediastinum, normal, active, disease]                                                                                                                                                                                                                                                                             \n",
              "3     [1numNormal, 0numActive, 1numSize, 0numDisease, 1numClear, 0numHeart, 0numLung, 0numCardiomediastinal, 0numWithin, 0numContour, heart, size, normal, lungs, clear, elevated, right, diaphragm, unchanged]                                                                                                                                                                                                                                                                        \n",
              "4     [3numNormal, 0numActive, 1numSize, 0numDisease, 0numClear, 1numHeart, 1numLung, 0numCardiomediastinal, 1numWithin, 1numContour, heart, size, normal, mediastinal, contour, within, normal, limits, NEGEX_lungs, free, NEGEX_focal, NEGEX_infiltrates, NEGEX_nodules, NEGEX_masses, visible, pneumothorax, visible, pleural, fluid, grossly, normal, visible, free, NEGEX_intraperitoneal, air, NEGEX_diaphragm, NEGEX_acute, radiographic, cardiopulmonary, process]             \n",
              "...                                                                                                                                                                                                                                                                                                                                                                                                                                                                    ...             \n",
              "3950  [1numNormal, 0numActive, 1numSize, 0numDisease, 0numClear, 1numHeart, 0numLung, 0numCardiomediastinal, 0numWithin, 1numContour, normal, heart, size, mediastinal, contours, NEGEX_focal, NEGEX_airspace, NEGEX_consolidation, NEGEX_pleural, NEGEX_effusion, NEGEX_pneumothorax, visualized, osseous, structures, unremarkable, NEGEX_acute, NEGEX_cardiopulmonary, NEGEX_abnormality]                                                                                           \n",
              "3951  [2numNormal, 0numActive, 0numSize, 0numDisease, 1numClear, 0numHeart, 0numLung, 0numCardiomediastinal, 0numWithin, 1numContour, mediastinal, contours, normal, lungs, clear, NEGEX_pneumothorax, large, NEGEX_pleural, NEGEX_effusion, NEGEX_acute, NEGEX_cardiopulmonary, NEGEX_abnormality]                                                                                                                                                                                    \n",
              "3952  [3numNormal, 0numActive, 1numSize, 0numDisease, 0numClear, 1numHeart, 0numLung, 0numCardiomediastinal, 1numWithin, 0numContour, patient, rotated, heart, normal, size, pulmonary, vascularity, within, normal, limits, appearance, pneumothorax, NEGEX_pleural, NEGEX_effusion, NEGEX_focal, NEGEX_airspace, NEGEX_opacities, mild, degenerative, changes, thoracic, spine, NEGEX_acute, NEGEX_cardiopulmonary, NEGEX_abnormalities]                                             \n",
              "3953  [3numNormal, 0numActive, 1numSize, 1numDisease, 0numClear, 0numHeart, 1numLung, 1numCardiomediastinal, 2numWithin, 1numContour, cardiomediastinal, silhouette, within, normal, limits, size, contour, lungs, normally, inflated, without, NEGEX_evidence, NEGEX_focal, NEGEX_airspace, NEGEX_disease, NEGEX_pleural, NEGEX_effusion, NEGEX_pneumothorax, osseous, structures, within, normal, limits, patient, age, .., 1, NEGEX_acute, radiographic, cardiopulmonary, process]  \n",
              "3954  [1numNormal, 0numActive, 1numSize, 2numDisease, 0numClear, 1numHeart, 0numLung, 0numCardiomediastinal, 0numWithin, 0numContour, endotracheal, tube, ng, tube, removed, mild, patchy, bilateral, airspace, disease, small, bilateral, pleural, effusions, pneumothorax, heart, mediastinum, stable, normal, size, heart, degenerative, changes, spine, small, bilateral, pleural, effusions, scattered, areas, patchy, bilateral, airspace, disease]                              \n",
              "\n",
              "[3955 rows x 6 columns]"
            ],
            "text/html": [
              "\n",
              "  <div id=\"df-34ed0528-aeae-4b29-acce-5836b3e620a2\">\n",
              "    <div class=\"colab-df-container\">\n",
              "      <div>\n",
              "<style scoped>\n",
              "    .dataframe tbody tr th:only-of-type {\n",
              "        vertical-align: middle;\n",
              "    }\n",
              "\n",
              "    .dataframe tbody tr th {\n",
              "        vertical-align: top;\n",
              "    }\n",
              "\n",
              "    .dataframe thead th {\n",
              "        text-align: right;\n",
              "    }\n",
              "</style>\n",
              "<table border=\"1\" class=\"dataframe\">\n",
              "  <thead>\n",
              "    <tr style=\"text-align: right;\">\n",
              "      <th></th>\n",
              "      <th>id</th>\n",
              "      <th>findings</th>\n",
              "      <th>impression</th>\n",
              "      <th>full-text</th>\n",
              "      <th>label</th>\n",
              "      <th>tokens</th>\n",
              "    </tr>\n",
              "  </thead>\n",
              "  <tbody>\n",
              "    <tr>\n",
              "      <th>0</th>\n",
              "      <td>3872</td>\n",
              "      <td>The cardiac contours are normal. The lungs are clear. Thoracic spondylosis.</td>\n",
              "      <td>No acute process.</td>\n",
              "      <td>The cardiac contours are normal. The lungs are clear. Thoracic spondylosis. No acute process.</td>\n",
              "      <td>abnormal</td>\n",
              "      <td>[1numNormal, 0numActive, 0numSize, 0numDisease, 1numClear, 0numHeart, 1numLung, 0numCardiomediastinal, 0numWithin, 1numContour, cardiac, contours, normal, lungs, clear, thoracic, spondylosis, NEGEX_acute, NEGEX_process]</td>\n",
              "    </tr>\n",
              "    <tr>\n",
              "      <th>1</th>\n",
              "      <td>1833</td>\n",
              "      <td>There is a small area of scarring or atelectasis in the left base. Calcified granulomas seen in the posterior right lower lobe. Lungs are otherwise clear. The heart and mediastinum are normal. The skeletal structures and soft tissues are normal.</td>\n",
              "      <td>Minimal small area scarring of the left base.</td>\n",
              "      <td>There is a small area of scarring or atelectasis in the left base. Calcified granulomas seen in the posterior right lower lobe. Lungs are otherwise clear. The heart and mediastinum are normal. The skeletal structures and soft tissues are normal. Minimal small area scarring of the left base.</td>\n",
              "      <td>abnormal</td>\n",
              "      <td>[2numNormal, 0numActive, 0numSize, 0numDisease, 1numClear, 1numHeart, 0numLung, 0numCardiomediastinal, 0numWithin, 0numContour, small, area, scarring, atelectasis, left, base, calcified, granulomas, seen, posterior, right, lower, lobe, lungs, otherwise, clear, heart, mediastinum, normal, skeletal, structures, soft, tissues, normal, minimal, small, area, scarring, left, base]</td>\n",
              "    </tr>\n",
              "    <tr>\n",
              "      <th>2</th>\n",
              "      <td>3701</td>\n",
              "      <td>Both lungs are clear and expanded. Heart and mediastinum normal.</td>\n",
              "      <td>No active disease.</td>\n",
              "      <td>Both lungs are clear and expanded. Heart and mediastinum normal. No active disease.</td>\n",
              "      <td>normal</td>\n",
              "      <td>[1numNormal, 1numActive, 0numSize, 1numDisease, 1numClear, 0numHeart, 1numLung, 0numCardiomediastinal, 0numWithin, 0numContour, lungs, clear, expanded, heart, mediastinum, normal, active, disease]</td>\n",
              "    </tr>\n",
              "    <tr>\n",
              "      <th>3</th>\n",
              "      <td>1789</td>\n",
              "      <td></td>\n",
              "      <td>Heart size is normal. Lungs are clear. Elevated right diaphragm, unchanged</td>\n",
              "      <td>Heart size is normal. Lungs are clear. Elevated right diaphragm, unchanged</td>\n",
              "      <td>abnormal</td>\n",
              "      <td>[1numNormal, 0numActive, 1numSize, 0numDisease, 1numClear, 0numHeart, 0numLung, 0numCardiomediastinal, 0numWithin, 0numContour, heart, size, normal, lungs, clear, elevated, right, diaphragm, unchanged]</td>\n",
              "    </tr>\n",
              "    <tr>\n",
              "      <th>4</th>\n",
              "      <td>3503</td>\n",
              "      <td>The heart size is normal. The mediastinal contour is within normal limits. The lungs are free of any focal infiltrates. There are no nodules or masses. No visible pneumothorax. No visible pleural fluid. The XXXX are grossly normal. There is no visible free intraperitoneal air under the diaphragm.</td>\n",
              "      <td>No acute radiographic cardiopulmonary process.</td>\n",
              "      <td>The heart size is normal. The mediastinal contour is within normal limits. The lungs are free of any focal infiltrates. There are no nodules or masses. No visible pneumothorax. No visible pleural fluid. The XXXX are grossly normal. There is no visible free intraperitoneal air under the diaphragm. No acute radiographic cardiopulmonary process.</td>\n",
              "      <td>normal</td>\n",
              "      <td>[3numNormal, 0numActive, 1numSize, 0numDisease, 0numClear, 1numHeart, 1numLung, 0numCardiomediastinal, 1numWithin, 1numContour, heart, size, normal, mediastinal, contour, within, normal, limits, NEGEX_lungs, free, NEGEX_focal, NEGEX_infiltrates, NEGEX_nodules, NEGEX_masses, visible, pneumothorax, visible, pleural, fluid, grossly, normal, visible, free, NEGEX_intraperitoneal, air, NEGEX_diaphragm, NEGEX_acute, radiographic, cardiopulmonary, process]</td>\n",
              "    </tr>\n",
              "    <tr>\n",
              "      <th>...</th>\n",
              "      <td>...</td>\n",
              "      <td>...</td>\n",
              "      <td>...</td>\n",
              "      <td>...</td>\n",
              "      <td>...</td>\n",
              "      <td>...</td>\n",
              "    </tr>\n",
              "    <tr>\n",
              "      <th>3950</th>\n",
              "      <td>508</td>\n",
              "      <td>Normal heart size and mediastinal contours. No focal airspace consolidation. No pleural effusion or pneumothorax. Visualized osseous structures are unremarkable.</td>\n",
              "      <td>No acute cardiopulmonary abnormality.</td>\n",
              "      <td>Normal heart size and mediastinal contours. No focal airspace consolidation. No pleural effusion or pneumothorax. Visualized osseous structures are unremarkable. No acute cardiopulmonary abnormality.</td>\n",
              "      <td>normal</td>\n",
              "      <td>[1numNormal, 0numActive, 1numSize, 0numDisease, 0numClear, 1numHeart, 0numLung, 0numCardiomediastinal, 0numWithin, 1numContour, normal, heart, size, mediastinal, contours, NEGEX_focal, NEGEX_airspace, NEGEX_consolidation, NEGEX_pleural, NEGEX_effusion, NEGEX_pneumothorax, visualized, osseous, structures, unremarkable, NEGEX_acute, NEGEX_cardiopulmonary, NEGEX_abnormality]</td>\n",
              "    </tr>\n",
              "    <tr>\n",
              "      <th>3951</th>\n",
              "      <td>690</td>\n",
              "      <td>Mediastinal contours are normal. Lungs are clear. There is no pneumothorax or large pleural effusion.</td>\n",
              "      <td>No acute cardiopulmonary abnormality.</td>\n",
              "      <td>Mediastinal contours are normal. Lungs are clear. There is no pneumothorax or large pleural effusion. No acute cardiopulmonary abnormality.</td>\n",
              "      <td>normal</td>\n",
              "      <td>[2numNormal, 0numActive, 0numSize, 0numDisease, 1numClear, 0numHeart, 0numLung, 0numCardiomediastinal, 0numWithin, 1numContour, mediastinal, contours, normal, lungs, clear, NEGEX_pneumothorax, large, NEGEX_pleural, NEGEX_effusion, NEGEX_acute, NEGEX_cardiopulmonary, NEGEX_abnormality]</td>\n",
              "    </tr>\n",
              "    <tr>\n",
              "      <th>3952</th>\n",
              "      <td>3470</td>\n",
              "      <td>The patient is rotated. The heart is normal in size. The pulmonary vascularity is within normal limits in appearance. No pneumothorax or pleural effusion. No focal airspace opacities. Mild degenerative changes of the thoracic spine.</td>\n",
              "      <td>No acute cardiopulmonary abnormalities.</td>\n",
              "      <td>The patient is rotated. The heart is normal in size. The pulmonary vascularity is within normal limits in appearance. No pneumothorax or pleural effusion. No focal airspace opacities. Mild degenerative changes of the thoracic spine. No acute cardiopulmonary abnormalities.</td>\n",
              "      <td>abnormal</td>\n",
              "      <td>[3numNormal, 0numActive, 1numSize, 0numDisease, 0numClear, 1numHeart, 0numLung, 0numCardiomediastinal, 1numWithin, 0numContour, patient, rotated, heart, normal, size, pulmonary, vascularity, within, normal, limits, appearance, pneumothorax, NEGEX_pleural, NEGEX_effusion, NEGEX_focal, NEGEX_airspace, NEGEX_opacities, mild, degenerative, changes, thoracic, spine, NEGEX_acute, NEGEX_cardiopulmonary, NEGEX_abnormalities]</td>\n",
              "    </tr>\n",
              "    <tr>\n",
              "      <th>3953</th>\n",
              "      <td>356</td>\n",
              "      <td>The cardiomediastinal silhouette is within normal limits for size and contour. The lungs are normally inflated without evidence of focal airspace disease, pleural effusion, or pneumothorax. Osseous structures are within normal limits for patient age..</td>\n",
              "      <td>1. No acute radiographic cardiopulmonary process.</td>\n",
              "      <td>The cardiomediastinal silhouette is within normal limits for size and contour. The lungs are normally inflated without evidence of focal airspace disease, pleural effusion, or pneumothorax. Osseous structures are within normal limits for patient age.. 1. No acute radiographic cardiopulmonary process.</td>\n",
              "      <td>normal</td>\n",
              "      <td>[3numNormal, 0numActive, 1numSize, 1numDisease, 0numClear, 0numHeart, 1numLung, 1numCardiomediastinal, 2numWithin, 1numContour, cardiomediastinal, silhouette, within, normal, limits, size, contour, lungs, normally, inflated, without, NEGEX_evidence, NEGEX_focal, NEGEX_airspace, NEGEX_disease, NEGEX_pleural, NEGEX_effusion, NEGEX_pneumothorax, osseous, structures, within, normal, limits, patient, age, .., 1, NEGEX_acute, radiographic, cardiopulmonary, process]</td>\n",
              "    </tr>\n",
              "    <tr>\n",
              "      <th>3954</th>\n",
              "      <td>267</td>\n",
              "      <td>Endotracheal tube and NG tube have been removed. Mild patchy bilateral airspace disease. There are small bilateral pleural effusions. No pneumothorax. Heart and mediastinum are stable with normal size heart. Degenerative changes in the spine.</td>\n",
              "      <td>Small bilateral pleural effusions with a few scattered areas of patchy bilateral airspace disease.</td>\n",
              "      <td>Endotracheal tube and NG tube have been removed. Mild patchy bilateral airspace disease. There are small bilateral pleural effusions. No pneumothorax. Heart and mediastinum are stable with normal size heart. Degenerative changes in the spine. Small bilateral pleural effusions with a few scattered areas of patchy bilateral airspace disease.</td>\n",
              "      <td>abnormal</td>\n",
              "      <td>[1numNormal, 0numActive, 1numSize, 2numDisease, 0numClear, 1numHeart, 0numLung, 0numCardiomediastinal, 0numWithin, 0numContour, endotracheal, tube, ng, tube, removed, mild, patchy, bilateral, airspace, disease, small, bilateral, pleural, effusions, pneumothorax, heart, mediastinum, stable, normal, size, heart, degenerative, changes, spine, small, bilateral, pleural, effusions, scattered, areas, patchy, bilateral, airspace, disease]</td>\n",
              "    </tr>\n",
              "  </tbody>\n",
              "</table>\n",
              "<p>3955 rows × 6 columns</p>\n",
              "</div>\n",
              "      <button class=\"colab-df-convert\" onclick=\"convertToInteractive('df-34ed0528-aeae-4b29-acce-5836b3e620a2')\"\n",
              "              title=\"Convert this dataframe to an interactive table.\"\n",
              "              style=\"display:none;\">\n",
              "        \n",
              "  <svg xmlns=\"http://www.w3.org/2000/svg\" height=\"24px\"viewBox=\"0 0 24 24\"\n",
              "       width=\"24px\">\n",
              "    <path d=\"M0 0h24v24H0V0z\" fill=\"none\"/>\n",
              "    <path d=\"M18.56 5.44l.94 2.06.94-2.06 2.06-.94-2.06-.94-.94-2.06-.94 2.06-2.06.94zm-11 1L8.5 8.5l.94-2.06 2.06-.94-2.06-.94L8.5 2.5l-.94 2.06-2.06.94zm10 10l.94 2.06.94-2.06 2.06-.94-2.06-.94-.94-2.06-.94 2.06-2.06.94z\"/><path d=\"M17.41 7.96l-1.37-1.37c-.4-.4-.92-.59-1.43-.59-.52 0-1.04.2-1.43.59L10.3 9.45l-7.72 7.72c-.78.78-.78 2.05 0 2.83L4 21.41c.39.39.9.59 1.41.59.51 0 1.02-.2 1.41-.59l7.78-7.78 2.81-2.81c.8-.78.8-2.07 0-2.86zM5.41 20L4 18.59l7.72-7.72 1.47 1.35L5.41 20z\"/>\n",
              "  </svg>\n",
              "      </button>\n",
              "      \n",
              "  <style>\n",
              "    .colab-df-container {\n",
              "      display:flex;\n",
              "      flex-wrap:wrap;\n",
              "      gap: 12px;\n",
              "    }\n",
              "\n",
              "    .colab-df-convert {\n",
              "      background-color: #E8F0FE;\n",
              "      border: none;\n",
              "      border-radius: 50%;\n",
              "      cursor: pointer;\n",
              "      display: none;\n",
              "      fill: #1967D2;\n",
              "      height: 32px;\n",
              "      padding: 0 0 0 0;\n",
              "      width: 32px;\n",
              "    }\n",
              "\n",
              "    .colab-df-convert:hover {\n",
              "      background-color: #E2EBFA;\n",
              "      box-shadow: 0px 1px 2px rgba(60, 64, 67, 0.3), 0px 1px 3px 1px rgba(60, 64, 67, 0.15);\n",
              "      fill: #174EA6;\n",
              "    }\n",
              "\n",
              "    [theme=dark] .colab-df-convert {\n",
              "      background-color: #3B4455;\n",
              "      fill: #D2E3FC;\n",
              "    }\n",
              "\n",
              "    [theme=dark] .colab-df-convert:hover {\n",
              "      background-color: #434B5C;\n",
              "      box-shadow: 0px 1px 3px 1px rgba(0, 0, 0, 0.15);\n",
              "      filter: drop-shadow(0px 1px 2px rgba(0, 0, 0, 0.3));\n",
              "      fill: #FFFFFF;\n",
              "    }\n",
              "  </style>\n",
              "\n",
              "      <script>\n",
              "        const buttonEl =\n",
              "          document.querySelector('#df-34ed0528-aeae-4b29-acce-5836b3e620a2 button.colab-df-convert');\n",
              "        buttonEl.style.display =\n",
              "          google.colab.kernel.accessAllowed ? 'block' : 'none';\n",
              "\n",
              "        async function convertToInteractive(key) {\n",
              "          const element = document.querySelector('#df-34ed0528-aeae-4b29-acce-5836b3e620a2');\n",
              "          const dataTable =\n",
              "            await google.colab.kernel.invokeFunction('convertToInteractive',\n",
              "                                                     [key], {});\n",
              "          if (!dataTable) return;\n",
              "\n",
              "          const docLinkHtml = 'Like what you see? Visit the ' +\n",
              "            '<a target=\"_blank\" href=https://colab.research.google.com/notebooks/data_table.ipynb>data table notebook</a>'\n",
              "            + ' to learn more about interactive tables.';\n",
              "          element.innerHTML = '';\n",
              "          dataTable['output_type'] = 'display_data';\n",
              "          await google.colab.output.renderOutput(dataTable, element);\n",
              "          const docLink = document.createElement('div');\n",
              "          docLink.innerHTML = docLinkHtml;\n",
              "          element.appendChild(docLink);\n",
              "        }\n",
              "      </script>\n",
              "    </div>\n",
              "  </div>\n",
              "  "
            ]
          },
          "metadata": {},
          "execution_count": 146
        }
      ]
    },
    {
      "cell_type": "markdown",
      "metadata": {
        "id": "V2tEqwONfclV"
      },
      "source": [
        "We will also need to process the test set for later use. Note we don't create a dictionary from the test tokens as it is may contain \"out of vocabulary words\" that would not have been seen in training. We need to simulate how our model pipeline behaves when it encounters unseen text/words."
      ]
    },
    {
      "cell_type": "code",
      "metadata": {
        "id": "0FSV_cs2fU9d"
      },
      "source": [
        "test_text = test_df[\"full-text\"].to_list()\n",
        "test_tokens = token_generator(test_text)"
      ],
      "execution_count": 147,
      "outputs": []
    },
    {
      "cell_type": "markdown",
      "metadata": {
        "id": "Nx0MthQ91wAh"
      },
      "source": [
        "# Classification model - introducing Naive Bayes"
      ]
    },
    {
      "cell_type": "markdown",
      "metadata": {
        "id": "ZS3gRR_Y2Cd8"
      },
      "source": [
        "## Theory"
      ]
    },
    {
      "cell_type": "markdown",
      "metadata": {
        "id": "V_zv9jPL3SW7"
      },
      "source": [
        "Naive Bayes (NB) derives its name from Bayes' theorem.\n",
        "\n",
        "Our objective is to classifiy a document d with the best possible class prediction, $\\hat{c}$, where $c$ is the true class of document $d$\n",
        "\n",
        "$ \\hat{c} = \\underset{c \\in C}{argmax} \\: P(c|d) = \\underset{c \\in C}{argmax} \\frac{P(d|c)P(c)}{P(d)} $\n",
        "\n",
        "$P(d)$ is a constant so we can just find the class c that maximizes the numerator of the expression\n",
        "\n",
        "$ \\hat{c} = \\underset{c \\in C}{argmax} \\: P(d|c)P(c) $\n",
        "\n",
        "$P(c)$ is readily determined - it is the frequency of class c in the training set.\n",
        "\n",
        "For $P(d|c)$, we let the words (tokens) of document d be the features that define it. We assume the order of these features does not matter (bag of words) and that the probability of a feature occurring in document d is independent of other words already inside of document d (conditional independence between every pair of tokens).\n",
        "\n",
        "Based on this $P(d|c) = P(x_{1}, x_{2},...,x_{n}| c)$ where $x_i$ are the tokens x in d. If we assume independence among these words then this probability further breaks down into:\n",
        "\n",
        "$\\prod_{i = 1}^{n}{P(x_{i}|c)}$\n",
        "\n",
        "The different variations of Naive Bayes come from the different assumptions of what we assume the probability distribution of $P(x_{i}|c)$ looks like. \n",
        "\n",
        "If we assume a multinomial distribution, then we can estimate the probability $P(x_{i}|c)$ as $\\theta_{c,i}$ where the maximum likelihood estimator for theta for a multinomial is:\n",
        "\n",
        "$\\theta_{c,i} = \\frac{N_{c,i}}{N_{c}}$\n",
        "\n",
        "where $N_{c,i}$ is the total count of the token i occurring in class c and $N_{c}$ is the number of total tokens in class c. In practice, we use an additional smoothing term to this estimator by giving an extra count of $\\alpha$ to all words. This is to account for cases in which a token does not appear in class c to avoid a 0 in our product.\n",
        "\n",
        "$\\theta_{c,i} = \\frac{N_{c,i}+\\alpha}{N_{c}+\\alpha n}$ where n is the number of unique tokens\n",
        "\n",
        "See [here](https://scikit-learn.org/stable/modules/naive_bayes.html) for more information"
      ]
    },
    {
      "cell_type": "markdown",
      "metadata": {
        "id": "STdw1x_E16bC"
      },
      "source": [
        "## Code"
      ]
    },
    {
      "cell_type": "code",
      "metadata": {
        "id": "zW90rq3WeHj5"
      },
      "source": [
        "y_train = list(map(int,(train_df['label'] != \"normal\").to_list()))\n",
        "y_test = list(map(int,(test_df['label'] != \"normal\").to_list()))"
      ],
      "execution_count": 148,
      "outputs": []
    },
    {
      "cell_type": "markdown",
      "metadata": {
        "id": "C2QWpczbsgpU"
      },
      "source": [
        "The sklearn naive bayes implementation does not take compressed representations of a sparse matrix as input, so we will have to create a sparse vector representation of our bag of words format"
      ]
    },
    {
      "cell_type": "code",
      "metadata": {
        "id": "zQ0q-IfaesbM"
      },
      "source": [
        "def sparse_vector_create(tuple_list,vocab_len):\n",
        "#tuple_list will have data structure akin to gensim dictionary doc2bow output \n",
        "  sparse_vector = np.zeros(vocab_len)\n",
        "  for id,freq in tuple_list:\n",
        "    sparse_vector[id] = freq\n",
        "  return sparse_vector\n",
        "\n",
        "def sparse_vector_generator(tokens,vocab_dict,vocab_len):\n",
        "  for token in tokens:\n",
        "    yield sparse_vector_create(vocab_dict.doc2bow(token),vocab_len)\n",
        "\n",
        "# recreate generator object to reset it , otherwise will output empty result\n",
        "train_tokens = token_generator(train_text)\n",
        "x_train_sparse = [sparse_vector for sparse_vector in sparse_vector_generator(train_tokens,train_vocab_dict,len(train_vocab_dict))]\n"
      ],
      "execution_count": 149,
      "outputs": []
    },
    {
      "cell_type": "code",
      "metadata": {
        "colab": {
          "base_uri": "https://localhost:8080/",
          "height": 74
        },
        "id": "R2wfh_v1dxA_",
        "outputId": "fa27c944-c87a-4ce1-9528-76a8edac7c4c"
      },
      "source": [
        "from sklearn import naive_bayes\n",
        "\n",
        "nb_classifier = naive_bayes.MultinomialNB(alpha=1.0)\n",
        "\n",
        "nb_classifier.fit(x_train_sparse,y_train)"
      ],
      "execution_count": 150,
      "outputs": [
        {
          "output_type": "execute_result",
          "data": {
            "text/plain": [
              "MultinomialNB()"
            ],
            "text/html": [
              "<style>#sk-container-id-3 {color: black;background-color: white;}#sk-container-id-3 pre{padding: 0;}#sk-container-id-3 div.sk-toggleable {background-color: white;}#sk-container-id-3 label.sk-toggleable__label {cursor: pointer;display: block;width: 100%;margin-bottom: 0;padding: 0.3em;box-sizing: border-box;text-align: center;}#sk-container-id-3 label.sk-toggleable__label-arrow:before {content: \"▸\";float: left;margin-right: 0.25em;color: #696969;}#sk-container-id-3 label.sk-toggleable__label-arrow:hover:before {color: black;}#sk-container-id-3 div.sk-estimator:hover label.sk-toggleable__label-arrow:before {color: black;}#sk-container-id-3 div.sk-toggleable__content {max-height: 0;max-width: 0;overflow: hidden;text-align: left;background-color: #f0f8ff;}#sk-container-id-3 div.sk-toggleable__content pre {margin: 0.2em;color: black;border-radius: 0.25em;background-color: #f0f8ff;}#sk-container-id-3 input.sk-toggleable__control:checked~div.sk-toggleable__content {max-height: 200px;max-width: 100%;overflow: auto;}#sk-container-id-3 input.sk-toggleable__control:checked~label.sk-toggleable__label-arrow:before {content: \"▾\";}#sk-container-id-3 div.sk-estimator input.sk-toggleable__control:checked~label.sk-toggleable__label {background-color: #d4ebff;}#sk-container-id-3 div.sk-label input.sk-toggleable__control:checked~label.sk-toggleable__label {background-color: #d4ebff;}#sk-container-id-3 input.sk-hidden--visually {border: 0;clip: rect(1px 1px 1px 1px);clip: rect(1px, 1px, 1px, 1px);height: 1px;margin: -1px;overflow: hidden;padding: 0;position: absolute;width: 1px;}#sk-container-id-3 div.sk-estimator {font-family: monospace;background-color: #f0f8ff;border: 1px dotted black;border-radius: 0.25em;box-sizing: border-box;margin-bottom: 0.5em;}#sk-container-id-3 div.sk-estimator:hover {background-color: #d4ebff;}#sk-container-id-3 div.sk-parallel-item::after {content: \"\";width: 100%;border-bottom: 1px solid gray;flex-grow: 1;}#sk-container-id-3 div.sk-label:hover label.sk-toggleable__label {background-color: #d4ebff;}#sk-container-id-3 div.sk-serial::before {content: \"\";position: absolute;border-left: 1px solid gray;box-sizing: border-box;top: 0;bottom: 0;left: 50%;z-index: 0;}#sk-container-id-3 div.sk-serial {display: flex;flex-direction: column;align-items: center;background-color: white;padding-right: 0.2em;padding-left: 0.2em;position: relative;}#sk-container-id-3 div.sk-item {position: relative;z-index: 1;}#sk-container-id-3 div.sk-parallel {display: flex;align-items: stretch;justify-content: center;background-color: white;position: relative;}#sk-container-id-3 div.sk-item::before, #sk-container-id-3 div.sk-parallel-item::before {content: \"\";position: absolute;border-left: 1px solid gray;box-sizing: border-box;top: 0;bottom: 0;left: 50%;z-index: -1;}#sk-container-id-3 div.sk-parallel-item {display: flex;flex-direction: column;z-index: 1;position: relative;background-color: white;}#sk-container-id-3 div.sk-parallel-item:first-child::after {align-self: flex-end;width: 50%;}#sk-container-id-3 div.sk-parallel-item:last-child::after {align-self: flex-start;width: 50%;}#sk-container-id-3 div.sk-parallel-item:only-child::after {width: 0;}#sk-container-id-3 div.sk-dashed-wrapped {border: 1px dashed gray;margin: 0 0.4em 0.5em 0.4em;box-sizing: border-box;padding-bottom: 0.4em;background-color: white;}#sk-container-id-3 div.sk-label label {font-family: monospace;font-weight: bold;display: inline-block;line-height: 1.2em;}#sk-container-id-3 div.sk-label-container {text-align: center;}#sk-container-id-3 div.sk-container {/* jupyter's `normalize.less` sets `[hidden] { display: none; }` but bootstrap.min.css set `[hidden] { display: none !important; }` so we also need the `!important` here to be able to override the default hidden behavior on the sphinx rendered scikit-learn.org. See: https://github.com/scikit-learn/scikit-learn/issues/21755 */display: inline-block !important;position: relative;}#sk-container-id-3 div.sk-text-repr-fallback {display: none;}</style><div id=\"sk-container-id-3\" class=\"sk-top-container\"><div class=\"sk-text-repr-fallback\"><pre>MultinomialNB()</pre><b>In a Jupyter environment, please rerun this cell to show the HTML representation or trust the notebook. <br />On GitHub, the HTML representation is unable to render, please try loading this page with nbviewer.org.</b></div><div class=\"sk-container\" hidden><div class=\"sk-item\"><div class=\"sk-estimator sk-toggleable\"><input class=\"sk-toggleable__control sk-hidden--visually\" id=\"sk-estimator-id-3\" type=\"checkbox\" checked><label for=\"sk-estimator-id-3\" class=\"sk-toggleable__label sk-toggleable__label-arrow\">MultinomialNB</label><div class=\"sk-toggleable__content\"><pre>MultinomialNB()</pre></div></div></div></div></div>"
            ]
          },
          "metadata": {},
          "execution_count": 150
        }
      ]
    },
    {
      "cell_type": "markdown",
      "metadata": {
        "id": "1rYR3aLUs0Vk"
      },
      "source": [
        "Let's try running our model on the test set. The test set may have words that are not included in the training vocabulary, so we will need 1 additional preprocessing step to handle such out-of-vocabulary words. The simplest approach is to simply ignore such words. The gensim dictionary doc2bow function automatically ignores out of vocabulary words.\n",
        "\n",
        "Other tokenization techniques (especially sub-word or character level) may avoid this issue all together by ensuring any string of text encontered is able to be tokenized and thus included into the vocabulary."
      ]
    },
    {
      "cell_type": "code",
      "metadata": {
        "colab": {
          "base_uri": "https://localhost:8080/"
        },
        "id": "tL5JHCiVh8E_",
        "outputId": "91571f5c-1ea2-41dc-a661-4c3294685a0f"
      },
      "source": [
        "# doc2bow ignores out of vocabulary words\n",
        "train_vocab_dict.doc2bow([\"madeupword\"])"
      ],
      "execution_count": 151,
      "outputs": [
        {
          "output_type": "execute_result",
          "data": {
            "text/plain": [
              "[]"
            ]
          },
          "metadata": {},
          "execution_count": 151
        }
      ]
    },
    {
      "cell_type": "code",
      "metadata": {
        "id": "ZUywn0YpszSh"
      },
      "source": [
        "# basically the same code as the training version above but we're not storing each iteration of the for loop into an array\n",
        "\n",
        "test_tokens = token_generator(test_text)\n",
        "nb_predictions = list()\n",
        "\n",
        "for token in test_tokens:\n",
        "  test_sparse_vector = sparse_vector_create(train_vocab_dict.doc2bow(token),len(train_vocab_dict))\n",
        "  nb_predictions.append(nb_classifier.predict(test_sparse_vector.reshape(1,-1))[0])\n",
        " "
      ],
      "execution_count": 152,
      "outputs": []
    },
    {
      "cell_type": "markdown",
      "metadata": {
        "id": "J16it1OP_ydm"
      },
      "source": [
        "# More on sparse word vectors - term frequency inverse document frequency (tf-idf)"
      ]
    },
    {
      "cell_type": "markdown",
      "metadata": {
        "id": "JfjWcj7SAnJR"
      },
      "source": [
        "## Theory"
      ]
    },
    {
      "cell_type": "markdown",
      "metadata": {
        "id": "tn0jAUfHW5ZU"
      },
      "source": [
        "### tfidf\n",
        "\n",
        "Earlier we created vectors of raw term counts with respect to each document. These were called sparse vectors because they were largely 0 as many unique words tend to not show up in may documents and thus the counts of those words was 0 for most documents - represented as a 0 in the term vector in the corresponding index for that word.\n",
        "\n",
        "There is a related concept called term frequency-inverse document frequency. We start with related quantity to term count: the term frequency. For a given document d and term t, the term frequency(tf) is is $\\frac{f_{t,d}}{\\sum_{t' \\in d}{f_{t',d}}}$ where the denominator is just the number of words/terms in the document. Sometimes we prefer using the log of the tf term as importance of a term does not increase linearly but rather \"peaks\" after a certain point.\n",
        "\n",
        "We then multiply this \"tf\" by another term - the inverse document frequency (idf) which is usually $log{\\frac{N}{n_t}}$ where N is number of total documents and $n_t$ is number of documents that contain the term t.\n",
        "\n",
        "For an unseen document, the tf is readily calculated. The idf for the terms in the document however uses the weighting learned from the training data.\n",
        "\n",
        "More on sklearn [tfidf](https://scikit-learn.org/stable/modules/generated/sklearn.feature_extraction.text.TfidfTransformer.html)"
      ]
    },
    {
      "cell_type": "markdown",
      "metadata": {
        "id": "NmC0HOIUeHL8"
      },
      "source": [
        "### Support Vector Machine (SVM)\n",
        "\n"
      ]
    },
    {
      "cell_type": "markdown",
      "metadata": {
        "id": "SAcgfh9Dcqjk"
      },
      "source": [
        "The theory behind SVM is outside of the scope of this tutorial. However intuitively SVM classifiers classify data by finding a \"hyper-plane\" that separates two classes of data. One can think of a hyper plane as the multidimensional generalization of a line which the equivalent of a hyperplane for 2D space, or a plane which is the hyperplane for 3D space. The hyperplane is basically a linear \"plane\" in N dimensional space that separates the space into two sections (hence the plane being N-1 dimensional). The optimization objective for SVM is set such that it will choose a hyperplane by finding the plane that has the maximum \"margin\" between the two classes i.e. the largest distance between the plane and the closest data point of each class."
      ]
    },
    {
      "cell_type": "markdown",
      "metadata": {
        "id": "ECqSWs6q_0oV"
      },
      "source": [
        "## Code"
      ]
    },
    {
      "cell_type": "markdown",
      "metadata": {
        "id": "LJkXCj8t52UZ"
      },
      "source": [
        "The sklearn library readily comes with implementation of [tfidf](https://scikit-learn.org/stable/modules/generated/sklearn.feature_extraction.text.TfidfTransformer.html) and [SVM](https://scikit-learn.org/stable/modules/generated/sklearn.svm.SVC.html) which we will use here."
      ]
    },
    {
      "cell_type": "code",
      "metadata": {
        "id": "QgD87-CM7TQ9"
      },
      "source": [
        "from sklearn.feature_extraction.text import TfidfTransformer\n",
        "tfidf = TfidfTransformer(use_idf=True, smooth_idf = True,sublinear_tf = True)\n",
        "tfidf.fit(x_train_sparse)\n",
        "x_train_tfidf= tfidf.transform(x_train_sparse)"
      ],
      "execution_count": 153,
      "outputs": []
    },
    {
      "cell_type": "code",
      "metadata": {
        "colab": {
          "base_uri": "https://localhost:8080/",
          "height": 74
        },
        "id": "d2YjvOT4EJOX",
        "outputId": "8b436655-5388-4712-a3eb-bc4ed5206748"
      },
      "source": [
        "from sklearn import svm\n",
        "\n",
        "SVM = svm.SVC(C=1.0,kernel ='linear')\n",
        "SVM.fit(x_train_tfidf,y_train)"
      ],
      "execution_count": 154,
      "outputs": [
        {
          "output_type": "execute_result",
          "data": {
            "text/plain": [
              "SVC(kernel='linear')"
            ],
            "text/html": [
              "<style>#sk-container-id-4 {color: black;background-color: white;}#sk-container-id-4 pre{padding: 0;}#sk-container-id-4 div.sk-toggleable {background-color: white;}#sk-container-id-4 label.sk-toggleable__label {cursor: pointer;display: block;width: 100%;margin-bottom: 0;padding: 0.3em;box-sizing: border-box;text-align: center;}#sk-container-id-4 label.sk-toggleable__label-arrow:before {content: \"▸\";float: left;margin-right: 0.25em;color: #696969;}#sk-container-id-4 label.sk-toggleable__label-arrow:hover:before {color: black;}#sk-container-id-4 div.sk-estimator:hover label.sk-toggleable__label-arrow:before {color: black;}#sk-container-id-4 div.sk-toggleable__content {max-height: 0;max-width: 0;overflow: hidden;text-align: left;background-color: #f0f8ff;}#sk-container-id-4 div.sk-toggleable__content pre {margin: 0.2em;color: black;border-radius: 0.25em;background-color: #f0f8ff;}#sk-container-id-4 input.sk-toggleable__control:checked~div.sk-toggleable__content {max-height: 200px;max-width: 100%;overflow: auto;}#sk-container-id-4 input.sk-toggleable__control:checked~label.sk-toggleable__label-arrow:before {content: \"▾\";}#sk-container-id-4 div.sk-estimator input.sk-toggleable__control:checked~label.sk-toggleable__label {background-color: #d4ebff;}#sk-container-id-4 div.sk-label input.sk-toggleable__control:checked~label.sk-toggleable__label {background-color: #d4ebff;}#sk-container-id-4 input.sk-hidden--visually {border: 0;clip: rect(1px 1px 1px 1px);clip: rect(1px, 1px, 1px, 1px);height: 1px;margin: -1px;overflow: hidden;padding: 0;position: absolute;width: 1px;}#sk-container-id-4 div.sk-estimator {font-family: monospace;background-color: #f0f8ff;border: 1px dotted black;border-radius: 0.25em;box-sizing: border-box;margin-bottom: 0.5em;}#sk-container-id-4 div.sk-estimator:hover {background-color: #d4ebff;}#sk-container-id-4 div.sk-parallel-item::after {content: \"\";width: 100%;border-bottom: 1px solid gray;flex-grow: 1;}#sk-container-id-4 div.sk-label:hover label.sk-toggleable__label {background-color: #d4ebff;}#sk-container-id-4 div.sk-serial::before {content: \"\";position: absolute;border-left: 1px solid gray;box-sizing: border-box;top: 0;bottom: 0;left: 50%;z-index: 0;}#sk-container-id-4 div.sk-serial {display: flex;flex-direction: column;align-items: center;background-color: white;padding-right: 0.2em;padding-left: 0.2em;position: relative;}#sk-container-id-4 div.sk-item {position: relative;z-index: 1;}#sk-container-id-4 div.sk-parallel {display: flex;align-items: stretch;justify-content: center;background-color: white;position: relative;}#sk-container-id-4 div.sk-item::before, #sk-container-id-4 div.sk-parallel-item::before {content: \"\";position: absolute;border-left: 1px solid gray;box-sizing: border-box;top: 0;bottom: 0;left: 50%;z-index: -1;}#sk-container-id-4 div.sk-parallel-item {display: flex;flex-direction: column;z-index: 1;position: relative;background-color: white;}#sk-container-id-4 div.sk-parallel-item:first-child::after {align-self: flex-end;width: 50%;}#sk-container-id-4 div.sk-parallel-item:last-child::after {align-self: flex-start;width: 50%;}#sk-container-id-4 div.sk-parallel-item:only-child::after {width: 0;}#sk-container-id-4 div.sk-dashed-wrapped {border: 1px dashed gray;margin: 0 0.4em 0.5em 0.4em;box-sizing: border-box;padding-bottom: 0.4em;background-color: white;}#sk-container-id-4 div.sk-label label {font-family: monospace;font-weight: bold;display: inline-block;line-height: 1.2em;}#sk-container-id-4 div.sk-label-container {text-align: center;}#sk-container-id-4 div.sk-container {/* jupyter's `normalize.less` sets `[hidden] { display: none; }` but bootstrap.min.css set `[hidden] { display: none !important; }` so we also need the `!important` here to be able to override the default hidden behavior on the sphinx rendered scikit-learn.org. See: https://github.com/scikit-learn/scikit-learn/issues/21755 */display: inline-block !important;position: relative;}#sk-container-id-4 div.sk-text-repr-fallback {display: none;}</style><div id=\"sk-container-id-4\" class=\"sk-top-container\"><div class=\"sk-text-repr-fallback\"><pre>SVC(kernel=&#x27;linear&#x27;)</pre><b>In a Jupyter environment, please rerun this cell to show the HTML representation or trust the notebook. <br />On GitHub, the HTML representation is unable to render, please try loading this page with nbviewer.org.</b></div><div class=\"sk-container\" hidden><div class=\"sk-item\"><div class=\"sk-estimator sk-toggleable\"><input class=\"sk-toggleable__control sk-hidden--visually\" id=\"sk-estimator-id-4\" type=\"checkbox\" checked><label for=\"sk-estimator-id-4\" class=\"sk-toggleable__label sk-toggleable__label-arrow\">SVC</label><div class=\"sk-toggleable__content\"><pre>SVC(kernel=&#x27;linear&#x27;)</pre></div></div></div></div></div>"
            ]
          },
          "metadata": {},
          "execution_count": 154
        }
      ]
    },
    {
      "cell_type": "code",
      "metadata": {
        "id": "9DV7LL9xIFkB"
      },
      "source": [
        "test_tokens = token_generator(test_text)\n",
        "svm_predictions = list()\n",
        "\n",
        "for token in test_tokens:\n",
        "  test_sparse_vector = sparse_vector_create(train_vocab_dict.doc2bow(token),len(train_vocab_dict))\n",
        "  x_test_tfidf = tfidf.transform(test_sparse_vector.reshape(1,-1))\n",
        "  svm_predictions.append(SVM.predict(x_test_tfidf)[0])\n",
        "  "
      ],
      "execution_count": 155,
      "outputs": []
    },
    {
      "cell_type": "markdown",
      "metadata": {
        "id": "UZ3gwLdk3XQD"
      },
      "source": [
        "# Where to next?\n",
        "So far we have only examined sparse word vectors. That is, vector representations of words that contain many 0's and sparsely contain data. This may perform adequately for the models presented, but for many cases, working with large-dimension vectors can be a large problem due to high memory usage and computational cost.\n",
        "\n",
        "There has been work done to create dense vectors of words based on \"distributed\" representations (aka based on word distribution). These vectors are are usually only several tens to hundreds of dimensions long as opposed to many thousands. Earlier approaches for doing so include Word2vec and GloVe which create static vectors for word representations. Newer embedding approaches integrate context into embedding creation such as seen in ELMo or BERT's embedding process. \n",
        "\n",
        "Popular deep learning architectures for analyzing text include convolutional neural networks, recurrent neural networks and its cousins LSTM and GRU as well as the more recent transformer model. Deep learning approaches to NLP start with converting words into a vector in an embedding layer, often using one of the aforementioned techniques. We will not explore deep learning approaches to NLP in this tutorial, but since we have mentioned a number of popular NLP packages, we will also mention [HuggingFace](https://huggingface.co/) for their extensive NLP deep learning library. "
      ]
    },
    {
      "cell_type": "markdown",
      "metadata": {
        "id": "kJxrGbD62U26"
      },
      "source": [
        "# Evaluation\n",
        "\n",
        "Evaluation of model performance is a very important part of the NLP pipeline. Common metrics (for classification) include sensitivity (recall), specificity, positive predictive value (precision), and the F1 score. These quantities can be derived from a \"confusion matrix\" which is simply a matrix that tabulates model classification results into the categories of true negatives, false positives, false negatives, and true positives.\n",
        "\n",
        "For sklearn confusion matrix, the format is - row i is actual class, row j is predicted class. For our case, 0 - normal, 1 - abnormal. thus $C_{0,0}$ is true negatives, $C_{0,1}$ is false positive, $C_{1,0}$ is false negative, $C_{1,1}$ is true positives where $C_{i,j}$ refers to element in row i and column j. In this example, a \"positive\" label by the model is the equivalent of flagging an example as \"abnormal\".\n",
        "\n",
        "Note we cannot naturally generate a ROC curve for Naive Bayes or SVM as ROC curves require some threshold (usually some \"probability\" cut off for prediction of one class or another) but Naive Bayes simply compares two(or more) quantities with each other to determine class. While using relative comparisons works reasonably well, the numerical value of these outputs is unstable and unsuitable for a fixed cutoff."
      ]
    },
    {
      "cell_type": "code",
      "metadata": {
        "id": "qO3zQ04dnziV",
        "colab": {
          "base_uri": "https://localhost:8080/"
        },
        "outputId": "aba12dbc-a40a-4048-ca9d-a50b623b1b06"
      },
      "source": [
        "from sklearn import metrics\n",
        "\n",
        "class metric_calc:\n",
        "  def __init__(self, y,y_hat):\n",
        "  # y is true label, y_hat is predicted label\n",
        "    self.y_hat = y_hat\n",
        "    self.y = y\n",
        "    conf_matrix = metrics.confusion_matrix(y,y_hat)\n",
        "    \n",
        "    self.true_neg = conf_matrix[0][0]\n",
        "    self.false_pos = conf_matrix[0][1]\n",
        "    self.false_neg = conf_matrix[1][0]\n",
        "    self.true_pos = conf_matrix[1][1]\n",
        "\n",
        "  def conf_matrix_values(self):\n",
        "    print(f\"TN: {self.true_neg}, FP: {self.false_pos}, FN: {self.false_neg} TP: {self.true_pos}\")\n",
        "\n",
        "  def sens_spec(self):\n",
        "    sens = self.true_pos/(self.true_pos+self.false_neg)\n",
        "    spec = self.true_neg/(self.true_neg+self.false_pos)\n",
        "    print(f\"Sensitivity (aka recall) is {sens:.4f}\")\n",
        "    print(f\"Specificity is {spec:.4f}\")\n",
        "\n",
        "  def incorrect_index(self):\n",
        "    # return indices of examples that are incorrectly predicted\n",
        "    index = list()\n",
        "    for i,label in enumerate(self.y):\n",
        "      if label != self.y_hat[i]:\n",
        "        index.append(i)\n",
        "    return index\n",
        "\n",
        "\n",
        "print(\"Naive Bayes\")\n",
        "nb_metric = metric_calc(y_test,nb_predictions)\n",
        "nb_metric.conf_matrix_values()\n",
        "nb_metric.sens_spec()\n",
        "\n",
        "print(\"SVM\")\n",
        "svm_metric = metric_calc(y_test,svm_predictions)\n",
        "svm_metric.conf_matrix_values()\n",
        "svm_metric.sens_spec()"
      ],
      "execution_count": 156,
      "outputs": [
        {
          "output_type": "stream",
          "name": "stdout",
          "text": [
            "Naive Bayes\n",
            "TN: 219, FP: 4, FN: 46 TP: 325\n",
            "Sensitivity (aka recall) is 0.8760\n",
            "Specificity is 0.9821\n",
            "SVM\n",
            "TN: 217, FP: 6, FN: 4 TP: 367\n",
            "Sensitivity (aka recall) is 0.9892\n",
            "Specificity is 0.9731\n"
          ]
        }
      ]
    },
    {
      "cell_type": "code",
      "source": [
        "len(nb_predictions)"
      ],
      "metadata": {
        "colab": {
          "base_uri": "https://localhost:8080/"
        },
        "id": "r6aWU0u6fPTm",
        "outputId": "9521ad9d-dfa9-42e2-dd5d-e5038e00c00e"
      },
      "execution_count": 157,
      "outputs": [
        {
          "output_type": "execute_result",
          "data": {
            "text/plain": [
              "594"
            ]
          },
          "metadata": {},
          "execution_count": 157
        }
      ]
    },
    {
      "cell_type": "markdown",
      "metadata": {
        "id": "LWrHXW7Wwj88"
      },
      "source": [
        "# Manual examination of model\n",
        "\n",
        "Sometimes it is helpful (or simply entertaining) to try inserting your own free text into a NLP model and seeing how it behaves"
      ]
    },
    {
      "cell_type": "code",
      "metadata": {
        "id": "eC6LqmCcr11r",
        "colab": {
          "base_uri": "https://localhost:8080/"
        },
        "outputId": "80c108ab-fc3b-4523-bd6b-5ef9a93d8873"
      },
      "source": [
        "#@title Try entering some free text for classification via the classifiers we trained\n",
        "user_text = \"no disease\" #@param {type:\"string\"}\n",
        "user_token = preprocess(nlp,user_text)\n",
        "user_sparse_vector = sparse_vector_create(train_vocab_dict.doc2bow(user_token),len(train_vocab_dict))\n",
        "user_nb_prediction = nb_classifier.predict(user_sparse_vector.reshape(1,-1))[0]\n",
        "user_svm_prediction = SVM.predict(user_sparse_vector.reshape(1,-1))[0]\n",
        "\n",
        "print(\"Convention used - 0 is normal, 1 is abnormal\")\n",
        "print(f\"Naive Bayes: {user_nb_prediction}\")\n",
        "print(f\"SVM: {user_svm_prediction}\")"
      ],
      "execution_count": 158,
      "outputs": [
        {
          "output_type": "stream",
          "name": "stdout",
          "text": [
            "Convention used - 0 is normal, 1 is abnormal\n",
            "Naive Bayes: 0\n",
            "SVM: 0\n"
          ]
        }
      ]
    },
    {
      "cell_type": "markdown",
      "metadata": {
        "id": "AVnGEqzcO1ZE"
      },
      "source": [
        "## Error Analysis\n",
        "\n",
        "Manual examination of model errors for systematic errors is also an important post evaluation step."
      ]
    },
    {
      "cell_type": "code",
      "metadata": {
        "id": "F17is6e3L1l5",
        "colab": {
          "base_uri": "https://localhost:8080/",
          "height": 615
        },
        "outputId": "ee168229-62ae-41a7-97bd-cd7180e4e8cf"
      },
      "source": [
        "troubleshoot_df = test_df.iloc[svm_metric.incorrect_index()][[\"full-text\",\"label\"]]\n",
        "troubleshoot_df[\"SVM\"] = [svm_predictions[i] for i in svm_metric.incorrect_index()]\n",
        "troubleshoot_df"
      ],
      "execution_count": 159,
      "outputs": [
        {
          "output_type": "execute_result",
          "data": {
            "text/plain": [
              "                                                                                                                                                                                                                                                                                                                                                                                       full-text  \\\n",
              "1198  The aortic XXXX, cardiac apex, and stomach are left-sided. Cardiomediastinal silhouette is within normal limits in overall size and appearance. Pulmonary vascular markings are symmetric and within normal limits. The lungs are normally inflated with no focal airspace disease, pleural effusion, or pneumothorax. No acute bony abnormality. 1. No acute cardiopulmonary process.       \n",
              "2175  Heart size is within normal limits. Aorta is tortuous. Remainder of the cardiomediastinal silhouette is normal. Lungs are clear bilaterally without pleural effusion or pneumothorax. No bony abnormalities. No active disease.                                                                                                                                                              \n",
              "3269  Heart XXXX, mediastinum, XXXX, bony structures and lung XXXX are unremarkable. No significant interval change compared to prior study, no XXXX infiltrates noted. No radiographic evidence of acute cardiopulmonary disease                                                                                                                                                                  \n",
              "3704  XXXX XXXX and lateral chest examination was obtained. The heart silhouette and mediastinal contours are not enlarged. Removal of 2 left-sided chest tubes. There is no pneumothorax. Lungs demonstrate no acute findings. There is minimal posterior pleural effusions. 1. No pneumothorax following removal of left-sided chest tubes.                                                      \n",
              "2645  The heart is normal in size. The mediastinum is unremarkable. The lungs are clear. No acute disease.                                                                                                                                                                                                                                                                                         \n",
              "1004  The heart size and pulmonary vascularity appear within normal limits. Lungs are free of focal airspace disease. No pleural effusion or pneumothorax is seen. No discrete nodules or adenopathy are noted. Degenerative changes are present in the spine. No evidence of active disease.                                                                                                      \n",
              "1559  XXXX XXXX and lateral views of the chest were obtained on 02/010/XXXX. The lung volumes are normal. The lungs are clear and there are no pleural effusions. There is stable mild tenting of the medial aspect of the right diaphragm. The mediastinum and pulmonary XXXX are normal. The bony elements are not remarkable. No acute cardiopulmonary abnormalities are seen. END OF REPORT.   \n",
              "3747  The cardiomediastinal silhouette is within normal limits. The lungs are clear without areas of focal consolidation. No pneumothorax or pleural effusion. XXXX lucency under the right hemidiaphragm may represent a focus of free air. 1. XXXX lucency under the right hemidiaphragm may represent free intraperitoneal air. Left lateral decubitus film may be helpful. 2. Clear lungs.     \n",
              "1485   Heart size upper limits normal. Sternotomy. Right-sided aortic XXXX. Lungs are clear.                                                                                                                                                                                                                                                                                                       \n",
              "1936  The lungs are clear. The heart and pulmonary XXXX appear normal. Pleural spaces are clear. The mediastinal contours are normal. Bony overlap in the lung apices could obscure a small pulmonary nodule. No acute cardiopulmonary disease                                                                                                                                                     \n",
              "\n",
              "         label  SVM  \n",
              "1198  normal    1    \n",
              "2175  abnormal  0    \n",
              "3269  normal    1    \n",
              "3704  abnormal  0    \n",
              "2645  abnormal  0    \n",
              "1004  normal    1    \n",
              "1559  normal    1    \n",
              "3747  normal    1    \n",
              "1485  normal    1    \n",
              "1936  abnormal  0    "
            ],
            "text/html": [
              "\n",
              "  <div id=\"df-8307764d-fdd1-4430-a3da-afe3ec33ef22\">\n",
              "    <div class=\"colab-df-container\">\n",
              "      <div>\n",
              "<style scoped>\n",
              "    .dataframe tbody tr th:only-of-type {\n",
              "        vertical-align: middle;\n",
              "    }\n",
              "\n",
              "    .dataframe tbody tr th {\n",
              "        vertical-align: top;\n",
              "    }\n",
              "\n",
              "    .dataframe thead th {\n",
              "        text-align: right;\n",
              "    }\n",
              "</style>\n",
              "<table border=\"1\" class=\"dataframe\">\n",
              "  <thead>\n",
              "    <tr style=\"text-align: right;\">\n",
              "      <th></th>\n",
              "      <th>full-text</th>\n",
              "      <th>label</th>\n",
              "      <th>SVM</th>\n",
              "    </tr>\n",
              "  </thead>\n",
              "  <tbody>\n",
              "    <tr>\n",
              "      <th>1198</th>\n",
              "      <td>The aortic XXXX, cardiac apex, and stomach are left-sided. Cardiomediastinal silhouette is within normal limits in overall size and appearance. Pulmonary vascular markings are symmetric and within normal limits. The lungs are normally inflated with no focal airspace disease, pleural effusion, or pneumothorax. No acute bony abnormality. 1. No acute cardiopulmonary process.</td>\n",
              "      <td>normal</td>\n",
              "      <td>1</td>\n",
              "    </tr>\n",
              "    <tr>\n",
              "      <th>2175</th>\n",
              "      <td>Heart size is within normal limits. Aorta is tortuous. Remainder of the cardiomediastinal silhouette is normal. Lungs are clear bilaterally without pleural effusion or pneumothorax. No bony abnormalities. No active disease.</td>\n",
              "      <td>abnormal</td>\n",
              "      <td>0</td>\n",
              "    </tr>\n",
              "    <tr>\n",
              "      <th>3269</th>\n",
              "      <td>Heart XXXX, mediastinum, XXXX, bony structures and lung XXXX are unremarkable. No significant interval change compared to prior study, no XXXX infiltrates noted. No radiographic evidence of acute cardiopulmonary disease</td>\n",
              "      <td>normal</td>\n",
              "      <td>1</td>\n",
              "    </tr>\n",
              "    <tr>\n",
              "      <th>3704</th>\n",
              "      <td>XXXX XXXX and lateral chest examination was obtained. The heart silhouette and mediastinal contours are not enlarged. Removal of 2 left-sided chest tubes. There is no pneumothorax. Lungs demonstrate no acute findings. There is minimal posterior pleural effusions. 1. No pneumothorax following removal of left-sided chest tubes.</td>\n",
              "      <td>abnormal</td>\n",
              "      <td>0</td>\n",
              "    </tr>\n",
              "    <tr>\n",
              "      <th>2645</th>\n",
              "      <td>The heart is normal in size. The mediastinum is unremarkable. The lungs are clear. No acute disease.</td>\n",
              "      <td>abnormal</td>\n",
              "      <td>0</td>\n",
              "    </tr>\n",
              "    <tr>\n",
              "      <th>1004</th>\n",
              "      <td>The heart size and pulmonary vascularity appear within normal limits. Lungs are free of focal airspace disease. No pleural effusion or pneumothorax is seen. No discrete nodules or adenopathy are noted. Degenerative changes are present in the spine. No evidence of active disease.</td>\n",
              "      <td>normal</td>\n",
              "      <td>1</td>\n",
              "    </tr>\n",
              "    <tr>\n",
              "      <th>1559</th>\n",
              "      <td>XXXX XXXX and lateral views of the chest were obtained on 02/010/XXXX. The lung volumes are normal. The lungs are clear and there are no pleural effusions. There is stable mild tenting of the medial aspect of the right diaphragm. The mediastinum and pulmonary XXXX are normal. The bony elements are not remarkable. No acute cardiopulmonary abnormalities are seen. END OF REPORT.</td>\n",
              "      <td>normal</td>\n",
              "      <td>1</td>\n",
              "    </tr>\n",
              "    <tr>\n",
              "      <th>3747</th>\n",
              "      <td>The cardiomediastinal silhouette is within normal limits. The lungs are clear without areas of focal consolidation. No pneumothorax or pleural effusion. XXXX lucency under the right hemidiaphragm may represent a focus of free air. 1. XXXX lucency under the right hemidiaphragm may represent free intraperitoneal air. Left lateral decubitus film may be helpful. 2. Clear lungs.</td>\n",
              "      <td>normal</td>\n",
              "      <td>1</td>\n",
              "    </tr>\n",
              "    <tr>\n",
              "      <th>1485</th>\n",
              "      <td>Heart size upper limits normal. Sternotomy. Right-sided aortic XXXX. Lungs are clear.</td>\n",
              "      <td>normal</td>\n",
              "      <td>1</td>\n",
              "    </tr>\n",
              "    <tr>\n",
              "      <th>1936</th>\n",
              "      <td>The lungs are clear. The heart and pulmonary XXXX appear normal. Pleural spaces are clear. The mediastinal contours are normal. Bony overlap in the lung apices could obscure a small pulmonary nodule. No acute cardiopulmonary disease</td>\n",
              "      <td>abnormal</td>\n",
              "      <td>0</td>\n",
              "    </tr>\n",
              "  </tbody>\n",
              "</table>\n",
              "</div>\n",
              "      <button class=\"colab-df-convert\" onclick=\"convertToInteractive('df-8307764d-fdd1-4430-a3da-afe3ec33ef22')\"\n",
              "              title=\"Convert this dataframe to an interactive table.\"\n",
              "              style=\"display:none;\">\n",
              "        \n",
              "  <svg xmlns=\"http://www.w3.org/2000/svg\" height=\"24px\"viewBox=\"0 0 24 24\"\n",
              "       width=\"24px\">\n",
              "    <path d=\"M0 0h24v24H0V0z\" fill=\"none\"/>\n",
              "    <path d=\"M18.56 5.44l.94 2.06.94-2.06 2.06-.94-2.06-.94-.94-2.06-.94 2.06-2.06.94zm-11 1L8.5 8.5l.94-2.06 2.06-.94-2.06-.94L8.5 2.5l-.94 2.06-2.06.94zm10 10l.94 2.06.94-2.06 2.06-.94-2.06-.94-.94-2.06-.94 2.06-2.06.94z\"/><path d=\"M17.41 7.96l-1.37-1.37c-.4-.4-.92-.59-1.43-.59-.52 0-1.04.2-1.43.59L10.3 9.45l-7.72 7.72c-.78.78-.78 2.05 0 2.83L4 21.41c.39.39.9.59 1.41.59.51 0 1.02-.2 1.41-.59l7.78-7.78 2.81-2.81c.8-.78.8-2.07 0-2.86zM5.41 20L4 18.59l7.72-7.72 1.47 1.35L5.41 20z\"/>\n",
              "  </svg>\n",
              "      </button>\n",
              "      \n",
              "  <style>\n",
              "    .colab-df-container {\n",
              "      display:flex;\n",
              "      flex-wrap:wrap;\n",
              "      gap: 12px;\n",
              "    }\n",
              "\n",
              "    .colab-df-convert {\n",
              "      background-color: #E8F0FE;\n",
              "      border: none;\n",
              "      border-radius: 50%;\n",
              "      cursor: pointer;\n",
              "      display: none;\n",
              "      fill: #1967D2;\n",
              "      height: 32px;\n",
              "      padding: 0 0 0 0;\n",
              "      width: 32px;\n",
              "    }\n",
              "\n",
              "    .colab-df-convert:hover {\n",
              "      background-color: #E2EBFA;\n",
              "      box-shadow: 0px 1px 2px rgba(60, 64, 67, 0.3), 0px 1px 3px 1px rgba(60, 64, 67, 0.15);\n",
              "      fill: #174EA6;\n",
              "    }\n",
              "\n",
              "    [theme=dark] .colab-df-convert {\n",
              "      background-color: #3B4455;\n",
              "      fill: #D2E3FC;\n",
              "    }\n",
              "\n",
              "    [theme=dark] .colab-df-convert:hover {\n",
              "      background-color: #434B5C;\n",
              "      box-shadow: 0px 1px 3px 1px rgba(0, 0, 0, 0.15);\n",
              "      filter: drop-shadow(0px 1px 2px rgba(0, 0, 0, 0.3));\n",
              "      fill: #FFFFFF;\n",
              "    }\n",
              "  </style>\n",
              "\n",
              "      <script>\n",
              "        const buttonEl =\n",
              "          document.querySelector('#df-8307764d-fdd1-4430-a3da-afe3ec33ef22 button.colab-df-convert');\n",
              "        buttonEl.style.display =\n",
              "          google.colab.kernel.accessAllowed ? 'block' : 'none';\n",
              "\n",
              "        async function convertToInteractive(key) {\n",
              "          const element = document.querySelector('#df-8307764d-fdd1-4430-a3da-afe3ec33ef22');\n",
              "          const dataTable =\n",
              "            await google.colab.kernel.invokeFunction('convertToInteractive',\n",
              "                                                     [key], {});\n",
              "          if (!dataTable) return;\n",
              "\n",
              "          const docLinkHtml = 'Like what you see? Visit the ' +\n",
              "            '<a target=\"_blank\" href=https://colab.research.google.com/notebooks/data_table.ipynb>data table notebook</a>'\n",
              "            + ' to learn more about interactive tables.';\n",
              "          element.innerHTML = '';\n",
              "          dataTable['output_type'] = 'display_data';\n",
              "          await google.colab.output.renderOutput(dataTable, element);\n",
              "          const docLink = document.createElement('div');\n",
              "          docLink.innerHTML = docLinkHtml;\n",
              "          element.appendChild(docLink);\n",
              "        }\n",
              "      </script>\n",
              "    </div>\n",
              "  </div>\n",
              "  "
            ]
          },
          "metadata": {},
          "execution_count": 159
        }
      ]
    },
    {
      "cell_type": "code",
      "metadata": {
        "colab": {
          "base_uri": "https://localhost:8080/",
          "height": 1000
        },
        "id": "vrA-F4wQOjJ_",
        "outputId": "5da18b62-614f-497d-d9be-125534967d22"
      },
      "source": [
        "troubleshoot_df = test_df.iloc[nb_metric.incorrect_index()][[\"full-text\",\"label\"]]\n",
        "troubleshoot_df[\"nb\"] = [nb_predictions[i] for i in nb_metric.incorrect_index()]\n",
        "troubleshoot_df"
      ],
      "execution_count": 160,
      "outputs": [
        {
          "output_type": "execute_result",
          "data": {
            "text/plain": [
              "                                                                                                                                                                                                                                                                                                                                                                                                                                            full-text  \\\n",
              "239   The cardiomediastinal contours are within normal limits. Pulmonary vasculature is unremarkable. There is no focal airspace opacity. No pleural effusion or pneumothorax is seen. Multiple healed bilateral rib fractures. No acute bony abnormality is identified. No acute cardiopulmonary abnormality.                                                                                                                                          \n",
              "1943   1. Chest. No visible active cardiopulmonary disease. 2. Left hip. Advanced posttraumatic osteoarthritis.                                                                                                                                                                                                                                                                                                                                         \n",
              "1228  PA and lateral radiograph the chest demonstrate stable cardiomediastinal silhouette. No focal consolidation, large pleural effusion, or pneumothorax is identified. Evidence of prior granulomatous disease. Visualized osseous structures appear intact. No acute cardiopulmonary abnormality.                                                                                                                                                   \n",
              "95    Heart size, mediastinal contour, and pulmonary vascularity are within normal limits. Stable tortuosity of the thoracic aorta. No focal consolidation, pleural effusion, or pneumothorax is identified. No acute osseous abnormality identified. No acute cardiopulmonary abnormality. .                                                                                                                                                           \n",
              "3851   Lungs appear hyperinflated. This may be secondary to XXXX voluntary XXXX considering patient's age. Clear lungs. Mediastinal contour within normal limits. No acute cardiopulmonary abnormality identified.                                                                                                                                                                                                                                      \n",
              "719   The cardiomediastinal silhouette and pulmonary vasculature are within normal limits. There is no pneumothorax or pleural effusion. There are no focal areas of consolidation. Small T-spine osteophytes. No acute cardiopulmonary abnormality.                                                                                                                                                                                                    \n",
              "1018  The trachea is midline. The cardiomediastinal silhouette is normal and unchanged compared to prior examination. The lungs are clear, without evidence of acute infiltrate or effusion. There is no pneumothorax. The visualized bony structures reveal no acute abnormalities. There is hiatal hernia. No acute cardiopulmonary abnormalities.                                                                                                    \n",
              "144   The lungs are clear bilaterally. Specifically, no evidence of focal consolidation, pneumothorax, or pleural effusion.. Left basilar subsegmental atelectasis versus scar noted. Cardio mediastinal silhouette is unremarkable. Visualized osseous structures of the thorax are without acute abnormality. No acute cardiopulmonary abnormality. Specifically, no evidence of active tuberculous process.                                          \n",
              "2175  Heart size is within normal limits. Aorta is tortuous. Remainder of the cardiomediastinal silhouette is normal. Lungs are clear bilaterally without pleural effusion or pneumothorax. No bony abnormalities. No active disease.                                                                                                                                                                                                                   \n",
              "3305  The heart, pulmonary XXXX and mediastinum are within normal limits. There is no pleural effusion or pneumothorax. There is no focal air space opacity to suggest a pneumonia. There are mild degenerative changes of the spine. No acute cardiopulmonary disease.                                                                                                                                                                                 \n",
              "3459  Cardiac and mediastinal XXXX appear normal. No visible pneumothorax, focal airspace opacity, or pleural effusion is seen. No visible free air under the diaphragm. The osseous structures appear intact. There is a mild dextro scoliotic curvature of the midthoracic spine. No acute radiographic cardiopulmonary process. .                                                                                                                    \n",
              "2703  The cardiomediastinal silhouette and pulmonary vasculature are within normal limits in size. The lungs are clear of focal airspace disease, pneumothorax, or pleural effusion. XXXX closure device demonstrated projecting over the right heart. There are no acute bony findings. No acute cardiopulmonary findings.                                                                                                                             \n",
              "1237  The cardiomediastinal silhouette and pulmonary vasculature are within normal limits. There is no pneumothorax or pleural effusion. There are no focal areas of consolidation. Small T-spine osteophytes. No acute cardiopulmonary abnormality.                                                                                                                                                                                                    \n",
              "1079  Normal cardiomediastinal silhouette. There is no focal consolidation. There are no XXXX of a large pleural effusion. There is no pneumothorax. There is no acute bony abnormality seen. Mild degenerative changes of the spine. There is no radiographic evidence of acute cardiopulmonary disease.                                                                                                                                               \n",
              "2683  The lungs are clear. Heart size is normal. No pneumothorax. There are endplate changes within the spine. Clear lungs. No acute cardiopulmonary abnormality. .                                                                                                                                                                                                                                                                                     \n",
              "3269  Heart XXXX, mediastinum, XXXX, bony structures and lung XXXX are unremarkable. No significant interval change compared to prior study, no XXXX infiltrates noted. No radiographic evidence of acute cardiopulmonary disease                                                                                                                                                                                                                       \n",
              "112   The cardiomediastinal silhouette and pulmonary vasculature are within normal limits. There is no pneumothorax or pleural effusion. There are no focal areas of consolidation. Cholecystectomy clips are present. No acute cardiopulmonary abnormality.                                                                                                                                                                                            \n",
              "2968  Heart size and mediastinal contour are normal. Pulmonary vascularity is normal. Lungs are clear. No pleural effusions or pneumothoraces. Degenerative changes in the thoracic spine. Normal chest.                                                                                                                                                                                                                                                \n",
              "404   Cardiac and mediastinal contours are within normal limits. Prior granulomatous disease. The lungs are otherwise clear. Bony structures are intact. Negative chest x-XXXX.                                                                                                                                                                                                                                                                         \n",
              "2365  Lungs are clear. There is no pneumothorax or pleural effusion. Calcified left suprahilar XXXX. The heart and mediastinum are within normal limits. Bony structures are intact. No acute cardiopulmonary process.                                                                                                                                                                                                                                  \n",
              "3140  The lungs demonstrate low lung volumes but are clear bilaterally. Specifically, no evidence of focal consolidation, pneumothorax, or pleural effusion.. Mild streaky opacities in the left upper lobe on frontal projection are XXXX atelectatic or scar. Cardio mediastinal silhouette is unremarkable. Visualized osseous structures of the thorax are without acute abnormality. Low lung volumes without acute cardiopulmonary abnormality.   \n",
              "1108   Slightly hyperinflated appearing but clear lungs. Mediastinal contour within normal limits. No acute cardiopulmonary abnormality identified.                                                                                                                                                                                                                                                                                                     \n",
              "2730  The cardiomediastinal silhouette is within normal limits for size and contour. The lungs are normally inflated without evidence of focal airspace disease, pleural effusion, or pneumothorax. Scattered bilateral calcified pulmonary nodules. No acute bone abnormality. No acute cardiopulmonary process.                                                                                                                                       \n",
              "1439  The heart and mediastinal silhouettes are within normal limits. The lungs are clear without focal airspace opacity, large effusion, or pneumothorax. The XXXX are grossly intact. Degenerative T-spine osteophytes. No acute visualized cardiopulmonary abnormality.                                                                                                                                                                              \n",
              "2645  The heart is normal in size. The mediastinum is unremarkable. The lungs are clear. No acute disease.                                                                                                                                                                                                                                                                                                                                              \n",
              "3150  Lungs are clear. No pleural effusions or pneumothoraces. Heart and mediastinum of normal size and contour. Degenerative changes in the spine. Clear lungs.                                                                                                                                                                                                                                                                                        \n",
              "1808  The lungs are clear. No focal airspace consolidation. No pleural effusion or pneumothorax. Normal cardiomediastinal silhouette. Mild degenerative changes of the spine. No evidence of active disease.                                                                                                                                                                                                                                            \n",
              "2368  No focal areas of consolidation. Heart size normal limits. No pleural effusions. No evidence of pneumothorax. Degenerative changes thoracic spine. No acute cardiopulmonary abnormality. .                                                                                                                                                                                                                                                        \n",
              "899   The heart is normal in size. The mediastinum is unremarkable. The lungs are grossly clear. Bilateral breast prostheses are noted. No acute disease.                                                                                                                                                                                                                                                                                               \n",
              "2646  Cardiomediastinal silhouettes are within normal limits. Low lung volumes. Lungs are clear without focal consolidation, pneumothorax, or pleural effusion. Bony thorax is unremarkable. No acute cardiopulmonary abnormalities.                                                                                                                                                                                                                    \n",
              "3152   Heart size upper limits normal. Mediastinal silhouette and pulmonary vascularity within normal limits. No edema, focal airspace consolidation, or pneumothorax. XXXX pleural effusion versus minimal pleural thickening bilaterally.                                                                                                                                                                                                             \n",
              "1333  The heart size is persistently enlarged. Lung volumes are low. Lungs are clear. There is no pleural line to suggest pneumothorax or costophrenic XXXX blunting to suggest large pleural effusion. Bony structures are within normal limits. No acute cardiopulmonary findings.                                                                                                                                                                    \n",
              "1817  The lungs are clear without focal consolidation, effusion, or pneumothorax. Normal heart size. Degenerative changes of the thoracic spine. Negative for acute cardiopulmonary abnormality.                                                                                                                                                                                                                                                        \n",
              "1559  XXXX XXXX and lateral views of the chest were obtained on 02/010/XXXX. The lung volumes are normal. The lungs are clear and there are no pleural effusions. There is stable mild tenting of the medial aspect of the right diaphragm. The mediastinum and pulmonary XXXX are normal. The bony elements are not remarkable. No acute cardiopulmonary abnormalities are seen. END OF REPORT.                                                        \n",
              "3880  Cardiomediastinal silhouette is within normal limits. No focal consolidation, pneumothorax, or pleural effusion. No acute bony abnormalities. Degenerative changes of the thoracic spine. No acute cardiopulmonary findings. .                                                                                                                                                                                                                    \n",
              "538   The heart is normal in size with normal appearance of the cardiomediastinal silhouette. There is a hiatal hernia with soft tissue projecting behind the mediastinum. The lungs are clear without focal airspace opacity, pleural effusion, pneumothorax. The osseous structures are intact. 1. No acute cardiopulmonary finding. 2. Hiatal hernia.                                                                                                \n",
              "2295  The lungs are clear. Heart size is normal. No pneumothorax. There are endplate changes within the spine. No acute cardiopulmonary abnormality. .                                                                                                                                                                                                                                                                                                  \n",
              "3030  The lungs are clear. There is no focal consolidation, pleural effusion, or pneumothorax. The Heart and mediastinum are normal size and shape. XXXX and soft tissues are unremarkable. Probable nerve stimulator noted. No Acute cardiopulmonary disease.                                                                                                                                                                                          \n",
              "1386  The heart is normal size with normal appearance the cardiomediastinal silhouette. There is no focal air space opacity, pleural effusion, or pneumothorax. The osseous structures are intact with degenerative changes in thoracic spine. No acute cardiopulmonary finding.                                                                                                                                                                        \n",
              "1516  The lungs are clear. The cardiomediastinal silhouette is within normal limits. There is ectasia of the thoracic aorta. No pleural effusion is identified. Normal chest film.                                                                                                                                                                                                                                                                      \n",
              "3747  The cardiomediastinal silhouette is within normal limits. The lungs are clear without areas of focal consolidation. No pneumothorax or pleural effusion. XXXX lucency under the right hemidiaphragm may represent a focus of free air. 1. XXXX lucency under the right hemidiaphragm may represent free intraperitoneal air. Left lateral decubitus film may be helpful. 2. Clear lungs.                                                          \n",
              "2097  No The cardiomediastinal silhouette and pulmonary vasculature are within normal limits. There is no pneumothorax or pleural effusion. There are no focal areas of consolidation. There are T-spine osteophytes. No acute cardiopulmonary abnormality.                                                                                                                                                                                             \n",
              "173   The heart size and cardiomediastinal silhouette are normal. There is no focal air space opacity, pleural effusion, or pneumothorax. The osseous structures are intact with mild degenerative changes in thoracic spine. No acute cardiopulmonary finding.                                                                                                                                                                                         \n",
              "44    The heart is normal in size. The mediastinum is unremarkable. The lungs are hypoinflated but clear. No acute disease.                                                                                                                                                                                                                                                                                                                             \n",
              "274   Cardiac and mediastinal contours are within normal limits. Granulomatous calcifications and mediastinum. The lungs are clear. Bony structures are intact. No acute findings.                                                                                                                                                                                                                                                                      \n",
              "376   The lungs are clear. The heart and pulmonary XXXX are normal. Pleural spaces are clear. Mediastinal contours are normal. There is stable lucency in the right mid clavicle dating back to XXXX. No acute cardiopulmonary disease                                                                                                                                                                                                                  \n",
              "1855  There are low lung volumes. The lungs are clear. No focal airspace consolidation. No pleural effusion or pneumothorax. Heart size and mediastinal contour appear within normal limits. No acute abnormality demonstrated.                                                                                                                                                                                                                         \n",
              "3767   Tortuous thoracic aorta. Well-expanded and clear lungs. Mediastinal contour within normal limits. No acute cardiopulmonary abnormality identified.                                                                                                                                                                                                                                                                                               \n",
              "1936  The lungs are clear. The heart and pulmonary XXXX appear normal. Pleural spaces are clear. The mediastinal contours are normal. Bony overlap in the lung apices could obscure a small pulmonary nodule. No acute cardiopulmonary disease                                                                                                                                                                                                          \n",
              "3185  Stable calcified hilar XXXX and granulomas. Lungs are clear bilaterally. There is no focal consolidation, pleural effusion, or pneumothoraces. Cardiomediastinal silhouette is within normal limits. XXXX are unremarkable. No acute cardiopulmonary abnormality.                                                                                                                                                                                 \n",
              "\n",
              "         label  nb  \n",
              "239   abnormal  0   \n",
              "1943  normal    1   \n",
              "1228  abnormal  0   \n",
              "95    abnormal  0   \n",
              "3851  abnormal  0   \n",
              "719   abnormal  0   \n",
              "1018  abnormal  0   \n",
              "144   abnormal  0   \n",
              "2175  abnormal  0   \n",
              "3305  abnormal  0   \n",
              "3459  abnormal  0   \n",
              "2703  abnormal  0   \n",
              "1237  abnormal  0   \n",
              "1079  abnormal  0   \n",
              "2683  abnormal  0   \n",
              "3269  normal    1   \n",
              "112   abnormal  0   \n",
              "2968  abnormal  0   \n",
              "404   abnormal  0   \n",
              "2365  abnormal  0   \n",
              "3140  abnormal  0   \n",
              "1108  abnormal  0   \n",
              "2730  abnormal  0   \n",
              "1439  abnormal  0   \n",
              "2645  abnormal  0   \n",
              "3150  abnormal  0   \n",
              "1808  abnormal  0   \n",
              "2368  abnormal  0   \n",
              "899   abnormal  0   \n",
              "2646  abnormal  0   \n",
              "3152  abnormal  0   \n",
              "1333  abnormal  0   \n",
              "1817  abnormal  0   \n",
              "1559  normal    1   \n",
              "3880  abnormal  0   \n",
              "538   abnormal  0   \n",
              "2295  abnormal  0   \n",
              "3030  abnormal  0   \n",
              "1386  abnormal  0   \n",
              "1516  abnormal  0   \n",
              "3747  normal    1   \n",
              "2097  abnormal  0   \n",
              "173   abnormal  0   \n",
              "44    abnormal  0   \n",
              "274   abnormal  0   \n",
              "376   abnormal  0   \n",
              "1855  abnormal  0   \n",
              "3767  abnormal  0   \n",
              "1936  abnormal  0   \n",
              "3185  abnormal  0   "
            ],
            "text/html": [
              "\n",
              "  <div id=\"df-28751359-3278-40e4-ad7b-96dbdeeaa404\">\n",
              "    <div class=\"colab-df-container\">\n",
              "      <div>\n",
              "<style scoped>\n",
              "    .dataframe tbody tr th:only-of-type {\n",
              "        vertical-align: middle;\n",
              "    }\n",
              "\n",
              "    .dataframe tbody tr th {\n",
              "        vertical-align: top;\n",
              "    }\n",
              "\n",
              "    .dataframe thead th {\n",
              "        text-align: right;\n",
              "    }\n",
              "</style>\n",
              "<table border=\"1\" class=\"dataframe\">\n",
              "  <thead>\n",
              "    <tr style=\"text-align: right;\">\n",
              "      <th></th>\n",
              "      <th>full-text</th>\n",
              "      <th>label</th>\n",
              "      <th>nb</th>\n",
              "    </tr>\n",
              "  </thead>\n",
              "  <tbody>\n",
              "    <tr>\n",
              "      <th>239</th>\n",
              "      <td>The cardiomediastinal contours are within normal limits. Pulmonary vasculature is unremarkable. There is no focal airspace opacity. No pleural effusion or pneumothorax is seen. Multiple healed bilateral rib fractures. No acute bony abnormality is identified. No acute cardiopulmonary abnormality.</td>\n",
              "      <td>abnormal</td>\n",
              "      <td>0</td>\n",
              "    </tr>\n",
              "    <tr>\n",
              "      <th>1943</th>\n",
              "      <td>1. Chest. No visible active cardiopulmonary disease. 2. Left hip. Advanced posttraumatic osteoarthritis.</td>\n",
              "      <td>normal</td>\n",
              "      <td>1</td>\n",
              "    </tr>\n",
              "    <tr>\n",
              "      <th>1228</th>\n",
              "      <td>PA and lateral radiograph the chest demonstrate stable cardiomediastinal silhouette. No focal consolidation, large pleural effusion, or pneumothorax is identified. Evidence of prior granulomatous disease. Visualized osseous structures appear intact. No acute cardiopulmonary abnormality.</td>\n",
              "      <td>abnormal</td>\n",
              "      <td>0</td>\n",
              "    </tr>\n",
              "    <tr>\n",
              "      <th>95</th>\n",
              "      <td>Heart size, mediastinal contour, and pulmonary vascularity are within normal limits. Stable tortuosity of the thoracic aorta. No focal consolidation, pleural effusion, or pneumothorax is identified. No acute osseous abnormality identified. No acute cardiopulmonary abnormality. .</td>\n",
              "      <td>abnormal</td>\n",
              "      <td>0</td>\n",
              "    </tr>\n",
              "    <tr>\n",
              "      <th>3851</th>\n",
              "      <td>Lungs appear hyperinflated. This may be secondary to XXXX voluntary XXXX considering patient's age. Clear lungs. Mediastinal contour within normal limits. No acute cardiopulmonary abnormality identified.</td>\n",
              "      <td>abnormal</td>\n",
              "      <td>0</td>\n",
              "    </tr>\n",
              "    <tr>\n",
              "      <th>719</th>\n",
              "      <td>The cardiomediastinal silhouette and pulmonary vasculature are within normal limits. There is no pneumothorax or pleural effusion. There are no focal areas of consolidation. Small T-spine osteophytes. No acute cardiopulmonary abnormality.</td>\n",
              "      <td>abnormal</td>\n",
              "      <td>0</td>\n",
              "    </tr>\n",
              "    <tr>\n",
              "      <th>1018</th>\n",
              "      <td>The trachea is midline. The cardiomediastinal silhouette is normal and unchanged compared to prior examination. The lungs are clear, without evidence of acute infiltrate or effusion. There is no pneumothorax. The visualized bony structures reveal no acute abnormalities. There is hiatal hernia. No acute cardiopulmonary abnormalities.</td>\n",
              "      <td>abnormal</td>\n",
              "      <td>0</td>\n",
              "    </tr>\n",
              "    <tr>\n",
              "      <th>144</th>\n",
              "      <td>The lungs are clear bilaterally. Specifically, no evidence of focal consolidation, pneumothorax, or pleural effusion.. Left basilar subsegmental atelectasis versus scar noted. Cardio mediastinal silhouette is unremarkable. Visualized osseous structures of the thorax are without acute abnormality. No acute cardiopulmonary abnormality. Specifically, no evidence of active tuberculous process.</td>\n",
              "      <td>abnormal</td>\n",
              "      <td>0</td>\n",
              "    </tr>\n",
              "    <tr>\n",
              "      <th>2175</th>\n",
              "      <td>Heart size is within normal limits. Aorta is tortuous. Remainder of the cardiomediastinal silhouette is normal. Lungs are clear bilaterally without pleural effusion or pneumothorax. No bony abnormalities. No active disease.</td>\n",
              "      <td>abnormal</td>\n",
              "      <td>0</td>\n",
              "    </tr>\n",
              "    <tr>\n",
              "      <th>3305</th>\n",
              "      <td>The heart, pulmonary XXXX and mediastinum are within normal limits. There is no pleural effusion or pneumothorax. There is no focal air space opacity to suggest a pneumonia. There are mild degenerative changes of the spine. No acute cardiopulmonary disease.</td>\n",
              "      <td>abnormal</td>\n",
              "      <td>0</td>\n",
              "    </tr>\n",
              "    <tr>\n",
              "      <th>3459</th>\n",
              "      <td>Cardiac and mediastinal XXXX appear normal. No visible pneumothorax, focal airspace opacity, or pleural effusion is seen. No visible free air under the diaphragm. The osseous structures appear intact. There is a mild dextro scoliotic curvature of the midthoracic spine. No acute radiographic cardiopulmonary process. .</td>\n",
              "      <td>abnormal</td>\n",
              "      <td>0</td>\n",
              "    </tr>\n",
              "    <tr>\n",
              "      <th>2703</th>\n",
              "      <td>The cardiomediastinal silhouette and pulmonary vasculature are within normal limits in size. The lungs are clear of focal airspace disease, pneumothorax, or pleural effusion. XXXX closure device demonstrated projecting over the right heart. There are no acute bony findings. No acute cardiopulmonary findings.</td>\n",
              "      <td>abnormal</td>\n",
              "      <td>0</td>\n",
              "    </tr>\n",
              "    <tr>\n",
              "      <th>1237</th>\n",
              "      <td>The cardiomediastinal silhouette and pulmonary vasculature are within normal limits. There is no pneumothorax or pleural effusion. There are no focal areas of consolidation. Small T-spine osteophytes. No acute cardiopulmonary abnormality.</td>\n",
              "      <td>abnormal</td>\n",
              "      <td>0</td>\n",
              "    </tr>\n",
              "    <tr>\n",
              "      <th>1079</th>\n",
              "      <td>Normal cardiomediastinal silhouette. There is no focal consolidation. There are no XXXX of a large pleural effusion. There is no pneumothorax. There is no acute bony abnormality seen. Mild degenerative changes of the spine. There is no radiographic evidence of acute cardiopulmonary disease.</td>\n",
              "      <td>abnormal</td>\n",
              "      <td>0</td>\n",
              "    </tr>\n",
              "    <tr>\n",
              "      <th>2683</th>\n",
              "      <td>The lungs are clear. Heart size is normal. No pneumothorax. There are endplate changes within the spine. Clear lungs. No acute cardiopulmonary abnormality. .</td>\n",
              "      <td>abnormal</td>\n",
              "      <td>0</td>\n",
              "    </tr>\n",
              "    <tr>\n",
              "      <th>3269</th>\n",
              "      <td>Heart XXXX, mediastinum, XXXX, bony structures and lung XXXX are unremarkable. No significant interval change compared to prior study, no XXXX infiltrates noted. No radiographic evidence of acute cardiopulmonary disease</td>\n",
              "      <td>normal</td>\n",
              "      <td>1</td>\n",
              "    </tr>\n",
              "    <tr>\n",
              "      <th>112</th>\n",
              "      <td>The cardiomediastinal silhouette and pulmonary vasculature are within normal limits. There is no pneumothorax or pleural effusion. There are no focal areas of consolidation. Cholecystectomy clips are present. No acute cardiopulmonary abnormality.</td>\n",
              "      <td>abnormal</td>\n",
              "      <td>0</td>\n",
              "    </tr>\n",
              "    <tr>\n",
              "      <th>2968</th>\n",
              "      <td>Heart size and mediastinal contour are normal. Pulmonary vascularity is normal. Lungs are clear. No pleural effusions or pneumothoraces. Degenerative changes in the thoracic spine. Normal chest.</td>\n",
              "      <td>abnormal</td>\n",
              "      <td>0</td>\n",
              "    </tr>\n",
              "    <tr>\n",
              "      <th>404</th>\n",
              "      <td>Cardiac and mediastinal contours are within normal limits. Prior granulomatous disease. The lungs are otherwise clear. Bony structures are intact. Negative chest x-XXXX.</td>\n",
              "      <td>abnormal</td>\n",
              "      <td>0</td>\n",
              "    </tr>\n",
              "    <tr>\n",
              "      <th>2365</th>\n",
              "      <td>Lungs are clear. There is no pneumothorax or pleural effusion. Calcified left suprahilar XXXX. The heart and mediastinum are within normal limits. Bony structures are intact. No acute cardiopulmonary process.</td>\n",
              "      <td>abnormal</td>\n",
              "      <td>0</td>\n",
              "    </tr>\n",
              "    <tr>\n",
              "      <th>3140</th>\n",
              "      <td>The lungs demonstrate low lung volumes but are clear bilaterally. Specifically, no evidence of focal consolidation, pneumothorax, or pleural effusion.. Mild streaky opacities in the left upper lobe on frontal projection are XXXX atelectatic or scar. Cardio mediastinal silhouette is unremarkable. Visualized osseous structures of the thorax are without acute abnormality. Low lung volumes without acute cardiopulmonary abnormality.</td>\n",
              "      <td>abnormal</td>\n",
              "      <td>0</td>\n",
              "    </tr>\n",
              "    <tr>\n",
              "      <th>1108</th>\n",
              "      <td>Slightly hyperinflated appearing but clear lungs. Mediastinal contour within normal limits. No acute cardiopulmonary abnormality identified.</td>\n",
              "      <td>abnormal</td>\n",
              "      <td>0</td>\n",
              "    </tr>\n",
              "    <tr>\n",
              "      <th>2730</th>\n",
              "      <td>The cardiomediastinal silhouette is within normal limits for size and contour. The lungs are normally inflated without evidence of focal airspace disease, pleural effusion, or pneumothorax. Scattered bilateral calcified pulmonary nodules. No acute bone abnormality. No acute cardiopulmonary process.</td>\n",
              "      <td>abnormal</td>\n",
              "      <td>0</td>\n",
              "    </tr>\n",
              "    <tr>\n",
              "      <th>1439</th>\n",
              "      <td>The heart and mediastinal silhouettes are within normal limits. The lungs are clear without focal airspace opacity, large effusion, or pneumothorax. The XXXX are grossly intact. Degenerative T-spine osteophytes. No acute visualized cardiopulmonary abnormality.</td>\n",
              "      <td>abnormal</td>\n",
              "      <td>0</td>\n",
              "    </tr>\n",
              "    <tr>\n",
              "      <th>2645</th>\n",
              "      <td>The heart is normal in size. The mediastinum is unremarkable. The lungs are clear. No acute disease.</td>\n",
              "      <td>abnormal</td>\n",
              "      <td>0</td>\n",
              "    </tr>\n",
              "    <tr>\n",
              "      <th>3150</th>\n",
              "      <td>Lungs are clear. No pleural effusions or pneumothoraces. Heart and mediastinum of normal size and contour. Degenerative changes in the spine. Clear lungs.</td>\n",
              "      <td>abnormal</td>\n",
              "      <td>0</td>\n",
              "    </tr>\n",
              "    <tr>\n",
              "      <th>1808</th>\n",
              "      <td>The lungs are clear. No focal airspace consolidation. No pleural effusion or pneumothorax. Normal cardiomediastinal silhouette. Mild degenerative changes of the spine. No evidence of active disease.</td>\n",
              "      <td>abnormal</td>\n",
              "      <td>0</td>\n",
              "    </tr>\n",
              "    <tr>\n",
              "      <th>2368</th>\n",
              "      <td>No focal areas of consolidation. Heart size normal limits. No pleural effusions. No evidence of pneumothorax. Degenerative changes thoracic spine. No acute cardiopulmonary abnormality. .</td>\n",
              "      <td>abnormal</td>\n",
              "      <td>0</td>\n",
              "    </tr>\n",
              "    <tr>\n",
              "      <th>899</th>\n",
              "      <td>The heart is normal in size. The mediastinum is unremarkable. The lungs are grossly clear. Bilateral breast prostheses are noted. No acute disease.</td>\n",
              "      <td>abnormal</td>\n",
              "      <td>0</td>\n",
              "    </tr>\n",
              "    <tr>\n",
              "      <th>2646</th>\n",
              "      <td>Cardiomediastinal silhouettes are within normal limits. Low lung volumes. Lungs are clear without focal consolidation, pneumothorax, or pleural effusion. Bony thorax is unremarkable. No acute cardiopulmonary abnormalities.</td>\n",
              "      <td>abnormal</td>\n",
              "      <td>0</td>\n",
              "    </tr>\n",
              "    <tr>\n",
              "      <th>3152</th>\n",
              "      <td>Heart size upper limits normal. Mediastinal silhouette and pulmonary vascularity within normal limits. No edema, focal airspace consolidation, or pneumothorax. XXXX pleural effusion versus minimal pleural thickening bilaterally.</td>\n",
              "      <td>abnormal</td>\n",
              "      <td>0</td>\n",
              "    </tr>\n",
              "    <tr>\n",
              "      <th>1333</th>\n",
              "      <td>The heart size is persistently enlarged. Lung volumes are low. Lungs are clear. There is no pleural line to suggest pneumothorax or costophrenic XXXX blunting to suggest large pleural effusion. Bony structures are within normal limits. No acute cardiopulmonary findings.</td>\n",
              "      <td>abnormal</td>\n",
              "      <td>0</td>\n",
              "    </tr>\n",
              "    <tr>\n",
              "      <th>1817</th>\n",
              "      <td>The lungs are clear without focal consolidation, effusion, or pneumothorax. Normal heart size. Degenerative changes of the thoracic spine. Negative for acute cardiopulmonary abnormality.</td>\n",
              "      <td>abnormal</td>\n",
              "      <td>0</td>\n",
              "    </tr>\n",
              "    <tr>\n",
              "      <th>1559</th>\n",
              "      <td>XXXX XXXX and lateral views of the chest were obtained on 02/010/XXXX. The lung volumes are normal. The lungs are clear and there are no pleural effusions. There is stable mild tenting of the medial aspect of the right diaphragm. The mediastinum and pulmonary XXXX are normal. The bony elements are not remarkable. No acute cardiopulmonary abnormalities are seen. END OF REPORT.</td>\n",
              "      <td>normal</td>\n",
              "      <td>1</td>\n",
              "    </tr>\n",
              "    <tr>\n",
              "      <th>3880</th>\n",
              "      <td>Cardiomediastinal silhouette is within normal limits. No focal consolidation, pneumothorax, or pleural effusion. No acute bony abnormalities. Degenerative changes of the thoracic spine. No acute cardiopulmonary findings. .</td>\n",
              "      <td>abnormal</td>\n",
              "      <td>0</td>\n",
              "    </tr>\n",
              "    <tr>\n",
              "      <th>538</th>\n",
              "      <td>The heart is normal in size with normal appearance of the cardiomediastinal silhouette. There is a hiatal hernia with soft tissue projecting behind the mediastinum. The lungs are clear without focal airspace opacity, pleural effusion, pneumothorax. The osseous structures are intact. 1. No acute cardiopulmonary finding. 2. Hiatal hernia.</td>\n",
              "      <td>abnormal</td>\n",
              "      <td>0</td>\n",
              "    </tr>\n",
              "    <tr>\n",
              "      <th>2295</th>\n",
              "      <td>The lungs are clear. Heart size is normal. No pneumothorax. There are endplate changes within the spine. No acute cardiopulmonary abnormality. .</td>\n",
              "      <td>abnormal</td>\n",
              "      <td>0</td>\n",
              "    </tr>\n",
              "    <tr>\n",
              "      <th>3030</th>\n",
              "      <td>The lungs are clear. There is no focal consolidation, pleural effusion, or pneumothorax. The Heart and mediastinum are normal size and shape. XXXX and soft tissues are unremarkable. Probable nerve stimulator noted. No Acute cardiopulmonary disease.</td>\n",
              "      <td>abnormal</td>\n",
              "      <td>0</td>\n",
              "    </tr>\n",
              "    <tr>\n",
              "      <th>1386</th>\n",
              "      <td>The heart is normal size with normal appearance the cardiomediastinal silhouette. There is no focal air space opacity, pleural effusion, or pneumothorax. The osseous structures are intact with degenerative changes in thoracic spine. No acute cardiopulmonary finding.</td>\n",
              "      <td>abnormal</td>\n",
              "      <td>0</td>\n",
              "    </tr>\n",
              "    <tr>\n",
              "      <th>1516</th>\n",
              "      <td>The lungs are clear. The cardiomediastinal silhouette is within normal limits. There is ectasia of the thoracic aorta. No pleural effusion is identified. Normal chest film.</td>\n",
              "      <td>abnormal</td>\n",
              "      <td>0</td>\n",
              "    </tr>\n",
              "    <tr>\n",
              "      <th>3747</th>\n",
              "      <td>The cardiomediastinal silhouette is within normal limits. The lungs are clear without areas of focal consolidation. No pneumothorax or pleural effusion. XXXX lucency under the right hemidiaphragm may represent a focus of free air. 1. XXXX lucency under the right hemidiaphragm may represent free intraperitoneal air. Left lateral decubitus film may be helpful. 2. Clear lungs.</td>\n",
              "      <td>normal</td>\n",
              "      <td>1</td>\n",
              "    </tr>\n",
              "    <tr>\n",
              "      <th>2097</th>\n",
              "      <td>No The cardiomediastinal silhouette and pulmonary vasculature are within normal limits. There is no pneumothorax or pleural effusion. There are no focal areas of consolidation. There are T-spine osteophytes. No acute cardiopulmonary abnormality.</td>\n",
              "      <td>abnormal</td>\n",
              "      <td>0</td>\n",
              "    </tr>\n",
              "    <tr>\n",
              "      <th>173</th>\n",
              "      <td>The heart size and cardiomediastinal silhouette are normal. There is no focal air space opacity, pleural effusion, or pneumothorax. The osseous structures are intact with mild degenerative changes in thoracic spine. No acute cardiopulmonary finding.</td>\n",
              "      <td>abnormal</td>\n",
              "      <td>0</td>\n",
              "    </tr>\n",
              "    <tr>\n",
              "      <th>44</th>\n",
              "      <td>The heart is normal in size. The mediastinum is unremarkable. The lungs are hypoinflated but clear. No acute disease.</td>\n",
              "      <td>abnormal</td>\n",
              "      <td>0</td>\n",
              "    </tr>\n",
              "    <tr>\n",
              "      <th>274</th>\n",
              "      <td>Cardiac and mediastinal contours are within normal limits. Granulomatous calcifications and mediastinum. The lungs are clear. Bony structures are intact. No acute findings.</td>\n",
              "      <td>abnormal</td>\n",
              "      <td>0</td>\n",
              "    </tr>\n",
              "    <tr>\n",
              "      <th>376</th>\n",
              "      <td>The lungs are clear. The heart and pulmonary XXXX are normal. Pleural spaces are clear. Mediastinal contours are normal. There is stable lucency in the right mid clavicle dating back to XXXX. No acute cardiopulmonary disease</td>\n",
              "      <td>abnormal</td>\n",
              "      <td>0</td>\n",
              "    </tr>\n",
              "    <tr>\n",
              "      <th>1855</th>\n",
              "      <td>There are low lung volumes. The lungs are clear. No focal airspace consolidation. No pleural effusion or pneumothorax. Heart size and mediastinal contour appear within normal limits. No acute abnormality demonstrated.</td>\n",
              "      <td>abnormal</td>\n",
              "      <td>0</td>\n",
              "    </tr>\n",
              "    <tr>\n",
              "      <th>3767</th>\n",
              "      <td>Tortuous thoracic aorta. Well-expanded and clear lungs. Mediastinal contour within normal limits. No acute cardiopulmonary abnormality identified.</td>\n",
              "      <td>abnormal</td>\n",
              "      <td>0</td>\n",
              "    </tr>\n",
              "    <tr>\n",
              "      <th>1936</th>\n",
              "      <td>The lungs are clear. The heart and pulmonary XXXX appear normal. Pleural spaces are clear. The mediastinal contours are normal. Bony overlap in the lung apices could obscure a small pulmonary nodule. No acute cardiopulmonary disease</td>\n",
              "      <td>abnormal</td>\n",
              "      <td>0</td>\n",
              "    </tr>\n",
              "    <tr>\n",
              "      <th>3185</th>\n",
              "      <td>Stable calcified hilar XXXX and granulomas. Lungs are clear bilaterally. There is no focal consolidation, pleural effusion, or pneumothoraces. Cardiomediastinal silhouette is within normal limits. XXXX are unremarkable. No acute cardiopulmonary abnormality.</td>\n",
              "      <td>abnormal</td>\n",
              "      <td>0</td>\n",
              "    </tr>\n",
              "  </tbody>\n",
              "</table>\n",
              "</div>\n",
              "      <button class=\"colab-df-convert\" onclick=\"convertToInteractive('df-28751359-3278-40e4-ad7b-96dbdeeaa404')\"\n",
              "              title=\"Convert this dataframe to an interactive table.\"\n",
              "              style=\"display:none;\">\n",
              "        \n",
              "  <svg xmlns=\"http://www.w3.org/2000/svg\" height=\"24px\"viewBox=\"0 0 24 24\"\n",
              "       width=\"24px\">\n",
              "    <path d=\"M0 0h24v24H0V0z\" fill=\"none\"/>\n",
              "    <path d=\"M18.56 5.44l.94 2.06.94-2.06 2.06-.94-2.06-.94-.94-2.06-.94 2.06-2.06.94zm-11 1L8.5 8.5l.94-2.06 2.06-.94-2.06-.94L8.5 2.5l-.94 2.06-2.06.94zm10 10l.94 2.06.94-2.06 2.06-.94-2.06-.94-.94-2.06-.94 2.06-2.06.94z\"/><path d=\"M17.41 7.96l-1.37-1.37c-.4-.4-.92-.59-1.43-.59-.52 0-1.04.2-1.43.59L10.3 9.45l-7.72 7.72c-.78.78-.78 2.05 0 2.83L4 21.41c.39.39.9.59 1.41.59.51 0 1.02-.2 1.41-.59l7.78-7.78 2.81-2.81c.8-.78.8-2.07 0-2.86zM5.41 20L4 18.59l7.72-7.72 1.47 1.35L5.41 20z\"/>\n",
              "  </svg>\n",
              "      </button>\n",
              "      \n",
              "  <style>\n",
              "    .colab-df-container {\n",
              "      display:flex;\n",
              "      flex-wrap:wrap;\n",
              "      gap: 12px;\n",
              "    }\n",
              "\n",
              "    .colab-df-convert {\n",
              "      background-color: #E8F0FE;\n",
              "      border: none;\n",
              "      border-radius: 50%;\n",
              "      cursor: pointer;\n",
              "      display: none;\n",
              "      fill: #1967D2;\n",
              "      height: 32px;\n",
              "      padding: 0 0 0 0;\n",
              "      width: 32px;\n",
              "    }\n",
              "\n",
              "    .colab-df-convert:hover {\n",
              "      background-color: #E2EBFA;\n",
              "      box-shadow: 0px 1px 2px rgba(60, 64, 67, 0.3), 0px 1px 3px 1px rgba(60, 64, 67, 0.15);\n",
              "      fill: #174EA6;\n",
              "    }\n",
              "\n",
              "    [theme=dark] .colab-df-convert {\n",
              "      background-color: #3B4455;\n",
              "      fill: #D2E3FC;\n",
              "    }\n",
              "\n",
              "    [theme=dark] .colab-df-convert:hover {\n",
              "      background-color: #434B5C;\n",
              "      box-shadow: 0px 1px 3px 1px rgba(0, 0, 0, 0.15);\n",
              "      filter: drop-shadow(0px 1px 2px rgba(0, 0, 0, 0.3));\n",
              "      fill: #FFFFFF;\n",
              "    }\n",
              "  </style>\n",
              "\n",
              "      <script>\n",
              "        const buttonEl =\n",
              "          document.querySelector('#df-28751359-3278-40e4-ad7b-96dbdeeaa404 button.colab-df-convert');\n",
              "        buttonEl.style.display =\n",
              "          google.colab.kernel.accessAllowed ? 'block' : 'none';\n",
              "\n",
              "        async function convertToInteractive(key) {\n",
              "          const element = document.querySelector('#df-28751359-3278-40e4-ad7b-96dbdeeaa404');\n",
              "          const dataTable =\n",
              "            await google.colab.kernel.invokeFunction('convertToInteractive',\n",
              "                                                     [key], {});\n",
              "          if (!dataTable) return;\n",
              "\n",
              "          const docLinkHtml = 'Like what you see? Visit the ' +\n",
              "            '<a target=\"_blank\" href=https://colab.research.google.com/notebooks/data_table.ipynb>data table notebook</a>'\n",
              "            + ' to learn more about interactive tables.';\n",
              "          element.innerHTML = '';\n",
              "          dataTable['output_type'] = 'display_data';\n",
              "          await google.colab.output.renderOutput(dataTable, element);\n",
              "          const docLink = document.createElement('div');\n",
              "          docLink.innerHTML = docLinkHtml;\n",
              "          element.appendChild(docLink);\n",
              "        }\n",
              "      </script>\n",
              "    </div>\n",
              "  </div>\n",
              "  "
            ]
          },
          "metadata": {},
          "execution_count": 160
        }
      ]
    },
    {
      "cell_type": "markdown",
      "source": [
        "# Changes to the code"
      ],
      "metadata": {
        "id": "7fKeC_qpSTCR"
      }
    },
    {
      "cell_type": "markdown",
      "source": [
        "## Change 1: Expanding contractions as a preprocessing step and bug fix"
      ],
      "metadata": {
        "id": "bMn5qnaxSgst"
      }
    },
    {
      "cell_type": "markdown",
      "source": [
        "For this change, I added an extra preprocessing step that helped expand contractions. Please go to In hindsight, after I had wrote the code to put the tokens and the orignial full text side by side, I realized that many medical texts and descriptions don't even use contracts normally, but nevertheless this will help catch contractions and lengthen them if and when they arise. \n",
        "\n",
        "A bug I did end up catching in the proprocessing step was in the stopwords list. We had added the stopword \"XXXX\", but that doesn't actually do anything since the preprocess function puts everything to lowercase when comparing stopwords. Instead, we need to add the lowercase \"xxxx\" to our stopwords set to get the desired result.\n",
        "\n",
        "If we go to Visualizing the processing steps as well, we can see the original full-text and the proprocessed tokenized text side by side."
      ],
      "metadata": {
        "id": "Q7sopls7cKGS"
      }
    },
    {
      "cell_type": "markdown",
      "source": [
        "## Change 2: Which words get misclassified often?"
      ],
      "metadata": {
        "id": "vuj1_--mdne2"
      }
    },
    {
      "cell_type": "markdown",
      "source": [
        "## Change 3: Added Regex to match how much times a commonly word appears\n"
      ],
      "metadata": {
        "id": "qHCMQ7nwdpeb"
      }
    },
    {
      "cell_type": "markdown",
      "source": [
        "This step is done in the Putting it All Together Tab. We find that by adding commonly used words and putting a number on it, we increase specificity, which means people are more correctly getting classified as normal rather than abnormal. Sensitivity stays around the same. "
      ],
      "metadata": {
        "id": "Y2uhOVlxgOk-"
      }
    },
    {
      "cell_type": "markdown",
      "metadata": {
        "id": "Am8WBe6_dl5q"
      },
      "source": [
        "# References\n",
        "\n",
        "[1] Demner-Fuhshman D, Kohli MD, Rosenman MB, Shooshan SE, Rodriguez L, Antani S, Thoma GR, McDonald CJ. \"Preparing a collection of radiology examinations for distribution and retrieval\". J. Am. Med. Inform. Assoc. 2016. 23(2). 304-310. https://doi.org/10.1093/jamia/ocv080\n",
        "\n",
        "[2] Wiggins WF, Kitamura F, Santos I, Prevedello L. \"Natural Language Processing of Radiology Text Reports: Interactive Text Classification\". Radiol. Artif. Intell. 2021. 3(4). https://doi.org/10.1148/ryai.2021210035\n",
        "\n",
        "#Further Reading\n",
        "Jurafsky D, Martin JH. \"Speech and Language Processing. An Introduction to Natural Language Processing, Computational Linguistics, and Speech Recognition\". Draft. 3ed. September 21, 2021.\n",
        "\n",
        "Pons E, Braun LM M, Hunink MG Myriam, Kors JA. \"Natural Language Processing in Radiology: A Systematic Review\". Radiology. 2016. 279(2). 329-343.\n",
        "\n",
        "Sorin V, Barash Y, Konen E, Klang E. \"Deep Learning for Natural Language Processing in Radiology - Fundamentals and a Systematic Review\". J. Am. Coll. Radiol. 2020. 17(5). 639-648.\n",
        "\n",
        "Mozayan A, Fabbri AR, Maneevese M, Tocino I, Chheang Sophie. \"Practical Guide to Natural Language Processing for Radiology\". Radiographics. 2021. 41(5). 1446-1453."
      ]
    },
    {
      "cell_type": "markdown",
      "source": [
        "# Most misclassified words"
      ],
      "metadata": {
        "id": "QuN5xoMmmVcm"
      }
    },
    {
      "cell_type": "code",
      "source": [
        "troubleshoot_df = test_df.iloc[nb_metric.incorrect_index()][[\"full-text\",\"label\"]]\n",
        "troubleshoot_df[\"nb\"] = [nb_predictions[i] for i in nb_metric.incorrect_index()]\n",
        "\n",
        "troubleshoot_df['tokens'] = troubleshoot_df['full-text'].apply(lambda text:preprocess(nlp, text))\n",
        "troubleshoot_df\n",
        "\n",
        "mem = dict()\n",
        "for tokenList in troubleshoot_df['tokens']:\n",
        "  for token in tokenList:\n",
        "    mem[token] = mem.get(token, 0) + 1\n",
        "\n"
      ],
      "metadata": {
        "id": "BbAexgUemmCH"
      },
      "execution_count": 161,
      "outputs": []
    },
    {
      "cell_type": "code",
      "source": [
        "memKeys = list(mem.keys())\n",
        "memValues = list(mem.values())"
      ],
      "metadata": {
        "id": "rEYp8qwUpyKw"
      },
      "execution_count": 162,
      "outputs": []
    },
    {
      "cell_type": "code",
      "source": [
        "d = {\"words\": memKeys, \"count\": memValues}\n",
        "misclassified = pd.DataFrame(data=d)"
      ],
      "metadata": {
        "id": "MufXkMi2qFry"
      },
      "execution_count": 163,
      "outputs": []
    },
    {
      "cell_type": "code",
      "source": [
        "misclassified"
      ],
      "metadata": {
        "colab": {
          "base_uri": "https://localhost:8080/",
          "height": 423
        },
        "id": "OgYIOeRPpUdo",
        "outputId": "d6c9f77f-9854-41e3-d84a-7a98c6a3dbaf"
      },
      "execution_count": 164,
      "outputs": [
        {
          "output_type": "execute_result",
          "data": {
            "text/plain": [
              "           words  count\n",
              "0    3numNormal   6    \n",
              "1    0numActive   46   \n",
              "2    0numSize     30   \n",
              "3    0numDisease  34   \n",
              "4    0numClear    19   \n",
              "..         ...    ..   \n",
              "259  could        1    \n",
              "260  obscure      1    \n",
              "261  nodule       1    \n",
              "262  hilar        1    \n",
              "263  granulomas   1    \n",
              "\n",
              "[264 rows x 2 columns]"
            ],
            "text/html": [
              "\n",
              "  <div id=\"df-8a65bdc0-70cb-4c21-bb30-df11020a9e4d\">\n",
              "    <div class=\"colab-df-container\">\n",
              "      <div>\n",
              "<style scoped>\n",
              "    .dataframe tbody tr th:only-of-type {\n",
              "        vertical-align: middle;\n",
              "    }\n",
              "\n",
              "    .dataframe tbody tr th {\n",
              "        vertical-align: top;\n",
              "    }\n",
              "\n",
              "    .dataframe thead th {\n",
              "        text-align: right;\n",
              "    }\n",
              "</style>\n",
              "<table border=\"1\" class=\"dataframe\">\n",
              "  <thead>\n",
              "    <tr style=\"text-align: right;\">\n",
              "      <th></th>\n",
              "      <th>words</th>\n",
              "      <th>count</th>\n",
              "    </tr>\n",
              "  </thead>\n",
              "  <tbody>\n",
              "    <tr>\n",
              "      <th>0</th>\n",
              "      <td>3numNormal</td>\n",
              "      <td>6</td>\n",
              "    </tr>\n",
              "    <tr>\n",
              "      <th>1</th>\n",
              "      <td>0numActive</td>\n",
              "      <td>46</td>\n",
              "    </tr>\n",
              "    <tr>\n",
              "      <th>2</th>\n",
              "      <td>0numSize</td>\n",
              "      <td>30</td>\n",
              "    </tr>\n",
              "    <tr>\n",
              "      <th>3</th>\n",
              "      <td>0numDisease</td>\n",
              "      <td>34</td>\n",
              "    </tr>\n",
              "    <tr>\n",
              "      <th>4</th>\n",
              "      <td>0numClear</td>\n",
              "      <td>19</td>\n",
              "    </tr>\n",
              "    <tr>\n",
              "      <th>...</th>\n",
              "      <td>...</td>\n",
              "      <td>...</td>\n",
              "    </tr>\n",
              "    <tr>\n",
              "      <th>259</th>\n",
              "      <td>could</td>\n",
              "      <td>1</td>\n",
              "    </tr>\n",
              "    <tr>\n",
              "      <th>260</th>\n",
              "      <td>obscure</td>\n",
              "      <td>1</td>\n",
              "    </tr>\n",
              "    <tr>\n",
              "      <th>261</th>\n",
              "      <td>nodule</td>\n",
              "      <td>1</td>\n",
              "    </tr>\n",
              "    <tr>\n",
              "      <th>262</th>\n",
              "      <td>hilar</td>\n",
              "      <td>1</td>\n",
              "    </tr>\n",
              "    <tr>\n",
              "      <th>263</th>\n",
              "      <td>granulomas</td>\n",
              "      <td>1</td>\n",
              "    </tr>\n",
              "  </tbody>\n",
              "</table>\n",
              "<p>264 rows × 2 columns</p>\n",
              "</div>\n",
              "      <button class=\"colab-df-convert\" onclick=\"convertToInteractive('df-8a65bdc0-70cb-4c21-bb30-df11020a9e4d')\"\n",
              "              title=\"Convert this dataframe to an interactive table.\"\n",
              "              style=\"display:none;\">\n",
              "        \n",
              "  <svg xmlns=\"http://www.w3.org/2000/svg\" height=\"24px\"viewBox=\"0 0 24 24\"\n",
              "       width=\"24px\">\n",
              "    <path d=\"M0 0h24v24H0V0z\" fill=\"none\"/>\n",
              "    <path d=\"M18.56 5.44l.94 2.06.94-2.06 2.06-.94-2.06-.94-.94-2.06-.94 2.06-2.06.94zm-11 1L8.5 8.5l.94-2.06 2.06-.94-2.06-.94L8.5 2.5l-.94 2.06-2.06.94zm10 10l.94 2.06.94-2.06 2.06-.94-2.06-.94-.94-2.06-.94 2.06-2.06.94z\"/><path d=\"M17.41 7.96l-1.37-1.37c-.4-.4-.92-.59-1.43-.59-.52 0-1.04.2-1.43.59L10.3 9.45l-7.72 7.72c-.78.78-.78 2.05 0 2.83L4 21.41c.39.39.9.59 1.41.59.51 0 1.02-.2 1.41-.59l7.78-7.78 2.81-2.81c.8-.78.8-2.07 0-2.86zM5.41 20L4 18.59l7.72-7.72 1.47 1.35L5.41 20z\"/>\n",
              "  </svg>\n",
              "      </button>\n",
              "      \n",
              "  <style>\n",
              "    .colab-df-container {\n",
              "      display:flex;\n",
              "      flex-wrap:wrap;\n",
              "      gap: 12px;\n",
              "    }\n",
              "\n",
              "    .colab-df-convert {\n",
              "      background-color: #E8F0FE;\n",
              "      border: none;\n",
              "      border-radius: 50%;\n",
              "      cursor: pointer;\n",
              "      display: none;\n",
              "      fill: #1967D2;\n",
              "      height: 32px;\n",
              "      padding: 0 0 0 0;\n",
              "      width: 32px;\n",
              "    }\n",
              "\n",
              "    .colab-df-convert:hover {\n",
              "      background-color: #E2EBFA;\n",
              "      box-shadow: 0px 1px 2px rgba(60, 64, 67, 0.3), 0px 1px 3px 1px rgba(60, 64, 67, 0.15);\n",
              "      fill: #174EA6;\n",
              "    }\n",
              "\n",
              "    [theme=dark] .colab-df-convert {\n",
              "      background-color: #3B4455;\n",
              "      fill: #D2E3FC;\n",
              "    }\n",
              "\n",
              "    [theme=dark] .colab-df-convert:hover {\n",
              "      background-color: #434B5C;\n",
              "      box-shadow: 0px 1px 3px 1px rgba(0, 0, 0, 0.15);\n",
              "      filter: drop-shadow(0px 1px 2px rgba(0, 0, 0, 0.3));\n",
              "      fill: #FFFFFF;\n",
              "    }\n",
              "  </style>\n",
              "\n",
              "      <script>\n",
              "        const buttonEl =\n",
              "          document.querySelector('#df-8a65bdc0-70cb-4c21-bb30-df11020a9e4d button.colab-df-convert');\n",
              "        buttonEl.style.display =\n",
              "          google.colab.kernel.accessAllowed ? 'block' : 'none';\n",
              "\n",
              "        async function convertToInteractive(key) {\n",
              "          const element = document.querySelector('#df-8a65bdc0-70cb-4c21-bb30-df11020a9e4d');\n",
              "          const dataTable =\n",
              "            await google.colab.kernel.invokeFunction('convertToInteractive',\n",
              "                                                     [key], {});\n",
              "          if (!dataTable) return;\n",
              "\n",
              "          const docLinkHtml = 'Like what you see? Visit the ' +\n",
              "            '<a target=\"_blank\" href=https://colab.research.google.com/notebooks/data_table.ipynb>data table notebook</a>'\n",
              "            + ' to learn more about interactive tables.';\n",
              "          element.innerHTML = '';\n",
              "          dataTable['output_type'] = 'display_data';\n",
              "          await google.colab.output.renderOutput(dataTable, element);\n",
              "          const docLink = document.createElement('div');\n",
              "          docLink.innerHTML = docLinkHtml;\n",
              "          element.appendChild(docLink);\n",
              "        }\n",
              "      </script>\n",
              "    </div>\n",
              "  </div>\n",
              "  "
            ]
          },
          "metadata": {},
          "execution_count": 164
        }
      ]
    },
    {
      "cell_type": "code",
      "source": [
        "totalCount = list(misclassified[\"count\"])"
      ],
      "metadata": {
        "id": "TbXO2DtxwDoF"
      },
      "execution_count": 165,
      "outputs": []
    },
    {
      "cell_type": "code",
      "source": [
        "misclassified = misclassified.sort_values(by=[\"count\"], ascending = False)\n",
        "misclassified"
      ],
      "metadata": {
        "colab": {
          "base_uri": "https://localhost:8080/",
          "height": 423
        },
        "id": "O3qZ3eW6pFvX",
        "outputId": "fe909836-f7ae-421b-b455-4f529efbba9e"
      },
      "execution_count": 166,
      "outputs": [
        {
          "output_type": "execute_result",
          "data": {
            "text/plain": [
              "            words  count\n",
              "13   normal        55   \n",
              "30   NEGEX_acute   51   \n",
              "1    0numActive    46   \n",
              "40   0numContour   37   \n",
              "81   lungs         37   \n",
              "..     ...         ..   \n",
              "151  closure       1    \n",
              "148  airspace      1    \n",
              "147  focal         1    \n",
              "146  radiographic  1    \n",
              "263  granulomas    1    \n",
              "\n",
              "[264 rows x 2 columns]"
            ],
            "text/html": [
              "\n",
              "  <div id=\"df-28c28f5f-6668-4dc9-9da9-9e01ced58f8b\">\n",
              "    <div class=\"colab-df-container\">\n",
              "      <div>\n",
              "<style scoped>\n",
              "    .dataframe tbody tr th:only-of-type {\n",
              "        vertical-align: middle;\n",
              "    }\n",
              "\n",
              "    .dataframe tbody tr th {\n",
              "        vertical-align: top;\n",
              "    }\n",
              "\n",
              "    .dataframe thead th {\n",
              "        text-align: right;\n",
              "    }\n",
              "</style>\n",
              "<table border=\"1\" class=\"dataframe\">\n",
              "  <thead>\n",
              "    <tr style=\"text-align: right;\">\n",
              "      <th></th>\n",
              "      <th>words</th>\n",
              "      <th>count</th>\n",
              "    </tr>\n",
              "  </thead>\n",
              "  <tbody>\n",
              "    <tr>\n",
              "      <th>13</th>\n",
              "      <td>normal</td>\n",
              "      <td>55</td>\n",
              "    </tr>\n",
              "    <tr>\n",
              "      <th>30</th>\n",
              "      <td>NEGEX_acute</td>\n",
              "      <td>51</td>\n",
              "    </tr>\n",
              "    <tr>\n",
              "      <th>1</th>\n",
              "      <td>0numActive</td>\n",
              "      <td>46</td>\n",
              "    </tr>\n",
              "    <tr>\n",
              "      <th>40</th>\n",
              "      <td>0numContour</td>\n",
              "      <td>37</td>\n",
              "    </tr>\n",
              "    <tr>\n",
              "      <th>81</th>\n",
              "      <td>lungs</td>\n",
              "      <td>37</td>\n",
              "    </tr>\n",
              "    <tr>\n",
              "      <th>...</th>\n",
              "      <td>...</td>\n",
              "      <td>...</td>\n",
              "    </tr>\n",
              "    <tr>\n",
              "      <th>151</th>\n",
              "      <td>closure</td>\n",
              "      <td>1</td>\n",
              "    </tr>\n",
              "    <tr>\n",
              "      <th>148</th>\n",
              "      <td>airspace</td>\n",
              "      <td>1</td>\n",
              "    </tr>\n",
              "    <tr>\n",
              "      <th>147</th>\n",
              "      <td>focal</td>\n",
              "      <td>1</td>\n",
              "    </tr>\n",
              "    <tr>\n",
              "      <th>146</th>\n",
              "      <td>radiographic</td>\n",
              "      <td>1</td>\n",
              "    </tr>\n",
              "    <tr>\n",
              "      <th>263</th>\n",
              "      <td>granulomas</td>\n",
              "      <td>1</td>\n",
              "    </tr>\n",
              "  </tbody>\n",
              "</table>\n",
              "<p>264 rows × 2 columns</p>\n",
              "</div>\n",
              "      <button class=\"colab-df-convert\" onclick=\"convertToInteractive('df-28c28f5f-6668-4dc9-9da9-9e01ced58f8b')\"\n",
              "              title=\"Convert this dataframe to an interactive table.\"\n",
              "              style=\"display:none;\">\n",
              "        \n",
              "  <svg xmlns=\"http://www.w3.org/2000/svg\" height=\"24px\"viewBox=\"0 0 24 24\"\n",
              "       width=\"24px\">\n",
              "    <path d=\"M0 0h24v24H0V0z\" fill=\"none\"/>\n",
              "    <path d=\"M18.56 5.44l.94 2.06.94-2.06 2.06-.94-2.06-.94-.94-2.06-.94 2.06-2.06.94zm-11 1L8.5 8.5l.94-2.06 2.06-.94-2.06-.94L8.5 2.5l-.94 2.06-2.06.94zm10 10l.94 2.06.94-2.06 2.06-.94-2.06-.94-.94-2.06-.94 2.06-2.06.94z\"/><path d=\"M17.41 7.96l-1.37-1.37c-.4-.4-.92-.59-1.43-.59-.52 0-1.04.2-1.43.59L10.3 9.45l-7.72 7.72c-.78.78-.78 2.05 0 2.83L4 21.41c.39.39.9.59 1.41.59.51 0 1.02-.2 1.41-.59l7.78-7.78 2.81-2.81c.8-.78.8-2.07 0-2.86zM5.41 20L4 18.59l7.72-7.72 1.47 1.35L5.41 20z\"/>\n",
              "  </svg>\n",
              "      </button>\n",
              "      \n",
              "  <style>\n",
              "    .colab-df-container {\n",
              "      display:flex;\n",
              "      flex-wrap:wrap;\n",
              "      gap: 12px;\n",
              "    }\n",
              "\n",
              "    .colab-df-convert {\n",
              "      background-color: #E8F0FE;\n",
              "      border: none;\n",
              "      border-radius: 50%;\n",
              "      cursor: pointer;\n",
              "      display: none;\n",
              "      fill: #1967D2;\n",
              "      height: 32px;\n",
              "      padding: 0 0 0 0;\n",
              "      width: 32px;\n",
              "    }\n",
              "\n",
              "    .colab-df-convert:hover {\n",
              "      background-color: #E2EBFA;\n",
              "      box-shadow: 0px 1px 2px rgba(60, 64, 67, 0.3), 0px 1px 3px 1px rgba(60, 64, 67, 0.15);\n",
              "      fill: #174EA6;\n",
              "    }\n",
              "\n",
              "    [theme=dark] .colab-df-convert {\n",
              "      background-color: #3B4455;\n",
              "      fill: #D2E3FC;\n",
              "    }\n",
              "\n",
              "    [theme=dark] .colab-df-convert:hover {\n",
              "      background-color: #434B5C;\n",
              "      box-shadow: 0px 1px 3px 1px rgba(0, 0, 0, 0.15);\n",
              "      filter: drop-shadow(0px 1px 2px rgba(0, 0, 0, 0.3));\n",
              "      fill: #FFFFFF;\n",
              "    }\n",
              "  </style>\n",
              "\n",
              "      <script>\n",
              "        const buttonEl =\n",
              "          document.querySelector('#df-28c28f5f-6668-4dc9-9da9-9e01ced58f8b button.colab-df-convert');\n",
              "        buttonEl.style.display =\n",
              "          google.colab.kernel.accessAllowed ? 'block' : 'none';\n",
              "\n",
              "        async function convertToInteractive(key) {\n",
              "          const element = document.querySelector('#df-28c28f5f-6668-4dc9-9da9-9e01ced58f8b');\n",
              "          const dataTable =\n",
              "            await google.colab.kernel.invokeFunction('convertToInteractive',\n",
              "                                                     [key], {});\n",
              "          if (!dataTable) return;\n",
              "\n",
              "          const docLinkHtml = 'Like what you see? Visit the ' +\n",
              "            '<a target=\"_blank\" href=https://colab.research.google.com/notebooks/data_table.ipynb>data table notebook</a>'\n",
              "            + ' to learn more about interactive tables.';\n",
              "          element.innerHTML = '';\n",
              "          dataTable['output_type'] = 'display_data';\n",
              "          await google.colab.output.renderOutput(dataTable, element);\n",
              "          const docLink = document.createElement('div');\n",
              "          docLink.innerHTML = docLinkHtml;\n",
              "          element.appendChild(docLink);\n",
              "        }\n",
              "      </script>\n",
              "    </div>\n",
              "  </div>\n",
              "  "
            ]
          },
          "metadata": {},
          "execution_count": 166
        }
      ]
    },
    {
      "cell_type": "code",
      "source": [
        "misclassified10 = misclassified.head(10)\n",
        "misclassified10"
      ],
      "metadata": {
        "colab": {
          "base_uri": "https://localhost:8080/",
          "height": 363
        },
        "id": "95NYyF1Cr5cp",
        "outputId": "abdb7fb8-cca8-45e8-94d8-59b7d2f56514"
      },
      "execution_count": 167,
      "outputs": [
        {
          "output_type": "execute_result",
          "data": {
            "text/plain": [
              "                    words  count\n",
              "13  normal                 55   \n",
              "30  NEGEX_acute            51   \n",
              "1   0numActive             46   \n",
              "40  0numContour            37   \n",
              "81  lungs                  37   \n",
              "90  clear                  37   \n",
              "5   0numHeart              36   \n",
              "34  NEGEX_cardiopulmonary  35   \n",
              "3   0numDisease            34   \n",
              "38  0numCardiomediastinal  33   "
            ],
            "text/html": [
              "\n",
              "  <div id=\"df-b5706916-98e6-471a-9d12-eff89121ac44\">\n",
              "    <div class=\"colab-df-container\">\n",
              "      <div>\n",
              "<style scoped>\n",
              "    .dataframe tbody tr th:only-of-type {\n",
              "        vertical-align: middle;\n",
              "    }\n",
              "\n",
              "    .dataframe tbody tr th {\n",
              "        vertical-align: top;\n",
              "    }\n",
              "\n",
              "    .dataframe thead th {\n",
              "        text-align: right;\n",
              "    }\n",
              "</style>\n",
              "<table border=\"1\" class=\"dataframe\">\n",
              "  <thead>\n",
              "    <tr style=\"text-align: right;\">\n",
              "      <th></th>\n",
              "      <th>words</th>\n",
              "      <th>count</th>\n",
              "    </tr>\n",
              "  </thead>\n",
              "  <tbody>\n",
              "    <tr>\n",
              "      <th>13</th>\n",
              "      <td>normal</td>\n",
              "      <td>55</td>\n",
              "    </tr>\n",
              "    <tr>\n",
              "      <th>30</th>\n",
              "      <td>NEGEX_acute</td>\n",
              "      <td>51</td>\n",
              "    </tr>\n",
              "    <tr>\n",
              "      <th>1</th>\n",
              "      <td>0numActive</td>\n",
              "      <td>46</td>\n",
              "    </tr>\n",
              "    <tr>\n",
              "      <th>40</th>\n",
              "      <td>0numContour</td>\n",
              "      <td>37</td>\n",
              "    </tr>\n",
              "    <tr>\n",
              "      <th>81</th>\n",
              "      <td>lungs</td>\n",
              "      <td>37</td>\n",
              "    </tr>\n",
              "    <tr>\n",
              "      <th>90</th>\n",
              "      <td>clear</td>\n",
              "      <td>37</td>\n",
              "    </tr>\n",
              "    <tr>\n",
              "      <th>5</th>\n",
              "      <td>0numHeart</td>\n",
              "      <td>36</td>\n",
              "    </tr>\n",
              "    <tr>\n",
              "      <th>34</th>\n",
              "      <td>NEGEX_cardiopulmonary</td>\n",
              "      <td>35</td>\n",
              "    </tr>\n",
              "    <tr>\n",
              "      <th>3</th>\n",
              "      <td>0numDisease</td>\n",
              "      <td>34</td>\n",
              "    </tr>\n",
              "    <tr>\n",
              "      <th>38</th>\n",
              "      <td>0numCardiomediastinal</td>\n",
              "      <td>33</td>\n",
              "    </tr>\n",
              "  </tbody>\n",
              "</table>\n",
              "</div>\n",
              "      <button class=\"colab-df-convert\" onclick=\"convertToInteractive('df-b5706916-98e6-471a-9d12-eff89121ac44')\"\n",
              "              title=\"Convert this dataframe to an interactive table.\"\n",
              "              style=\"display:none;\">\n",
              "        \n",
              "  <svg xmlns=\"http://www.w3.org/2000/svg\" height=\"24px\"viewBox=\"0 0 24 24\"\n",
              "       width=\"24px\">\n",
              "    <path d=\"M0 0h24v24H0V0z\" fill=\"none\"/>\n",
              "    <path d=\"M18.56 5.44l.94 2.06.94-2.06 2.06-.94-2.06-.94-.94-2.06-.94 2.06-2.06.94zm-11 1L8.5 8.5l.94-2.06 2.06-.94-2.06-.94L8.5 2.5l-.94 2.06-2.06.94zm10 10l.94 2.06.94-2.06 2.06-.94-2.06-.94-.94-2.06-.94 2.06-2.06.94z\"/><path d=\"M17.41 7.96l-1.37-1.37c-.4-.4-.92-.59-1.43-.59-.52 0-1.04.2-1.43.59L10.3 9.45l-7.72 7.72c-.78.78-.78 2.05 0 2.83L4 21.41c.39.39.9.59 1.41.59.51 0 1.02-.2 1.41-.59l7.78-7.78 2.81-2.81c.8-.78.8-2.07 0-2.86zM5.41 20L4 18.59l7.72-7.72 1.47 1.35L5.41 20z\"/>\n",
              "  </svg>\n",
              "      </button>\n",
              "      \n",
              "  <style>\n",
              "    .colab-df-container {\n",
              "      display:flex;\n",
              "      flex-wrap:wrap;\n",
              "      gap: 12px;\n",
              "    }\n",
              "\n",
              "    .colab-df-convert {\n",
              "      background-color: #E8F0FE;\n",
              "      border: none;\n",
              "      border-radius: 50%;\n",
              "      cursor: pointer;\n",
              "      display: none;\n",
              "      fill: #1967D2;\n",
              "      height: 32px;\n",
              "      padding: 0 0 0 0;\n",
              "      width: 32px;\n",
              "    }\n",
              "\n",
              "    .colab-df-convert:hover {\n",
              "      background-color: #E2EBFA;\n",
              "      box-shadow: 0px 1px 2px rgba(60, 64, 67, 0.3), 0px 1px 3px 1px rgba(60, 64, 67, 0.15);\n",
              "      fill: #174EA6;\n",
              "    }\n",
              "\n",
              "    [theme=dark] .colab-df-convert {\n",
              "      background-color: #3B4455;\n",
              "      fill: #D2E3FC;\n",
              "    }\n",
              "\n",
              "    [theme=dark] .colab-df-convert:hover {\n",
              "      background-color: #434B5C;\n",
              "      box-shadow: 0px 1px 3px 1px rgba(0, 0, 0, 0.15);\n",
              "      filter: drop-shadow(0px 1px 2px rgba(0, 0, 0, 0.3));\n",
              "      fill: #FFFFFF;\n",
              "    }\n",
              "  </style>\n",
              "\n",
              "      <script>\n",
              "        const buttonEl =\n",
              "          document.querySelector('#df-b5706916-98e6-471a-9d12-eff89121ac44 button.colab-df-convert');\n",
              "        buttonEl.style.display =\n",
              "          google.colab.kernel.accessAllowed ? 'block' : 'none';\n",
              "\n",
              "        async function convertToInteractive(key) {\n",
              "          const element = document.querySelector('#df-b5706916-98e6-471a-9d12-eff89121ac44');\n",
              "          const dataTable =\n",
              "            await google.colab.kernel.invokeFunction('convertToInteractive',\n",
              "                                                     [key], {});\n",
              "          if (!dataTable) return;\n",
              "\n",
              "          const docLinkHtml = 'Like what you see? Visit the ' +\n",
              "            '<a target=\"_blank\" href=https://colab.research.google.com/notebooks/data_table.ipynb>data table notebook</a>'\n",
              "            + ' to learn more about interactive tables.';\n",
              "          element.innerHTML = '';\n",
              "          dataTable['output_type'] = 'display_data';\n",
              "          await google.colab.output.renderOutput(dataTable, element);\n",
              "          const docLink = document.createElement('div');\n",
              "          docLink.innerHTML = docLinkHtml;\n",
              "          element.appendChild(docLink);\n",
              "        }\n",
              "      </script>\n",
              "    </div>\n",
              "  </div>\n",
              "  "
            ]
          },
          "metadata": {},
          "execution_count": 167
        }
      ]
    },
    {
      "cell_type": "code",
      "source": [
        "misclassified10.plot.barh(x=\"words\", y=\"count\")"
      ],
      "metadata": {
        "colab": {
          "base_uri": "https://localhost:8080/",
          "height": 448
        },
        "id": "EgfRMe7Kqy_1",
        "outputId": "d32188e5-a604-417a-81e0-a32aacc83b8c"
      },
      "execution_count": 168,
      "outputs": [
        {
          "output_type": "execute_result",
          "data": {
            "text/plain": [
              "<Axes: ylabel='words'>"
            ]
          },
          "metadata": {},
          "execution_count": 168
        },
        {
          "output_type": "display_data",
          "data": {
            "text/plain": [
              "<Figure size 640x480 with 1 Axes>"
            ],
            "image/png": "[encoded data removed]"
          },
          "metadata": {}
        }
      ]
    },
    {
      "cell_type": "code",
      "source": [],
      "metadata": {
        "id": "TEGNfBNet_xi"
      },
      "execution_count": 168,
      "outputs": []
    },
    {
      "cell_type": "code",
      "source": [
        "troubleshoot_df = test_df.iloc[nb_metric.incorrect_index()][[\"full-text\",\"label\"]]\n",
        "troubleshoot_df[\"nb\"] = [nb_predictions[i] for i in nb_metric.incorrect_index()]\n",
        "\n",
        "troubleshoot_df['tokens'] = troubleshoot_df['full-text'].apply(lambda text:preprocess(nlp, text))\n",
        "troubleshoot_df\n"
      ],
      "metadata": {
        "colab": {
          "base_uri": "https://localhost:8080/",
          "height": 1000
        },
        "id": "n1EZH5Iiskmg",
        "outputId": "3f98b43a-b161-42a0-91d3-aa7f5e8b428c"
      },
      "execution_count": 169,
      "outputs": [
        {
          "output_type": "execute_result",
          "data": {
            "text/plain": [
              "                                                                                                                                                                                                                                                                                                                                                                                                                                            full-text  \\\n",
              "239   The cardiomediastinal contours are within normal limits. Pulmonary vasculature is unremarkable. There is no focal airspace opacity. No pleural effusion or pneumothorax is seen. Multiple healed bilateral rib fractures. No acute bony abnormality is identified. No acute cardiopulmonary abnormality.                                                                                                                                          \n",
              "1943   1. Chest. No visible active cardiopulmonary disease. 2. Left hip. Advanced posttraumatic osteoarthritis.                                                                                                                                                                                                                                                                                                                                         \n",
              "1228  PA and lateral radiograph the chest demonstrate stable cardiomediastinal silhouette. No focal consolidation, large pleural effusion, or pneumothorax is identified. Evidence of prior granulomatous disease. Visualized osseous structures appear intact. No acute cardiopulmonary abnormality.                                                                                                                                                   \n",
              "95    Heart size, mediastinal contour, and pulmonary vascularity are within normal limits. Stable tortuosity of the thoracic aorta. No focal consolidation, pleural effusion, or pneumothorax is identified. No acute osseous abnormality identified. No acute cardiopulmonary abnormality. .                                                                                                                                                           \n",
              "3851   Lungs appear hyperinflated. This may be secondary to XXXX voluntary XXXX considering patient's age. Clear lungs. Mediastinal contour within normal limits. No acute cardiopulmonary abnormality identified.                                                                                                                                                                                                                                      \n",
              "719   The cardiomediastinal silhouette and pulmonary vasculature are within normal limits. There is no pneumothorax or pleural effusion. There are no focal areas of consolidation. Small T-spine osteophytes. No acute cardiopulmonary abnormality.                                                                                                                                                                                                    \n",
              "1018  The trachea is midline. The cardiomediastinal silhouette is normal and unchanged compared to prior examination. The lungs are clear, without evidence of acute infiltrate or effusion. There is no pneumothorax. The visualized bony structures reveal no acute abnormalities. There is hiatal hernia. No acute cardiopulmonary abnormalities.                                                                                                    \n",
              "144   The lungs are clear bilaterally. Specifically, no evidence of focal consolidation, pneumothorax, or pleural effusion.. Left basilar subsegmental atelectasis versus scar noted. Cardio mediastinal silhouette is unremarkable. Visualized osseous structures of the thorax are without acute abnormality. No acute cardiopulmonary abnormality. Specifically, no evidence of active tuberculous process.                                          \n",
              "2175  Heart size is within normal limits. Aorta is tortuous. Remainder of the cardiomediastinal silhouette is normal. Lungs are clear bilaterally without pleural effusion or pneumothorax. No bony abnormalities. No active disease.                                                                                                                                                                                                                   \n",
              "3305  The heart, pulmonary XXXX and mediastinum are within normal limits. There is no pleural effusion or pneumothorax. There is no focal air space opacity to suggest a pneumonia. There are mild degenerative changes of the spine. No acute cardiopulmonary disease.                                                                                                                                                                                 \n",
              "3459  Cardiac and mediastinal XXXX appear normal. No visible pneumothorax, focal airspace opacity, or pleural effusion is seen. No visible free air under the diaphragm. The osseous structures appear intact. There is a mild dextro scoliotic curvature of the midthoracic spine. No acute radiographic cardiopulmonary process. .                                                                                                                    \n",
              "2703  The cardiomediastinal silhouette and pulmonary vasculature are within normal limits in size. The lungs are clear of focal airspace disease, pneumothorax, or pleural effusion. XXXX closure device demonstrated projecting over the right heart. There are no acute bony findings. No acute cardiopulmonary findings.                                                                                                                             \n",
              "1237  The cardiomediastinal silhouette and pulmonary vasculature are within normal limits. There is no pneumothorax or pleural effusion. There are no focal areas of consolidation. Small T-spine osteophytes. No acute cardiopulmonary abnormality.                                                                                                                                                                                                    \n",
              "1079  Normal cardiomediastinal silhouette. There is no focal consolidation. There are no XXXX of a large pleural effusion. There is no pneumothorax. There is no acute bony abnormality seen. Mild degenerative changes of the spine. There is no radiographic evidence of acute cardiopulmonary disease.                                                                                                                                               \n",
              "2683  The lungs are clear. Heart size is normal. No pneumothorax. There are endplate changes within the spine. Clear lungs. No acute cardiopulmonary abnormality. .                                                                                                                                                                                                                                                                                     \n",
              "3269  Heart XXXX, mediastinum, XXXX, bony structures and lung XXXX are unremarkable. No significant interval change compared to prior study, no XXXX infiltrates noted. No radiographic evidence of acute cardiopulmonary disease                                                                                                                                                                                                                       \n",
              "112   The cardiomediastinal silhouette and pulmonary vasculature are within normal limits. There is no pneumothorax or pleural effusion. There are no focal areas of consolidation. Cholecystectomy clips are present. No acute cardiopulmonary abnormality.                                                                                                                                                                                            \n",
              "2968  Heart size and mediastinal contour are normal. Pulmonary vascularity is normal. Lungs are clear. No pleural effusions or pneumothoraces. Degenerative changes in the thoracic spine. Normal chest.                                                                                                                                                                                                                                                \n",
              "404   Cardiac and mediastinal contours are within normal limits. Prior granulomatous disease. The lungs are otherwise clear. Bony structures are intact. Negative chest x-XXXX.                                                                                                                                                                                                                                                                         \n",
              "2365  Lungs are clear. There is no pneumothorax or pleural effusion. Calcified left suprahilar XXXX. The heart and mediastinum are within normal limits. Bony structures are intact. No acute cardiopulmonary process.                                                                                                                                                                                                                                  \n",
              "3140  The lungs demonstrate low lung volumes but are clear bilaterally. Specifically, no evidence of focal consolidation, pneumothorax, or pleural effusion.. Mild streaky opacities in the left upper lobe on frontal projection are XXXX atelectatic or scar. Cardio mediastinal silhouette is unremarkable. Visualized osseous structures of the thorax are without acute abnormality. Low lung volumes without acute cardiopulmonary abnormality.   \n",
              "1108   Slightly hyperinflated appearing but clear lungs. Mediastinal contour within normal limits. No acute cardiopulmonary abnormality identified.                                                                                                                                                                                                                                                                                                     \n",
              "2730  The cardiomediastinal silhouette is within normal limits for size and contour. The lungs are normally inflated without evidence of focal airspace disease, pleural effusion, or pneumothorax. Scattered bilateral calcified pulmonary nodules. No acute bone abnormality. No acute cardiopulmonary process.                                                                                                                                       \n",
              "1439  The heart and mediastinal silhouettes are within normal limits. The lungs are clear without focal airspace opacity, large effusion, or pneumothorax. The XXXX are grossly intact. Degenerative T-spine osteophytes. No acute visualized cardiopulmonary abnormality.                                                                                                                                                                              \n",
              "2645  The heart is normal in size. The mediastinum is unremarkable. The lungs are clear. No acute disease.                                                                                                                                                                                                                                                                                                                                              \n",
              "3150  Lungs are clear. No pleural effusions or pneumothoraces. Heart and mediastinum of normal size and contour. Degenerative changes in the spine. Clear lungs.                                                                                                                                                                                                                                                                                        \n",
              "1808  The lungs are clear. No focal airspace consolidation. No pleural effusion or pneumothorax. Normal cardiomediastinal silhouette. Mild degenerative changes of the spine. No evidence of active disease.                                                                                                                                                                                                                                            \n",
              "2368  No focal areas of consolidation. Heart size normal limits. No pleural effusions. No evidence of pneumothorax. Degenerative changes thoracic spine. No acute cardiopulmonary abnormality. .                                                                                                                                                                                                                                                        \n",
              "899   The heart is normal in size. The mediastinum is unremarkable. The lungs are grossly clear. Bilateral breast prostheses are noted. No acute disease.                                                                                                                                                                                                                                                                                               \n",
              "2646  Cardiomediastinal silhouettes are within normal limits. Low lung volumes. Lungs are clear without focal consolidation, pneumothorax, or pleural effusion. Bony thorax is unremarkable. No acute cardiopulmonary abnormalities.                                                                                                                                                                                                                    \n",
              "3152   Heart size upper limits normal. Mediastinal silhouette and pulmonary vascularity within normal limits. No edema, focal airspace consolidation, or pneumothorax. XXXX pleural effusion versus minimal pleural thickening bilaterally.                                                                                                                                                                                                             \n",
              "1333  The heart size is persistently enlarged. Lung volumes are low. Lungs are clear. There is no pleural line to suggest pneumothorax or costophrenic XXXX blunting to suggest large pleural effusion. Bony structures are within normal limits. No acute cardiopulmonary findings.                                                                                                                                                                    \n",
              "1817  The lungs are clear without focal consolidation, effusion, or pneumothorax. Normal heart size. Degenerative changes of the thoracic spine. Negative for acute cardiopulmonary abnormality.                                                                                                                                                                                                                                                        \n",
              "1559  XXXX XXXX and lateral views of the chest were obtained on 02/010/XXXX. The lung volumes are normal. The lungs are clear and there are no pleural effusions. There is stable mild tenting of the medial aspect of the right diaphragm. The mediastinum and pulmonary XXXX are normal. The bony elements are not remarkable. No acute cardiopulmonary abnormalities are seen. END OF REPORT.                                                        \n",
              "3880  Cardiomediastinal silhouette is within normal limits. No focal consolidation, pneumothorax, or pleural effusion. No acute bony abnormalities. Degenerative changes of the thoracic spine. No acute cardiopulmonary findings. .                                                                                                                                                                                                                    \n",
              "538   The heart is normal in size with normal appearance of the cardiomediastinal silhouette. There is a hiatal hernia with soft tissue projecting behind the mediastinum. The lungs are clear without focal airspace opacity, pleural effusion, pneumothorax. The osseous structures are intact. 1. No acute cardiopulmonary finding. 2. Hiatal hernia.                                                                                                \n",
              "2295  The lungs are clear. Heart size is normal. No pneumothorax. There are endplate changes within the spine. No acute cardiopulmonary abnormality. .                                                                                                                                                                                                                                                                                                  \n",
              "3030  The lungs are clear. There is no focal consolidation, pleural effusion, or pneumothorax. The Heart and mediastinum are normal size and shape. XXXX and soft tissues are unremarkable. Probable nerve stimulator noted. No Acute cardiopulmonary disease.                                                                                                                                                                                          \n",
              "1386  The heart is normal size with normal appearance the cardiomediastinal silhouette. There is no focal air space opacity, pleural effusion, or pneumothorax. The osseous structures are intact with degenerative changes in thoracic spine. No acute cardiopulmonary finding.                                                                                                                                                                        \n",
              "1516  The lungs are clear. The cardiomediastinal silhouette is within normal limits. There is ectasia of the thoracic aorta. No pleural effusion is identified. Normal chest film.                                                                                                                                                                                                                                                                      \n",
              "3747  The cardiomediastinal silhouette is within normal limits. The lungs are clear without areas of focal consolidation. No pneumothorax or pleural effusion. XXXX lucency under the right hemidiaphragm may represent a focus of free air. 1. XXXX lucency under the right hemidiaphragm may represent free intraperitoneal air. Left lateral decubitus film may be helpful. 2. Clear lungs.                                                          \n",
              "2097  No The cardiomediastinal silhouette and pulmonary vasculature are within normal limits. There is no pneumothorax or pleural effusion. There are no focal areas of consolidation. There are T-spine osteophytes. No acute cardiopulmonary abnormality.                                                                                                                                                                                             \n",
              "173   The heart size and cardiomediastinal silhouette are normal. There is no focal air space opacity, pleural effusion, or pneumothorax. The osseous structures are intact with mild degenerative changes in thoracic spine. No acute cardiopulmonary finding.                                                                                                                                                                                         \n",
              "44    The heart is normal in size. The mediastinum is unremarkable. The lungs are hypoinflated but clear. No acute disease.                                                                                                                                                                                                                                                                                                                             \n",
              "274   Cardiac and mediastinal contours are within normal limits. Granulomatous calcifications and mediastinum. The lungs are clear. Bony structures are intact. No acute findings.                                                                                                                                                                                                                                                                      \n",
              "376   The lungs are clear. The heart and pulmonary XXXX are normal. Pleural spaces are clear. Mediastinal contours are normal. There is stable lucency in the right mid clavicle dating back to XXXX. No acute cardiopulmonary disease                                                                                                                                                                                                                  \n",
              "1855  There are low lung volumes. The lungs are clear. No focal airspace consolidation. No pleural effusion or pneumothorax. Heart size and mediastinal contour appear within normal limits. No acute abnormality demonstrated.                                                                                                                                                                                                                         \n",
              "3767   Tortuous thoracic aorta. Well-expanded and clear lungs. Mediastinal contour within normal limits. No acute cardiopulmonary abnormality identified.                                                                                                                                                                                                                                                                                               \n",
              "1936  The lungs are clear. The heart and pulmonary XXXX appear normal. Pleural spaces are clear. The mediastinal contours are normal. Bony overlap in the lung apices could obscure a small pulmonary nodule. No acute cardiopulmonary disease                                                                                                                                                                                                          \n",
              "3185  Stable calcified hilar XXXX and granulomas. Lungs are clear bilaterally. There is no focal consolidation, pleural effusion, or pneumothoraces. Cardiomediastinal silhouette is within normal limits. XXXX are unremarkable. No acute cardiopulmonary abnormality.                                                                                                                                                                                 \n",
              "\n",
              "         label  nb  \\\n",
              "239   abnormal  0    \n",
              "1943  normal    1    \n",
              "1228  abnormal  0    \n",
              "95    abnormal  0    \n",
              "3851  abnormal  0    \n",
              "719   abnormal  0    \n",
              "1018  abnormal  0    \n",
              "144   abnormal  0    \n",
              "2175  abnormal  0    \n",
              "3305  abnormal  0    \n",
              "3459  abnormal  0    \n",
              "2703  abnormal  0    \n",
              "1237  abnormal  0    \n",
              "1079  abnormal  0    \n",
              "2683  abnormal  0    \n",
              "3269  normal    1    \n",
              "112   abnormal  0    \n",
              "2968  abnormal  0    \n",
              "404   abnormal  0    \n",
              "2365  abnormal  0    \n",
              "3140  abnormal  0    \n",
              "1108  abnormal  0    \n",
              "2730  abnormal  0    \n",
              "1439  abnormal  0    \n",
              "2645  abnormal  0    \n",
              "3150  abnormal  0    \n",
              "1808  abnormal  0    \n",
              "2368  abnormal  0    \n",
              "899   abnormal  0    \n",
              "2646  abnormal  0    \n",
              "3152  abnormal  0    \n",
              "1333  abnormal  0    \n",
              "1817  abnormal  0    \n",
              "1559  normal    1    \n",
              "3880  abnormal  0    \n",
              "538   abnormal  0    \n",
              "2295  abnormal  0    \n",
              "3030  abnormal  0    \n",
              "1386  abnormal  0    \n",
              "1516  abnormal  0    \n",
              "3747  normal    1    \n",
              "2097  abnormal  0    \n",
              "173   abnormal  0    \n",
              "44    abnormal  0    \n",
              "274   abnormal  0    \n",
              "376   abnormal  0    \n",
              "1855  abnormal  0    \n",
              "3767  abnormal  0    \n",
              "1936  abnormal  0    \n",
              "3185  abnormal  0    \n",
              "\n",
              "                                                                                                                                                                                                                                                                                                                                                                                                                                                                                                                                                                                                                                                                                        tokens  \n",
              "239   [3numNormal, 0numActive, 0numSize, 0numDisease, 0numClear, 0numHeart, 0numLung, 1numCardiomediastinal, 1numWithin, 1numContour, cardiomediastinal, contours, within, normal, limits, pulmonary, vasculature, unremarkable, NEGEX_focal, NEGEX_airspace, NEGEX_opacity, NEGEX_pleural, NEGEX_effusion, NEGEX_pneumothorax, seen, multiple, healed, bilateral, rib, fractures, NEGEX_acute, NEGEX_bony, NEGEX_abnormality, NEGEX_identified, NEGEX_acute, NEGEX_cardiopulmonary, NEGEX_abnormality]                                                                                                                                                                                         \n",
              "1943  [0numNormal, 1numActive, 0numSize, 1numDisease, 0numClear, 0numHeart, 0numLung, 0numCardiomediastinal, 0numWithin, 0numContour, 1, chest, visible, active, cardiopulmonary, disease, 2, left, hip, advanced, posttraumatic, osteoarthritis]                                                                                                                                                                                                                                                                                                                                                                                                                                               \n",
              "1228  [1numNormal, 0numActive, 0numSize, 1numDisease, 0numClear, 0numHeart, 0numLung, 1numCardiomediastinal, 0numWithin, 0numContour, pa, lateral, radiograph, chest, demonstrate, stable, cardiomediastinal, silhouette, NEGEX_focal, NEGEX_consolidation, large, NEGEX_pleural, NEGEX_effusion, NEGEX_pneumothorax, NEGEX_identified, evidence, prior, granulomatous, disease, visualized, osseous, structures, appear, intact, NEGEX_acute, NEGEX_cardiopulmonary, NEGEX_abnormality]                                                                                                                                                                                                        \n",
              "95    [3numNormal, 0numActive, 1numSize, 0numDisease, 0numClear, 0numHeart, 0numLung, 0numCardiomediastinal, 1numWithin, 1numContour, heart, size, mediastinal, contour, pulmonary, vascularity, within, normal, limits, stable, tortuosity, thoracic, aorta, NEGEX_focal, NEGEX_consolidation, NEGEX_pleural, NEGEX_effusion, NEGEX_pneumothorax, NEGEX_identified, NEGEX_acute, osseous, NEGEX_abnormality, NEGEX_identified, NEGEX_acute, NEGEX_cardiopulmonary, NEGEX_abnormality]                                                                                                                                                                                                          \n",
              "3851  [2numNormal, 0numActive, 0numSize, 0numDisease, 0numClear, 0numHeart, 1numLung, 0numCardiomediastinal, 1numWithin, 1numContour, lungs, appear, hyperinflated, may, secondary, voluntary, considering, patient, 's, age, clear, lungs, mediastinal, contour, within, normal, limits, NEGEX_acute, NEGEX_cardiopulmonary, NEGEX_abnormality, NEGEX_identified]                                                                                                                                                                                                                                                                                                                              \n",
              "719   [2numNormal, 0numActive, 0numSize, 0numDisease, 0numClear, 0numHeart, 0numLung, 1numCardiomediastinal, 1numWithin, 0numContour, cardiomediastinal, silhouette, pulmonary, vasculature, within, normal, limits, NEGEX_pneumothorax, NEGEX_pleural, NEGEX_effusion, NEGEX_focal, NEGEX_areas, NEGEX_consolidation, small, t-spine, osteophytes, NEGEX_acute, NEGEX_cardiopulmonary, NEGEX_abnormality]                                                                                                                                                                                                                                                                                      \n",
              "1018  [3numNormal, 0numActive, 0numSize, 0numDisease, 1numClear, 0numHeart, 1numLung, 1numCardiomediastinal, 0numWithin, 0numContour, trachea, midline, cardiomediastinal, silhouette, normal, unchanged, compared, prior, examination, lungs, clear, without, NEGEX_evidence, NEGEX_acute, NEGEX_infiltrate, NEGEX_effusion, NEGEX_pneumothorax, visualized, bony, structures, reveal, NEGEX_acute, NEGEX_abnormalities, hiatal, hernia, NEGEX_acute, NEGEX_cardiopulmonary, NEGEX_abnormalities]                                                                                                                                                                                              \n",
              "144   [2numNormal, 1numActive, 0numSize, 0numDisease, 1numClear, 0numHeart, 1numLung, 0numCardiomediastinal, 0numWithin, 0numContour, lungs, clear, bilaterally, specifically, NEGEX_evidence, NEGEX_focal, NEGEX_consolidation, NEGEX_pneumothorax, NEGEX_pleural, NEGEX_effusion, .., NEGEX_left, NEGEX_basilar, NEGEX_subsegmental, NEGEX_atelectasis, versus, NEGEX_scar, noted, cardio, mediastinal, silhouette, unremarkable, visualized, osseous, structures, thorax, without, NEGEX_acute, NEGEX_abnormality, NEGEX_acute, NEGEX_cardiopulmonary, NEGEX_abnormality, specifically, NEGEX_evidence, NEGEX_active, NEGEX_tuberculous, process]                                            \n",
              "2175  [3numNormal, 1numActive, 1numSize, 1numDisease, 1numClear, 0numHeart, 0numLung, 1numCardiomediastinal, 1numWithin, 0numContour, heart, size, within, normal, limits, aorta, tortuous, remainder, cardiomediastinal, silhouette, normal, lungs, clear, bilaterally, without, NEGEX_pleural, NEGEX_effusion, NEGEX_pneumothorax, NEGEX_bony, NEGEX_abnormalities, active, disease]                                                                                                                                                                                                                                                                                                          \n",
              "3305  [1numNormal, 0numActive, 0numSize, 1numDisease, 0numClear, 1numHeart, 0numLung, 0numCardiomediastinal, 1numWithin, 0numContour, heart, pulmonary, mediastinum, within, normal, limits, NEGEX_pleural, NEGEX_effusion, NEGEX_pneumothorax, NEGEX_focal, NEGEX_air, NEGEX_space, NEGEX_opacity, suggest, NEGEX_pneumonia, mild, degenerative, changes, spine, NEGEX_acute, NEGEX_cardiopulmonary, NEGEX_disease]                                                                                                                                                                                                                                                                            \n",
              "3459  [1numNormal, 0numActive, 0numSize, 0numDisease, 0numClear, 0numHeart, 0numLung, 0numCardiomediastinal, 0numWithin, 0numContour, cardiac, mediastinal, appear, normal, visible, pneumothorax, NEGEX_focal, NEGEX_airspace, NEGEX_opacity, NEGEX_pleural, NEGEX_effusion, seen, visible, free, air, NEGEX_diaphragm, osseous, structures, appear, intact, mild, dextro, scoliotic, curvature, midthoracic, spine, NEGEX_acute, radiographic, cardiopulmonary, process]                                                                                                                                                                                                                      \n",
              "2703  [1numNormal, 0numActive, 1numSize, 1numDisease, 1numClear, 1numHeart, 1numLung, 1numCardiomediastinal, 1numWithin, 0numContour, cardiomediastinal, silhouette, pulmonary, vasculature, within, normal, limits, size, lungs, clear, focal, airspace, disease, pneumothorax, pleural, effusion, closure, device, demonstrated, projecting, right, heart, NEGEX_acute, NEGEX_bony, NEGEX_findings, NEGEX_acute, NEGEX_cardiopulmonary, NEGEX_findings]                                                                                                                                                                                                                                       \n",
              "1237  [2numNormal, 0numActive, 0numSize, 0numDisease, 0numClear, 0numHeart, 0numLung, 1numCardiomediastinal, 1numWithin, 0numContour, cardiomediastinal, silhouette, pulmonary, vasculature, within, normal, limits, NEGEX_pneumothorax, NEGEX_pleural, NEGEX_effusion, NEGEX_focal, NEGEX_areas, NEGEX_consolidation, small, t-spine, osteophytes, NEGEX_acute, NEGEX_cardiopulmonary, NEGEX_abnormality]                                                                                                                                                                                                                                                                                      \n",
              "1079  [1numNormal, 0numActive, 0numSize, 1numDisease, 0numClear, 0numHeart, 0numLung, 1numCardiomediastinal, 0numWithin, 0numContour, normal, cardiomediastinal, silhouette, NEGEX_focal, NEGEX_consolidation, large, NEGEX_pleural, NEGEX_effusion, NEGEX_pneumothorax, NEGEX_acute, NEGEX_bony, NEGEX_abnormality, seen, mild, degenerative, changes, spine, NEGEX_radiographic, NEGEX_evidence, NEGEX_acute, NEGEX_cardiopulmonary, NEGEX_disease]                                                                                                                                                                                                                                           \n",
              "2683  [2numNormal, 0numActive, 1numSize, 0numDisease, 1numClear, 0numHeart, 2numLung, 0numCardiomediastinal, 1numWithin, 0numContour, lungs, clear, heart, size, normal, pneumothorax, endplate, changes, within, spine, clear, lungs, NEGEX_acute, NEGEX_cardiopulmonary, NEGEX_abnormality]                                                                                                                                                                                                                                                                                                                                                                                                   \n",
              "3269  [0numNormal, 0numActive, 0numSize, 1numDisease, 0numClear, 0numHeart, 1numLung, 0numCardiomediastinal, 0numWithin, 0numContour, heart, mediastinum, bony, structures, lung, unremarkable, significant, interval, change, compared, prior, study, NEGEX_infiltrates, noted, NEGEX_radiographic, NEGEX_evidence, NEGEX_acute, NEGEX_cardiopulmonary, NEGEX_disease]                                                                                                                                                                                                                                                                                                                         \n",
              "112   [2numNormal, 0numActive, 0numSize, 0numDisease, 0numClear, 0numHeart, 0numLung, 1numCardiomediastinal, 1numWithin, 0numContour, cardiomediastinal, silhouette, pulmonary, vasculature, within, normal, limits, NEGEX_pneumothorax, NEGEX_pleural, NEGEX_effusion, NEGEX_focal, NEGEX_areas, NEGEX_consolidation, cholecystectomy, clips, present, NEGEX_acute, NEGEX_cardiopulmonary, NEGEX_abnormality]                                                                                                                                                                                                                                                                                  \n",
              "2968  [2numNormal, 0numActive, 1numSize, 0numDisease, 1numClear, 0numHeart, 0numLung, 0numCardiomediastinal, 0numWithin, 1numContour, heart, size, mediastinal, contour, normal, pulmonary, vascularity, normal, lungs, clear, NEGEX_pleural, NEGEX_effusions, NEGEX_pneumothoraces, degenerative, changes, thoracic, spine, normal, chest]                                                                                                                                                                                                                                                                                                                                                     \n",
              "404   [1numNormal, 0numActive, 0numSize, 1numDisease, 1numClear, 0numHeart, 1numLung, 0numCardiomediastinal, 1numWithin, 1numContour, cardiac, mediastinal, contours, within, normal, limits, prior, granulomatous, disease, lungs, otherwise, clear, bony, structures, intact, negative, chest, x-xxxx]                                                                                                                                                                                                                                                                                                                                                                                        \n",
              "2365  [1numNormal, 0numActive, 0numSize, 0numDisease, 1numClear, 1numHeart, 0numLung, 0numCardiomediastinal, 1numWithin, 0numContour, lungs, clear, NEGEX_pneumothorax, NEGEX_pleural, NEGEX_effusion, calcified, left, suprahilar, heart, mediastinum, within, normal, limits, bony, structures, intact, NEGEX_acute, NEGEX_cardiopulmonary, NEGEX_process]                                                                                                                                                                                                                                                                                                                                    \n",
              "3140  [2numNormal, 0numActive, 0numSize, 0numDisease, 1numClear, 0numHeart, 3numLung, 0numCardiomediastinal, 0numWithin, 0numContour, lungs, demonstrate, low, lung, volumes, clear, bilaterally, specifically, NEGEX_evidence, NEGEX_focal, NEGEX_consolidation, NEGEX_pneumothorax, NEGEX_pleural, NEGEX_effusion, .., NEGEX_mild, NEGEX_streaky, NEGEX_opacities, NEGEX_left, NEGEX_upper, NEGEX_lobe, NEGEX_frontal, NEGEX_projection, NEGEX_atelectatic, NEGEX_scar, cardio, mediastinal, silhouette, unremarkable, visualized, osseous, structures, thorax, without, NEGEX_acute, NEGEX_abnormality, low, lung, volumes, without, NEGEX_acute, NEGEX_cardiopulmonary, NEGEX_abnormality]  \n",
              "1108  [2numNormal, 0numActive, 0numSize, 0numDisease, 1numClear, 0numHeart, 1numLung, 0numCardiomediastinal, 1numWithin, 1numContour, slightly, hyperinflated, appearing, clear, lungs, mediastinal, contour, within, normal, limits, NEGEX_acute, NEGEX_cardiopulmonary, NEGEX_abnormality, NEGEX_identified]                                                                                                                                                                                                                                                                                                                                                                                  \n",
              "2730  [3numNormal, 0numActive, 1numSize, 1numDisease, 0numClear, 0numHeart, 1numLung, 1numCardiomediastinal, 1numWithin, 1numContour, cardiomediastinal, silhouette, within, normal, limits, size, contour, lungs, normally, inflated, without, NEGEX_evidence, NEGEX_focal, NEGEX_airspace, NEGEX_disease, NEGEX_pleural, NEGEX_effusion, NEGEX_pneumothorax, scattered, bilateral, calcified, pulmonary, nodules, NEGEX_acute, NEGEX_bone, NEGEX_abnormality, NEGEX_acute, NEGEX_cardiopulmonary, NEGEX_process]                                                                                                                                                                              \n",
              "1439  [2numNormal, 0numActive, 0numSize, 0numDisease, 1numClear, 1numHeart, 1numLung, 0numCardiomediastinal, 1numWithin, 0numContour, heart, mediastinal, silhouettes, within, normal, limits, lungs, clear, without, NEGEX_focal, NEGEX_airspace, NEGEX_opacity, large, NEGEX_effusion, NEGEX_pneumothorax, grossly, intact, degenerative, t-spine, osteophytes, NEGEX_acute, NEGEX_visualized, NEGEX_cardiopulmonary, NEGEX_abnormality]                                                                                                                                                                                                                                                      \n",
              "2645  [1numNormal, 0numActive, 1numSize, 1numDisease, 1numClear, 1numHeart, 1numLung, 0numCardiomediastinal, 0numWithin, 0numContour, heart, normal, size, mediastinum, unremarkable, lungs, clear, NEGEX_acute, NEGEX_disease]                                                                                                                                                                                                                                                                                                                                                                                                                                                                 \n",
              "3150  [1numNormal, 0numActive, 1numSize, 0numDisease, 1numClear, 0numHeart, 1numLung, 0numCardiomediastinal, 0numWithin, 1numContour, lungs, clear, NEGEX_pleural, NEGEX_effusions, NEGEX_pneumothoraces, heart, mediastinum, normal, size, contour, degenerative, changes, spine, clear, lungs]                                                                                                                                                                                                                                                                                                                                                                                                \n",
              "1808  [0numNormal, 1numActive, 0numSize, 1numDisease, 1numClear, 0numHeart, 1numLung, 1numCardiomediastinal, 0numWithin, 0numContour, lungs, clear, NEGEX_focal, NEGEX_airspace, NEGEX_consolidation, NEGEX_pleural, NEGEX_effusion, NEGEX_pneumothorax, normal, cardiomediastinal, silhouette, mild, degenerative, changes, spine, NEGEX_evidence, NEGEX_active, NEGEX_disease]                                                                                                                                                                                                                                                                                                                \n",
              "2368  [2numNormal, 0numActive, 1numSize, 0numDisease, 0numClear, 0numHeart, 0numLung, 0numCardiomediastinal, 0numWithin, 0numContour, NEGEX_focal, NEGEX_areas, NEGEX_consolidation, heart, size, normal, limits, NEGEX_pleural, NEGEX_effusions, NEGEX_evidence, NEGEX_pneumothorax, degenerative, changes, thoracic, spine, NEGEX_acute, NEGEX_cardiopulmonary, NEGEX_abnormality]                                                                                                                                                                                                                                                                                                            \n",
              "899   [1numNormal, 0numActive, 1numSize, 1numDisease, 1numClear, 1numHeart, 1numLung, 0numCardiomediastinal, 0numWithin, 0numContour, heart, normal, size, mediastinum, unremarkable, lungs, grossly, clear, bilateral, breast, prostheses, noted, NEGEX_acute, NEGEX_disease]                                                                                                                                                                                                                                                                                                                                                                                                                  \n",
              "2646  [2numNormal, 0numActive, 0numSize, 0numDisease, 1numClear, 0numHeart, 1numLung, 0numCardiomediastinal, 1numWithin, 0numContour, cardiomediastinal, silhouettes, within, normal, limits, low, lung, volumes, lungs, clear, without, NEGEX_focal, NEGEX_consolidation, NEGEX_pneumothorax, NEGEX_pleural, NEGEX_effusion, bony, thorax, unremarkable, NEGEX_acute, NEGEX_cardiopulmonary, NEGEX_abnormalities]                                                                                                                                                                                                                                                                              \n",
              "3152  [2numNormal, 0numActive, 1numSize, 0numDisease, 0numClear, 0numHeart, 0numLung, 0numCardiomediastinal, 1numWithin, 0numContour, heart, size, upper, limits, normal, mediastinal, silhouette, pulmonary, vascularity, within, normal, limits, NEGEX_edema, NEGEX_focal, NEGEX_airspace, NEGEX_consolidation, NEGEX_pneumothorax, pleural, effusion, versus, NEGEX_minimal, NEGEX_pleural, NEGEX_thickening, NEGEX_bilaterally]                                                                                                                                                                                                                                                             \n",
              "1333  [1numNormal, 0numActive, 1numSize, 0numDisease, 1numClear, 1numHeart, 0numLung, 0numCardiomediastinal, 1numWithin, 0numContour, heart, size, persistently, enlarged, lung, volumes, low, lungs, clear, NEGEX_pleural, NEGEX_line, suggest, NEGEX_pneumothorax, NEGEX_costophrenic, NEGEX_blunting, suggest, large, NEGEX_pleural, NEGEX_effusion, bony, structures, within, normal, limits, NEGEX_acute, NEGEX_cardiopulmonary, NEGEX_findings]                                                                                                                                                                                                                                           \n",
              "1817  [1numNormal, 0numActive, 1numSize, 0numDisease, 1numClear, 1numHeart, 1numLung, 0numCardiomediastinal, 0numWithin, 0numContour, lungs, clear, without, NEGEX_focal, NEGEX_consolidation, NEGEX_effusion, NEGEX_pneumothorax, normal, heart, size, degenerative, changes, thoracic, spine, negative, NEGEX_acute, NEGEX_cardiopulmonary, NEGEX_abnormality]                                                                                                                                                                                                                                                                                                                                \n",
              "1559  [3numNormal, 0numActive, 0numSize, 0numDisease, 1numClear, 0numHeart, 2numLung, 0numCardiomediastinal, 0numWithin, 0numContour, lateral, views, chest, obtained, 02/010/xxxx, lung, volumes, normal, lungs, clear, NEGEX_pleural, NEGEX_effusions, stable, mild, tenting, medial, aspect, right, diaphragm, mediastinum, pulmonary, normal, bony, elements, remarkable, NEGEX_acute, NEGEX_cardiopulmonary, NEGEX_abnormalities, seen, end, report]                                                                                                                                                                                                                                       \n",
              "3880  [2numNormal, 0numActive, 0numSize, 0numDisease, 0numClear, 0numHeart, 0numLung, 0numCardiomediastinal, 1numWithin, 0numContour, cardiomediastinal, silhouette, within, normal, limits, NEGEX_focal, NEGEX_consolidation, NEGEX_pneumothorax, NEGEX_pleural, NEGEX_effusion, NEGEX_acute, NEGEX_bony, NEGEX_abnormalities, degenerative, changes, thoracic, spine, NEGEX_acute, NEGEX_cardiopulmonary, NEGEX_findings]                                                                                                                                                                                                                                                                     \n",
              "538   [2numNormal, 0numActive, 1numSize, 0numDisease, 1numClear, 1numHeart, 1numLung, 1numCardiomediastinal, 0numWithin, 0numContour, heart, normal, size, normal, appearance, cardiomediastinal, silhouette, hiatal, hernia, soft, tissue, projecting, behind, mediastinum, lungs, clear, without, NEGEX_focal, NEGEX_airspace, NEGEX_opacity, NEGEX_pleural, NEGEX_effusion, NEGEX_pneumothorax, osseous, structures, intact, 1, NEGEX_acute, NEGEX_cardiopulmonary, NEGEX_finding, 2, hiatal, hernia]                                                                                                                                                                                        \n",
              "2295  [2numNormal, 0numActive, 1numSize, 0numDisease, 1numClear, 0numHeart, 1numLung, 0numCardiomediastinal, 1numWithin, 0numContour, lungs, clear, heart, size, normal, pneumothorax, endplate, changes, within, spine, NEGEX_acute, NEGEX_cardiopulmonary, NEGEX_abnormality]                                                                                                                                                                                                                                                                                                                                                                                                                 \n",
              "3030  [1numNormal, 0numActive, 1numSize, 1numDisease, 1numClear, 0numHeart, 1numLung, 0numCardiomediastinal, 0numWithin, 0numContour, lungs, clear, NEGEX_focal, NEGEX_consolidation, NEGEX_pleural, NEGEX_effusion, NEGEX_pneumothorax, heart, mediastinum, normal, size, shape, soft, tissues, unremarkable, probable, nerve, stimulator, noted, NEGEX_acute, NEGEX_cardiopulmonary, NEGEX_disease]                                                                                                                                                                                                                                                                                           \n",
              "1386  [2numNormal, 0numActive, 1numSize, 0numDisease, 0numClear, 1numHeart, 0numLung, 1numCardiomediastinal, 0numWithin, 0numContour, heart, normal, size, normal, appearance, cardiomediastinal, silhouette, NEGEX_focal, NEGEX_air, NEGEX_space, NEGEX_opacity, NEGEX_pleural, NEGEX_effusion, NEGEX_pneumothorax, osseous, structures, intact, degenerative, changes, thoracic, spine, NEGEX_acute, NEGEX_cardiopulmonary, NEGEX_finding]                                                                                                                                                                                                                                                    \n",
              "1516  [1numNormal, 0numActive, 0numSize, 0numDisease, 1numClear, 0numHeart, 1numLung, 1numCardiomediastinal, 1numWithin, 0numContour, lungs, clear, cardiomediastinal, silhouette, within, normal, limits, ectasia, thoracic, aorta, NEGEX_pleural, NEGEX_effusion, NEGEX_identified, normal, chest, film]                                                                                                                                                                                                                                                                                                                                                                                      \n",
              "3747  [1numNormal, 0numActive, 0numSize, 0numDisease, 1numClear, 0numHeart, 2numLung, 1numCardiomediastinal, 1numWithin, 0numContour, cardiomediastinal, silhouette, within, normal, limits, lungs, clear, without, areas, NEGEX_focal, NEGEX_consolidation, pneumothorax, NEGEX_pleural, NEGEX_effusion, NEGEX_lucency, NEGEX_right, NEGEX_hemidiaphragm, may, represent, focus, free, air, 1, NEGEX_lucency, NEGEX_right, NEGEX_hemidiaphragm, may, represent, free, intraperitoneal, air, left, lateral, decubitus, film, may, helpful, 2, clear, lungs]                                                                                                                                     \n",
              "2097  [2numNormal, 0numActive, 0numSize, 0numDisease, 0numClear, 0numHeart, 0numLung, 1numCardiomediastinal, 1numWithin, 0numContour, NEGEX_cardiomediastinal, NEGEX_silhouette, NEGEX_pulmonary, NEGEX_vasculature, within, normal, NEGEX_limits, NEGEX_pneumothorax, NEGEX_pleural, NEGEX_effusion, NEGEX_focal, NEGEX_areas, NEGEX_consolidation, t-spine, osteophytes, NEGEX_acute, NEGEX_cardiopulmonary, NEGEX_abnormality]                                                                                                                                                                                                                                                               \n",
              "173   [1numNormal, 0numActive, 1numSize, 0numDisease, 0numClear, 1numHeart, 0numLung, 1numCardiomediastinal, 0numWithin, 0numContour, heart, size, cardiomediastinal, silhouette, normal, NEGEX_focal, NEGEX_air, NEGEX_space, NEGEX_opacity, NEGEX_pleural, NEGEX_effusion, NEGEX_pneumothorax, osseous, structures, intact, mild, degenerative, changes, thoracic, spine, NEGEX_acute, NEGEX_cardiopulmonary, NEGEX_finding]                                                                                                                                                                                                                                                                  \n",
              "44    [1numNormal, 0numActive, 1numSize, 1numDisease, 1numClear, 1numHeart, 1numLung, 0numCardiomediastinal, 0numWithin, 0numContour, heart, normal, size, mediastinum, unremarkable, lungs, hypoinflated, clear, NEGEX_acute, NEGEX_disease]                                                                                                                                                                                                                                                                                                                                                                                                                                                   \n",
              "274   [1numNormal, 0numActive, 0numSize, 0numDisease, 1numClear, 0numHeart, 1numLung, 0numCardiomediastinal, 1numWithin, 1numContour, cardiac, mediastinal, contours, within, normal, limits, granulomatous, calcifications, mediastinum, lungs, clear, bony, structures, intact, NEGEX_acute, NEGEX_findings]                                                                                                                                                                                                                                                                                                                                                                                  \n",
              "376   [2numNormal, 0numActive, 0numSize, 1numDisease, 2numClear, 1numHeart, 1numLung, 0numCardiomediastinal, 0numWithin, 1numContour, lungs, clear, heart, pulmonary, normal, pleural, spaces, clear, mediastinal, contours, normal, stable, lucency, right, mid, clavicle, dating, back, NEGEX_acute, NEGEX_cardiopulmonary, NEGEX_disease]                                                                                                                                                                                                                                                                                                                                                    \n",
              "1855  [2numNormal, 0numActive, 1numSize, 0numDisease, 1numClear, 0numHeart, 2numLung, 0numCardiomediastinal, 1numWithin, 1numContour, low, lung, volumes, lungs, clear, NEGEX_focal, NEGEX_airspace, NEGEX_consolidation, NEGEX_pleural, NEGEX_effusion, NEGEX_pneumothorax, heart, size, mediastinal, contour, appear, within, normal, limits, NEGEX_acute, NEGEX_abnormality, demonstrated]                                                                                                                                                                                                                                                                                                   \n",
              "3767  [2numNormal, 0numActive, 0numSize, 0numDisease, 1numClear, 0numHeart, 1numLung, 0numCardiomediastinal, 1numWithin, 1numContour, tortuous, thoracic, aorta, well-expanded, clear, lungs, mediastinal, contour, within, normal, limits, NEGEX_acute, NEGEX_cardiopulmonary, NEGEX_abnormality, NEGEX_identified]                                                                                                                                                                                                                                                                                                                                                                            \n",
              "1936  [2numNormal, 0numActive, 0numSize, 1numDisease, 2numClear, 1numHeart, 2numLung, 0numCardiomediastinal, 0numWithin, 1numContour, lungs, clear, heart, pulmonary, appear, normal, pleural, spaces, clear, mediastinal, contours, normal, bony, overlap, lung, apices, could, obscure, small, pulmonary, nodule, NEGEX_acute, NEGEX_cardiopulmonary, NEGEX_disease]                                                                                                                                                                                                                                                                                                                          \n",
              "3185  [2numNormal, 0numActive, 0numSize, 0numDisease, 1numClear, 0numHeart, 0numLung, 0numCardiomediastinal, 1numWithin, 0numContour, stable, calcified, hilar, granulomas, lungs, clear, bilaterally, NEGEX_focal, NEGEX_consolidation, NEGEX_pleural, NEGEX_effusion, NEGEX_pneumothoraces, cardiomediastinal, silhouette, within, normal, limits, unremarkable, NEGEX_acute, NEGEX_cardiopulmonary, NEGEX_abnormality]                                                                                                                                                                                                                                                                       "
            ],
            "text/html": [
              "\n",
              "  <div id=\"df-ebb0b17b-dfd9-461e-8ac3-b4fbdd4e1476\">\n",
              "    <div class=\"colab-df-container\">\n",
              "      <div>\n",
              "<style scoped>\n",
              "    .dataframe tbody tr th:only-of-type {\n",
              "        vertical-align: middle;\n",
              "    }\n",
              "\n",
              "    .dataframe tbody tr th {\n",
              "        vertical-align: top;\n",
              "    }\n",
              "\n",
              "    .dataframe thead th {\n",
              "        text-align: right;\n",
              "    }\n",
              "</style>\n",
              "<table border=\"1\" class=\"dataframe\">\n",
              "  <thead>\n",
              "    <tr style=\"text-align: right;\">\n",
              "      <th></th>\n",
              "      <th>full-text</th>\n",
              "      <th>label</th>\n",
              "      <th>nb</th>\n",
              "      <th>tokens</th>\n",
              "    </tr>\n",
              "  </thead>\n",
              "  <tbody>\n",
              "    <tr>\n",
              "      <th>239</th>\n",
              "      <td>The cardiomediastinal contours are within normal limits. Pulmonary vasculature is unremarkable. There is no focal airspace opacity. No pleural effusion or pneumothorax is seen. Multiple healed bilateral rib fractures. No acute bony abnormality is identified. No acute cardiopulmonary abnormality.</td>\n",
              "      <td>abnormal</td>\n",
              "      <td>0</td>\n",
              "      <td>[3numNormal, 0numActive, 0numSize, 0numDisease, 0numClear, 0numHeart, 0numLung, 1numCardiomediastinal, 1numWithin, 1numContour, cardiomediastinal, contours, within, normal, limits, pulmonary, vasculature, unremarkable, NEGEX_focal, NEGEX_airspace, NEGEX_opacity, NEGEX_pleural, NEGEX_effusion, NEGEX_pneumothorax, seen, multiple, healed, bilateral, rib, fractures, NEGEX_acute, NEGEX_bony, NEGEX_abnormality, NEGEX_identified, NEGEX_acute, NEGEX_cardiopulmonary, NEGEX_abnormality]</td>\n",
              "    </tr>\n",
              "    <tr>\n",
              "      <th>1943</th>\n",
              "      <td>1. Chest. No visible active cardiopulmonary disease. 2. Left hip. Advanced posttraumatic osteoarthritis.</td>\n",
              "      <td>normal</td>\n",
              "      <td>1</td>\n",
              "      <td>[0numNormal, 1numActive, 0numSize, 1numDisease, 0numClear, 0numHeart, 0numLung, 0numCardiomediastinal, 0numWithin, 0numContour, 1, chest, visible, active, cardiopulmonary, disease, 2, left, hip, advanced, posttraumatic, osteoarthritis]</td>\n",
              "    </tr>\n",
              "    <tr>\n",
              "      <th>1228</th>\n",
              "      <td>PA and lateral radiograph the chest demonstrate stable cardiomediastinal silhouette. No focal consolidation, large pleural effusion, or pneumothorax is identified. Evidence of prior granulomatous disease. Visualized osseous structures appear intact. No acute cardiopulmonary abnormality.</td>\n",
              "      <td>abnormal</td>\n",
              "      <td>0</td>\n",
              "      <td>[1numNormal, 0numActive, 0numSize, 1numDisease, 0numClear, 0numHeart, 0numLung, 1numCardiomediastinal, 0numWithin, 0numContour, pa, lateral, radiograph, chest, demonstrate, stable, cardiomediastinal, silhouette, NEGEX_focal, NEGEX_consolidation, large, NEGEX_pleural, NEGEX_effusion, NEGEX_pneumothorax, NEGEX_identified, evidence, prior, granulomatous, disease, visualized, osseous, structures, appear, intact, NEGEX_acute, NEGEX_cardiopulmonary, NEGEX_abnormality]</td>\n",
              "    </tr>\n",
              "    <tr>\n",
              "      <th>95</th>\n",
              "      <td>Heart size, mediastinal contour, and pulmonary vascularity are within normal limits. Stable tortuosity of the thoracic aorta. No focal consolidation, pleural effusion, or pneumothorax is identified. No acute osseous abnormality identified. No acute cardiopulmonary abnormality. .</td>\n",
              "      <td>abnormal</td>\n",
              "      <td>0</td>\n",
              "      <td>[3numNormal, 0numActive, 1numSize, 0numDisease, 0numClear, 0numHeart, 0numLung, 0numCardiomediastinal, 1numWithin, 1numContour, heart, size, mediastinal, contour, pulmonary, vascularity, within, normal, limits, stable, tortuosity, thoracic, aorta, NEGEX_focal, NEGEX_consolidation, NEGEX_pleural, NEGEX_effusion, NEGEX_pneumothorax, NEGEX_identified, NEGEX_acute, osseous, NEGEX_abnormality, NEGEX_identified, NEGEX_acute, NEGEX_cardiopulmonary, NEGEX_abnormality]</td>\n",
              "    </tr>\n",
              "    <tr>\n",
              "      <th>3851</th>\n",
              "      <td>Lungs appear hyperinflated. This may be secondary to XXXX voluntary XXXX considering patient's age. Clear lungs. Mediastinal contour within normal limits. No acute cardiopulmonary abnormality identified.</td>\n",
              "      <td>abnormal</td>\n",
              "      <td>0</td>\n",
              "      <td>[2numNormal, 0numActive, 0numSize, 0numDisease, 0numClear, 0numHeart, 1numLung, 0numCardiomediastinal, 1numWithin, 1numContour, lungs, appear, hyperinflated, may, secondary, voluntary, considering, patient, 's, age, clear, lungs, mediastinal, contour, within, normal, limits, NEGEX_acute, NEGEX_cardiopulmonary, NEGEX_abnormality, NEGEX_identified]</td>\n",
              "    </tr>\n",
              "    <tr>\n",
              "      <th>719</th>\n",
              "      <td>The cardiomediastinal silhouette and pulmonary vasculature are within normal limits. There is no pneumothorax or pleural effusion. There are no focal areas of consolidation. Small T-spine osteophytes. No acute cardiopulmonary abnormality.</td>\n",
              "      <td>abnormal</td>\n",
              "      <td>0</td>\n",
              "      <td>[2numNormal, 0numActive, 0numSize, 0numDisease, 0numClear, 0numHeart, 0numLung, 1numCardiomediastinal, 1numWithin, 0numContour, cardiomediastinal, silhouette, pulmonary, vasculature, within, normal, limits, NEGEX_pneumothorax, NEGEX_pleural, NEGEX_effusion, NEGEX_focal, NEGEX_areas, NEGEX_consolidation, small, t-spine, osteophytes, NEGEX_acute, NEGEX_cardiopulmonary, NEGEX_abnormality]</td>\n",
              "    </tr>\n",
              "    <tr>\n",
              "      <th>1018</th>\n",
              "      <td>The trachea is midline. The cardiomediastinal silhouette is normal and unchanged compared to prior examination. The lungs are clear, without evidence of acute infiltrate or effusion. There is no pneumothorax. The visualized bony structures reveal no acute abnormalities. There is hiatal hernia. No acute cardiopulmonary abnormalities.</td>\n",
              "      <td>abnormal</td>\n",
              "      <td>0</td>\n",
              "      <td>[3numNormal, 0numActive, 0numSize, 0numDisease, 1numClear, 0numHeart, 1numLung, 1numCardiomediastinal, 0numWithin, 0numContour, trachea, midline, cardiomediastinal, silhouette, normal, unchanged, compared, prior, examination, lungs, clear, without, NEGEX_evidence, NEGEX_acute, NEGEX_infiltrate, NEGEX_effusion, NEGEX_pneumothorax, visualized, bony, structures, reveal, NEGEX_acute, NEGEX_abnormalities, hiatal, hernia, NEGEX_acute, NEGEX_cardiopulmonary, NEGEX_abnormalities]</td>\n",
              "    </tr>\n",
              "    <tr>\n",
              "      <th>144</th>\n",
              "      <td>The lungs are clear bilaterally. Specifically, no evidence of focal consolidation, pneumothorax, or pleural effusion.. Left basilar subsegmental atelectasis versus scar noted. Cardio mediastinal silhouette is unremarkable. Visualized osseous structures of the thorax are without acute abnormality. No acute cardiopulmonary abnormality. Specifically, no evidence of active tuberculous process.</td>\n",
              "      <td>abnormal</td>\n",
              "      <td>0</td>\n",
              "      <td>[2numNormal, 1numActive, 0numSize, 0numDisease, 1numClear, 0numHeart, 1numLung, 0numCardiomediastinal, 0numWithin, 0numContour, lungs, clear, bilaterally, specifically, NEGEX_evidence, NEGEX_focal, NEGEX_consolidation, NEGEX_pneumothorax, NEGEX_pleural, NEGEX_effusion, .., NEGEX_left, NEGEX_basilar, NEGEX_subsegmental, NEGEX_atelectasis, versus, NEGEX_scar, noted, cardio, mediastinal, silhouette, unremarkable, visualized, osseous, structures, thorax, without, NEGEX_acute, NEGEX_abnormality, NEGEX_acute, NEGEX_cardiopulmonary, NEGEX_abnormality, specifically, NEGEX_evidence, NEGEX_active, NEGEX_tuberculous, process]</td>\n",
              "    </tr>\n",
              "    <tr>\n",
              "      <th>2175</th>\n",
              "      <td>Heart size is within normal limits. Aorta is tortuous. Remainder of the cardiomediastinal silhouette is normal. Lungs are clear bilaterally without pleural effusion or pneumothorax. No bony abnormalities. No active disease.</td>\n",
              "      <td>abnormal</td>\n",
              "      <td>0</td>\n",
              "      <td>[3numNormal, 1numActive, 1numSize, 1numDisease, 1numClear, 0numHeart, 0numLung, 1numCardiomediastinal, 1numWithin, 0numContour, heart, size, within, normal, limits, aorta, tortuous, remainder, cardiomediastinal, silhouette, normal, lungs, clear, bilaterally, without, NEGEX_pleural, NEGEX_effusion, NEGEX_pneumothorax, NEGEX_bony, NEGEX_abnormalities, active, disease]</td>\n",
              "    </tr>\n",
              "    <tr>\n",
              "      <th>3305</th>\n",
              "      <td>The heart, pulmonary XXXX and mediastinum are within normal limits. There is no pleural effusion or pneumothorax. There is no focal air space opacity to suggest a pneumonia. There are mild degenerative changes of the spine. No acute cardiopulmonary disease.</td>\n",
              "      <td>abnormal</td>\n",
              "      <td>0</td>\n",
              "      <td>[1numNormal, 0numActive, 0numSize, 1numDisease, 0numClear, 1numHeart, 0numLung, 0numCardiomediastinal, 1numWithin, 0numContour, heart, pulmonary, mediastinum, within, normal, limits, NEGEX_pleural, NEGEX_effusion, NEGEX_pneumothorax, NEGEX_focal, NEGEX_air, NEGEX_space, NEGEX_opacity, suggest, NEGEX_pneumonia, mild, degenerative, changes, spine, NEGEX_acute, NEGEX_cardiopulmonary, NEGEX_disease]</td>\n",
              "    </tr>\n",
              "    <tr>\n",
              "      <th>3459</th>\n",
              "      <td>Cardiac and mediastinal XXXX appear normal. No visible pneumothorax, focal airspace opacity, or pleural effusion is seen. No visible free air under the diaphragm. The osseous structures appear intact. There is a mild dextro scoliotic curvature of the midthoracic spine. No acute radiographic cardiopulmonary process. .</td>\n",
              "      <td>abnormal</td>\n",
              "      <td>0</td>\n",
              "      <td>[1numNormal, 0numActive, 0numSize, 0numDisease, 0numClear, 0numHeart, 0numLung, 0numCardiomediastinal, 0numWithin, 0numContour, cardiac, mediastinal, appear, normal, visible, pneumothorax, NEGEX_focal, NEGEX_airspace, NEGEX_opacity, NEGEX_pleural, NEGEX_effusion, seen, visible, free, air, NEGEX_diaphragm, osseous, structures, appear, intact, mild, dextro, scoliotic, curvature, midthoracic, spine, NEGEX_acute, radiographic, cardiopulmonary, process]</td>\n",
              "    </tr>\n",
              "    <tr>\n",
              "      <th>2703</th>\n",
              "      <td>The cardiomediastinal silhouette and pulmonary vasculature are within normal limits in size. The lungs are clear of focal airspace disease, pneumothorax, or pleural effusion. XXXX closure device demonstrated projecting over the right heart. There are no acute bony findings. No acute cardiopulmonary findings.</td>\n",
              "      <td>abnormal</td>\n",
              "      <td>0</td>\n",
              "      <td>[1numNormal, 0numActive, 1numSize, 1numDisease, 1numClear, 1numHeart, 1numLung, 1numCardiomediastinal, 1numWithin, 0numContour, cardiomediastinal, silhouette, pulmonary, vasculature, within, normal, limits, size, lungs, clear, focal, airspace, disease, pneumothorax, pleural, effusion, closure, device, demonstrated, projecting, right, heart, NEGEX_acute, NEGEX_bony, NEGEX_findings, NEGEX_acute, NEGEX_cardiopulmonary, NEGEX_findings]</td>\n",
              "    </tr>\n",
              "    <tr>\n",
              "      <th>1237</th>\n",
              "      <td>The cardiomediastinal silhouette and pulmonary vasculature are within normal limits. There is no pneumothorax or pleural effusion. There are no focal areas of consolidation. Small T-spine osteophytes. No acute cardiopulmonary abnormality.</td>\n",
              "      <td>abnormal</td>\n",
              "      <td>0</td>\n",
              "      <td>[2numNormal, 0numActive, 0numSize, 0numDisease, 0numClear, 0numHeart, 0numLung, 1numCardiomediastinal, 1numWithin, 0numContour, cardiomediastinal, silhouette, pulmonary, vasculature, within, normal, limits, NEGEX_pneumothorax, NEGEX_pleural, NEGEX_effusion, NEGEX_focal, NEGEX_areas, NEGEX_consolidation, small, t-spine, osteophytes, NEGEX_acute, NEGEX_cardiopulmonary, NEGEX_abnormality]</td>\n",
              "    </tr>\n",
              "    <tr>\n",
              "      <th>1079</th>\n",
              "      <td>Normal cardiomediastinal silhouette. There is no focal consolidation. There are no XXXX of a large pleural effusion. There is no pneumothorax. There is no acute bony abnormality seen. Mild degenerative changes of the spine. There is no radiographic evidence of acute cardiopulmonary disease.</td>\n",
              "      <td>abnormal</td>\n",
              "      <td>0</td>\n",
              "      <td>[1numNormal, 0numActive, 0numSize, 1numDisease, 0numClear, 0numHeart, 0numLung, 1numCardiomediastinal, 0numWithin, 0numContour, normal, cardiomediastinal, silhouette, NEGEX_focal, NEGEX_consolidation, large, NEGEX_pleural, NEGEX_effusion, NEGEX_pneumothorax, NEGEX_acute, NEGEX_bony, NEGEX_abnormality, seen, mild, degenerative, changes, spine, NEGEX_radiographic, NEGEX_evidence, NEGEX_acute, NEGEX_cardiopulmonary, NEGEX_disease]</td>\n",
              "    </tr>\n",
              "    <tr>\n",
              "      <th>2683</th>\n",
              "      <td>The lungs are clear. Heart size is normal. No pneumothorax. There are endplate changes within the spine. Clear lungs. No acute cardiopulmonary abnormality. .</td>\n",
              "      <td>abnormal</td>\n",
              "      <td>0</td>\n",
              "      <td>[2numNormal, 0numActive, 1numSize, 0numDisease, 1numClear, 0numHeart, 2numLung, 0numCardiomediastinal, 1numWithin, 0numContour, lungs, clear, heart, size, normal, pneumothorax, endplate, changes, within, spine, clear, lungs, NEGEX_acute, NEGEX_cardiopulmonary, NEGEX_abnormality]</td>\n",
              "    </tr>\n",
              "    <tr>\n",
              "      <th>3269</th>\n",
              "      <td>Heart XXXX, mediastinum, XXXX, bony structures and lung XXXX are unremarkable. No significant interval change compared to prior study, no XXXX infiltrates noted. No radiographic evidence of acute cardiopulmonary disease</td>\n",
              "      <td>normal</td>\n",
              "      <td>1</td>\n",
              "      <td>[0numNormal, 0numActive, 0numSize, 1numDisease, 0numClear, 0numHeart, 1numLung, 0numCardiomediastinal, 0numWithin, 0numContour, heart, mediastinum, bony, structures, lung, unremarkable, significant, interval, change, compared, prior, study, NEGEX_infiltrates, noted, NEGEX_radiographic, NEGEX_evidence, NEGEX_acute, NEGEX_cardiopulmonary, NEGEX_disease]</td>\n",
              "    </tr>\n",
              "    <tr>\n",
              "      <th>112</th>\n",
              "      <td>The cardiomediastinal silhouette and pulmonary vasculature are within normal limits. There is no pneumothorax or pleural effusion. There are no focal areas of consolidation. Cholecystectomy clips are present. No acute cardiopulmonary abnormality.</td>\n",
              "      <td>abnormal</td>\n",
              "      <td>0</td>\n",
              "      <td>[2numNormal, 0numActive, 0numSize, 0numDisease, 0numClear, 0numHeart, 0numLung, 1numCardiomediastinal, 1numWithin, 0numContour, cardiomediastinal, silhouette, pulmonary, vasculature, within, normal, limits, NEGEX_pneumothorax, NEGEX_pleural, NEGEX_effusion, NEGEX_focal, NEGEX_areas, NEGEX_consolidation, cholecystectomy, clips, present, NEGEX_acute, NEGEX_cardiopulmonary, NEGEX_abnormality]</td>\n",
              "    </tr>\n",
              "    <tr>\n",
              "      <th>2968</th>\n",
              "      <td>Heart size and mediastinal contour are normal. Pulmonary vascularity is normal. Lungs are clear. No pleural effusions or pneumothoraces. Degenerative changes in the thoracic spine. Normal chest.</td>\n",
              "      <td>abnormal</td>\n",
              "      <td>0</td>\n",
              "      <td>[2numNormal, 0numActive, 1numSize, 0numDisease, 1numClear, 0numHeart, 0numLung, 0numCardiomediastinal, 0numWithin, 1numContour, heart, size, mediastinal, contour, normal, pulmonary, vascularity, normal, lungs, clear, NEGEX_pleural, NEGEX_effusions, NEGEX_pneumothoraces, degenerative, changes, thoracic, spine, normal, chest]</td>\n",
              "    </tr>\n",
              "    <tr>\n",
              "      <th>404</th>\n",
              "      <td>Cardiac and mediastinal contours are within normal limits. Prior granulomatous disease. The lungs are otherwise clear. Bony structures are intact. Negative chest x-XXXX.</td>\n",
              "      <td>abnormal</td>\n",
              "      <td>0</td>\n",
              "      <td>[1numNormal, 0numActive, 0numSize, 1numDisease, 1numClear, 0numHeart, 1numLung, 0numCardiomediastinal, 1numWithin, 1numContour, cardiac, mediastinal, contours, within, normal, limits, prior, granulomatous, disease, lungs, otherwise, clear, bony, structures, intact, negative, chest, x-xxxx]</td>\n",
              "    </tr>\n",
              "    <tr>\n",
              "      <th>2365</th>\n",
              "      <td>Lungs are clear. There is no pneumothorax or pleural effusion. Calcified left suprahilar XXXX. The heart and mediastinum are within normal limits. Bony structures are intact. No acute cardiopulmonary process.</td>\n",
              "      <td>abnormal</td>\n",
              "      <td>0</td>\n",
              "      <td>[1numNormal, 0numActive, 0numSize, 0numDisease, 1numClear, 1numHeart, 0numLung, 0numCardiomediastinal, 1numWithin, 0numContour, lungs, clear, NEGEX_pneumothorax, NEGEX_pleural, NEGEX_effusion, calcified, left, suprahilar, heart, mediastinum, within, normal, limits, bony, structures, intact, NEGEX_acute, NEGEX_cardiopulmonary, NEGEX_process]</td>\n",
              "    </tr>\n",
              "    <tr>\n",
              "      <th>3140</th>\n",
              "      <td>The lungs demonstrate low lung volumes but are clear bilaterally. Specifically, no evidence of focal consolidation, pneumothorax, or pleural effusion.. Mild streaky opacities in the left upper lobe on frontal projection are XXXX atelectatic or scar. Cardio mediastinal silhouette is unremarkable. Visualized osseous structures of the thorax are without acute abnormality. Low lung volumes without acute cardiopulmonary abnormality.</td>\n",
              "      <td>abnormal</td>\n",
              "      <td>0</td>\n",
              "      <td>[2numNormal, 0numActive, 0numSize, 0numDisease, 1numClear, 0numHeart, 3numLung, 0numCardiomediastinal, 0numWithin, 0numContour, lungs, demonstrate, low, lung, volumes, clear, bilaterally, specifically, NEGEX_evidence, NEGEX_focal, NEGEX_consolidation, NEGEX_pneumothorax, NEGEX_pleural, NEGEX_effusion, .., NEGEX_mild, NEGEX_streaky, NEGEX_opacities, NEGEX_left, NEGEX_upper, NEGEX_lobe, NEGEX_frontal, NEGEX_projection, NEGEX_atelectatic, NEGEX_scar, cardio, mediastinal, silhouette, unremarkable, visualized, osseous, structures, thorax, without, NEGEX_acute, NEGEX_abnormality, low, lung, volumes, without, NEGEX_acute, NEGEX_cardiopulmonary, NEGEX_abnormality]</td>\n",
              "    </tr>\n",
              "    <tr>\n",
              "      <th>1108</th>\n",
              "      <td>Slightly hyperinflated appearing but clear lungs. Mediastinal contour within normal limits. No acute cardiopulmonary abnormality identified.</td>\n",
              "      <td>abnormal</td>\n",
              "      <td>0</td>\n",
              "      <td>[2numNormal, 0numActive, 0numSize, 0numDisease, 1numClear, 0numHeart, 1numLung, 0numCardiomediastinal, 1numWithin, 1numContour, slightly, hyperinflated, appearing, clear, lungs, mediastinal, contour, within, normal, limits, NEGEX_acute, NEGEX_cardiopulmonary, NEGEX_abnormality, NEGEX_identified]</td>\n",
              "    </tr>\n",
              "    <tr>\n",
              "      <th>2730</th>\n",
              "      <td>The cardiomediastinal silhouette is within normal limits for size and contour. The lungs are normally inflated without evidence of focal airspace disease, pleural effusion, or pneumothorax. Scattered bilateral calcified pulmonary nodules. No acute bone abnormality. No acute cardiopulmonary process.</td>\n",
              "      <td>abnormal</td>\n",
              "      <td>0</td>\n",
              "      <td>[3numNormal, 0numActive, 1numSize, 1numDisease, 0numClear, 0numHeart, 1numLung, 1numCardiomediastinal, 1numWithin, 1numContour, cardiomediastinal, silhouette, within, normal, limits, size, contour, lungs, normally, inflated, without, NEGEX_evidence, NEGEX_focal, NEGEX_airspace, NEGEX_disease, NEGEX_pleural, NEGEX_effusion, NEGEX_pneumothorax, scattered, bilateral, calcified, pulmonary, nodules, NEGEX_acute, NEGEX_bone, NEGEX_abnormality, NEGEX_acute, NEGEX_cardiopulmonary, NEGEX_process]</td>\n",
              "    </tr>\n",
              "    <tr>\n",
              "      <th>1439</th>\n",
              "      <td>The heart and mediastinal silhouettes are within normal limits. The lungs are clear without focal airspace opacity, large effusion, or pneumothorax. The XXXX are grossly intact. Degenerative T-spine osteophytes. No acute visualized cardiopulmonary abnormality.</td>\n",
              "      <td>abnormal</td>\n",
              "      <td>0</td>\n",
              "      <td>[2numNormal, 0numActive, 0numSize, 0numDisease, 1numClear, 1numHeart, 1numLung, 0numCardiomediastinal, 1numWithin, 0numContour, heart, mediastinal, silhouettes, within, normal, limits, lungs, clear, without, NEGEX_focal, NEGEX_airspace, NEGEX_opacity, large, NEGEX_effusion, NEGEX_pneumothorax, grossly, intact, degenerative, t-spine, osteophytes, NEGEX_acute, NEGEX_visualized, NEGEX_cardiopulmonary, NEGEX_abnormality]</td>\n",
              "    </tr>\n",
              "    <tr>\n",
              "      <th>2645</th>\n",
              "      <td>The heart is normal in size. The mediastinum is unremarkable. The lungs are clear. No acute disease.</td>\n",
              "      <td>abnormal</td>\n",
              "      <td>0</td>\n",
              "      <td>[1numNormal, 0numActive, 1numSize, 1numDisease, 1numClear, 1numHeart, 1numLung, 0numCardiomediastinal, 0numWithin, 0numContour, heart, normal, size, mediastinum, unremarkable, lungs, clear, NEGEX_acute, NEGEX_disease]</td>\n",
              "    </tr>\n",
              "    <tr>\n",
              "      <th>3150</th>\n",
              "      <td>Lungs are clear. No pleural effusions or pneumothoraces. Heart and mediastinum of normal size and contour. Degenerative changes in the spine. Clear lungs.</td>\n",
              "      <td>abnormal</td>\n",
              "      <td>0</td>\n",
              "      <td>[1numNormal, 0numActive, 1numSize, 0numDisease, 1numClear, 0numHeart, 1numLung, 0numCardiomediastinal, 0numWithin, 1numContour, lungs, clear, NEGEX_pleural, NEGEX_effusions, NEGEX_pneumothoraces, heart, mediastinum, normal, size, contour, degenerative, changes, spine, clear, lungs]</td>\n",
              "    </tr>\n",
              "    <tr>\n",
              "      <th>1808</th>\n",
              "      <td>The lungs are clear. No focal airspace consolidation. No pleural effusion or pneumothorax. Normal cardiomediastinal silhouette. Mild degenerative changes of the spine. No evidence of active disease.</td>\n",
              "      <td>abnormal</td>\n",
              "      <td>0</td>\n",
              "      <td>[0numNormal, 1numActive, 0numSize, 1numDisease, 1numClear, 0numHeart, 1numLung, 1numCardiomediastinal, 0numWithin, 0numContour, lungs, clear, NEGEX_focal, NEGEX_airspace, NEGEX_consolidation, NEGEX_pleural, NEGEX_effusion, NEGEX_pneumothorax, normal, cardiomediastinal, silhouette, mild, degenerative, changes, spine, NEGEX_evidence, NEGEX_active, NEGEX_disease]</td>\n",
              "    </tr>\n",
              "    <tr>\n",
              "      <th>2368</th>\n",
              "      <td>No focal areas of consolidation. Heart size normal limits. No pleural effusions. No evidence of pneumothorax. Degenerative changes thoracic spine. No acute cardiopulmonary abnormality. .</td>\n",
              "      <td>abnormal</td>\n",
              "      <td>0</td>\n",
              "      <td>[2numNormal, 0numActive, 1numSize, 0numDisease, 0numClear, 0numHeart, 0numLung, 0numCardiomediastinal, 0numWithin, 0numContour, NEGEX_focal, NEGEX_areas, NEGEX_consolidation, heart, size, normal, limits, NEGEX_pleural, NEGEX_effusions, NEGEX_evidence, NEGEX_pneumothorax, degenerative, changes, thoracic, spine, NEGEX_acute, NEGEX_cardiopulmonary, NEGEX_abnormality]</td>\n",
              "    </tr>\n",
              "    <tr>\n",
              "      <th>899</th>\n",
              "      <td>The heart is normal in size. The mediastinum is unremarkable. The lungs are grossly clear. Bilateral breast prostheses are noted. No acute disease.</td>\n",
              "      <td>abnormal</td>\n",
              "      <td>0</td>\n",
              "      <td>[1numNormal, 0numActive, 1numSize, 1numDisease, 1numClear, 1numHeart, 1numLung, 0numCardiomediastinal, 0numWithin, 0numContour, heart, normal, size, mediastinum, unremarkable, lungs, grossly, clear, bilateral, breast, prostheses, noted, NEGEX_acute, NEGEX_disease]</td>\n",
              "    </tr>\n",
              "    <tr>\n",
              "      <th>2646</th>\n",
              "      <td>Cardiomediastinal silhouettes are within normal limits. Low lung volumes. Lungs are clear without focal consolidation, pneumothorax, or pleural effusion. Bony thorax is unremarkable. No acute cardiopulmonary abnormalities.</td>\n",
              "      <td>abnormal</td>\n",
              "      <td>0</td>\n",
              "      <td>[2numNormal, 0numActive, 0numSize, 0numDisease, 1numClear, 0numHeart, 1numLung, 0numCardiomediastinal, 1numWithin, 0numContour, cardiomediastinal, silhouettes, within, normal, limits, low, lung, volumes, lungs, clear, without, NEGEX_focal, NEGEX_consolidation, NEGEX_pneumothorax, NEGEX_pleural, NEGEX_effusion, bony, thorax, unremarkable, NEGEX_acute, NEGEX_cardiopulmonary, NEGEX_abnormalities]</td>\n",
              "    </tr>\n",
              "    <tr>\n",
              "      <th>3152</th>\n",
              "      <td>Heart size upper limits normal. Mediastinal silhouette and pulmonary vascularity within normal limits. No edema, focal airspace consolidation, or pneumothorax. XXXX pleural effusion versus minimal pleural thickening bilaterally.</td>\n",
              "      <td>abnormal</td>\n",
              "      <td>0</td>\n",
              "      <td>[2numNormal, 0numActive, 1numSize, 0numDisease, 0numClear, 0numHeart, 0numLung, 0numCardiomediastinal, 1numWithin, 0numContour, heart, size, upper, limits, normal, mediastinal, silhouette, pulmonary, vascularity, within, normal, limits, NEGEX_edema, NEGEX_focal, NEGEX_airspace, NEGEX_consolidation, NEGEX_pneumothorax, pleural, effusion, versus, NEGEX_minimal, NEGEX_pleural, NEGEX_thickening, NEGEX_bilaterally]</td>\n",
              "    </tr>\n",
              "    <tr>\n",
              "      <th>1333</th>\n",
              "      <td>The heart size is persistently enlarged. Lung volumes are low. Lungs are clear. There is no pleural line to suggest pneumothorax or costophrenic XXXX blunting to suggest large pleural effusion. Bony structures are within normal limits. No acute cardiopulmonary findings.</td>\n",
              "      <td>abnormal</td>\n",
              "      <td>0</td>\n",
              "      <td>[1numNormal, 0numActive, 1numSize, 0numDisease, 1numClear, 1numHeart, 0numLung, 0numCardiomediastinal, 1numWithin, 0numContour, heart, size, persistently, enlarged, lung, volumes, low, lungs, clear, NEGEX_pleural, NEGEX_line, suggest, NEGEX_pneumothorax, NEGEX_costophrenic, NEGEX_blunting, suggest, large, NEGEX_pleural, NEGEX_effusion, bony, structures, within, normal, limits, NEGEX_acute, NEGEX_cardiopulmonary, NEGEX_findings]</td>\n",
              "    </tr>\n",
              "    <tr>\n",
              "      <th>1817</th>\n",
              "      <td>The lungs are clear without focal consolidation, effusion, or pneumothorax. Normal heart size. Degenerative changes of the thoracic spine. Negative for acute cardiopulmonary abnormality.</td>\n",
              "      <td>abnormal</td>\n",
              "      <td>0</td>\n",
              "      <td>[1numNormal, 0numActive, 1numSize, 0numDisease, 1numClear, 1numHeart, 1numLung, 0numCardiomediastinal, 0numWithin, 0numContour, lungs, clear, without, NEGEX_focal, NEGEX_consolidation, NEGEX_effusion, NEGEX_pneumothorax, normal, heart, size, degenerative, changes, thoracic, spine, negative, NEGEX_acute, NEGEX_cardiopulmonary, NEGEX_abnormality]</td>\n",
              "    </tr>\n",
              "    <tr>\n",
              "      <th>1559</th>\n",
              "      <td>XXXX XXXX and lateral views of the chest were obtained on 02/010/XXXX. The lung volumes are normal. The lungs are clear and there are no pleural effusions. There is stable mild tenting of the medial aspect of the right diaphragm. The mediastinum and pulmonary XXXX are normal. The bony elements are not remarkable. No acute cardiopulmonary abnormalities are seen. END OF REPORT.</td>\n",
              "      <td>normal</td>\n",
              "      <td>1</td>\n",
              "      <td>[3numNormal, 0numActive, 0numSize, 0numDisease, 1numClear, 0numHeart, 2numLung, 0numCardiomediastinal, 0numWithin, 0numContour, lateral, views, chest, obtained, 02/010/xxxx, lung, volumes, normal, lungs, clear, NEGEX_pleural, NEGEX_effusions, stable, mild, tenting, medial, aspect, right, diaphragm, mediastinum, pulmonary, normal, bony, elements, remarkable, NEGEX_acute, NEGEX_cardiopulmonary, NEGEX_abnormalities, seen, end, report]</td>\n",
              "    </tr>\n",
              "    <tr>\n",
              "      <th>3880</th>\n",
              "      <td>Cardiomediastinal silhouette is within normal limits. No focal consolidation, pneumothorax, or pleural effusion. No acute bony abnormalities. Degenerative changes of the thoracic spine. No acute cardiopulmonary findings. .</td>\n",
              "      <td>abnormal</td>\n",
              "      <td>0</td>\n",
              "      <td>[2numNormal, 0numActive, 0numSize, 0numDisease, 0numClear, 0numHeart, 0numLung, 0numCardiomediastinal, 1numWithin, 0numContour, cardiomediastinal, silhouette, within, normal, limits, NEGEX_focal, NEGEX_consolidation, NEGEX_pneumothorax, NEGEX_pleural, NEGEX_effusion, NEGEX_acute, NEGEX_bony, NEGEX_abnormalities, degenerative, changes, thoracic, spine, NEGEX_acute, NEGEX_cardiopulmonary, NEGEX_findings]</td>\n",
              "    </tr>\n",
              "    <tr>\n",
              "      <th>538</th>\n",
              "      <td>The heart is normal in size with normal appearance of the cardiomediastinal silhouette. There is a hiatal hernia with soft tissue projecting behind the mediastinum. The lungs are clear without focal airspace opacity, pleural effusion, pneumothorax. The osseous structures are intact. 1. No acute cardiopulmonary finding. 2. Hiatal hernia.</td>\n",
              "      <td>abnormal</td>\n",
              "      <td>0</td>\n",
              "      <td>[2numNormal, 0numActive, 1numSize, 0numDisease, 1numClear, 1numHeart, 1numLung, 1numCardiomediastinal, 0numWithin, 0numContour, heart, normal, size, normal, appearance, cardiomediastinal, silhouette, hiatal, hernia, soft, tissue, projecting, behind, mediastinum, lungs, clear, without, NEGEX_focal, NEGEX_airspace, NEGEX_opacity, NEGEX_pleural, NEGEX_effusion, NEGEX_pneumothorax, osseous, structures, intact, 1, NEGEX_acute, NEGEX_cardiopulmonary, NEGEX_finding, 2, hiatal, hernia]</td>\n",
              "    </tr>\n",
              "    <tr>\n",
              "      <th>2295</th>\n",
              "      <td>The lungs are clear. Heart size is normal. No pneumothorax. There are endplate changes within the spine. No acute cardiopulmonary abnormality. .</td>\n",
              "      <td>abnormal</td>\n",
              "      <td>0</td>\n",
              "      <td>[2numNormal, 0numActive, 1numSize, 0numDisease, 1numClear, 0numHeart, 1numLung, 0numCardiomediastinal, 1numWithin, 0numContour, lungs, clear, heart, size, normal, pneumothorax, endplate, changes, within, spine, NEGEX_acute, NEGEX_cardiopulmonary, NEGEX_abnormality]</td>\n",
              "    </tr>\n",
              "    <tr>\n",
              "      <th>3030</th>\n",
              "      <td>The lungs are clear. There is no focal consolidation, pleural effusion, or pneumothorax. The Heart and mediastinum are normal size and shape. XXXX and soft tissues are unremarkable. Probable nerve stimulator noted. No Acute cardiopulmonary disease.</td>\n",
              "      <td>abnormal</td>\n",
              "      <td>0</td>\n",
              "      <td>[1numNormal, 0numActive, 1numSize, 1numDisease, 1numClear, 0numHeart, 1numLung, 0numCardiomediastinal, 0numWithin, 0numContour, lungs, clear, NEGEX_focal, NEGEX_consolidation, NEGEX_pleural, NEGEX_effusion, NEGEX_pneumothorax, heart, mediastinum, normal, size, shape, soft, tissues, unremarkable, probable, nerve, stimulator, noted, NEGEX_acute, NEGEX_cardiopulmonary, NEGEX_disease]</td>\n",
              "    </tr>\n",
              "    <tr>\n",
              "      <th>1386</th>\n",
              "      <td>The heart is normal size with normal appearance the cardiomediastinal silhouette. There is no focal air space opacity, pleural effusion, or pneumothorax. The osseous structures are intact with degenerative changes in thoracic spine. No acute cardiopulmonary finding.</td>\n",
              "      <td>abnormal</td>\n",
              "      <td>0</td>\n",
              "      <td>[2numNormal, 0numActive, 1numSize, 0numDisease, 0numClear, 1numHeart, 0numLung, 1numCardiomediastinal, 0numWithin, 0numContour, heart, normal, size, normal, appearance, cardiomediastinal, silhouette, NEGEX_focal, NEGEX_air, NEGEX_space, NEGEX_opacity, NEGEX_pleural, NEGEX_effusion, NEGEX_pneumothorax, osseous, structures, intact, degenerative, changes, thoracic, spine, NEGEX_acute, NEGEX_cardiopulmonary, NEGEX_finding]</td>\n",
              "    </tr>\n",
              "    <tr>\n",
              "      <th>1516</th>\n",
              "      <td>The lungs are clear. The cardiomediastinal silhouette is within normal limits. There is ectasia of the thoracic aorta. No pleural effusion is identified. Normal chest film.</td>\n",
              "      <td>abnormal</td>\n",
              "      <td>0</td>\n",
              "      <td>[1numNormal, 0numActive, 0numSize, 0numDisease, 1numClear, 0numHeart, 1numLung, 1numCardiomediastinal, 1numWithin, 0numContour, lungs, clear, cardiomediastinal, silhouette, within, normal, limits, ectasia, thoracic, aorta, NEGEX_pleural, NEGEX_effusion, NEGEX_identified, normal, chest, film]</td>\n",
              "    </tr>\n",
              "    <tr>\n",
              "      <th>3747</th>\n",
              "      <td>The cardiomediastinal silhouette is within normal limits. The lungs are clear without areas of focal consolidation. No pneumothorax or pleural effusion. XXXX lucency under the right hemidiaphragm may represent a focus of free air. 1. XXXX lucency under the right hemidiaphragm may represent free intraperitoneal air. Left lateral decubitus film may be helpful. 2. Clear lungs.</td>\n",
              "      <td>normal</td>\n",
              "      <td>1</td>\n",
              "      <td>[1numNormal, 0numActive, 0numSize, 0numDisease, 1numClear, 0numHeart, 2numLung, 1numCardiomediastinal, 1numWithin, 0numContour, cardiomediastinal, silhouette, within, normal, limits, lungs, clear, without, areas, NEGEX_focal, NEGEX_consolidation, pneumothorax, NEGEX_pleural, NEGEX_effusion, NEGEX_lucency, NEGEX_right, NEGEX_hemidiaphragm, may, represent, focus, free, air, 1, NEGEX_lucency, NEGEX_right, NEGEX_hemidiaphragm, may, represent, free, intraperitoneal, air, left, lateral, decubitus, film, may, helpful, 2, clear, lungs]</td>\n",
              "    </tr>\n",
              "    <tr>\n",
              "      <th>2097</th>\n",
              "      <td>No The cardiomediastinal silhouette and pulmonary vasculature are within normal limits. There is no pneumothorax or pleural effusion. There are no focal areas of consolidation. There are T-spine osteophytes. No acute cardiopulmonary abnormality.</td>\n",
              "      <td>abnormal</td>\n",
              "      <td>0</td>\n",
              "      <td>[2numNormal, 0numActive, 0numSize, 0numDisease, 0numClear, 0numHeart, 0numLung, 1numCardiomediastinal, 1numWithin, 0numContour, NEGEX_cardiomediastinal, NEGEX_silhouette, NEGEX_pulmonary, NEGEX_vasculature, within, normal, NEGEX_limits, NEGEX_pneumothorax, NEGEX_pleural, NEGEX_effusion, NEGEX_focal, NEGEX_areas, NEGEX_consolidation, t-spine, osteophytes, NEGEX_acute, NEGEX_cardiopulmonary, NEGEX_abnormality]</td>\n",
              "    </tr>\n",
              "    <tr>\n",
              "      <th>173</th>\n",
              "      <td>The heart size and cardiomediastinal silhouette are normal. There is no focal air space opacity, pleural effusion, or pneumothorax. The osseous structures are intact with mild degenerative changes in thoracic spine. No acute cardiopulmonary finding.</td>\n",
              "      <td>abnormal</td>\n",
              "      <td>0</td>\n",
              "      <td>[1numNormal, 0numActive, 1numSize, 0numDisease, 0numClear, 1numHeart, 0numLung, 1numCardiomediastinal, 0numWithin, 0numContour, heart, size, cardiomediastinal, silhouette, normal, NEGEX_focal, NEGEX_air, NEGEX_space, NEGEX_opacity, NEGEX_pleural, NEGEX_effusion, NEGEX_pneumothorax, osseous, structures, intact, mild, degenerative, changes, thoracic, spine, NEGEX_acute, NEGEX_cardiopulmonary, NEGEX_finding]</td>\n",
              "    </tr>\n",
              "    <tr>\n",
              "      <th>44</th>\n",
              "      <td>The heart is normal in size. The mediastinum is unremarkable. The lungs are hypoinflated but clear. No acute disease.</td>\n",
              "      <td>abnormal</td>\n",
              "      <td>0</td>\n",
              "      <td>[1numNormal, 0numActive, 1numSize, 1numDisease, 1numClear, 1numHeart, 1numLung, 0numCardiomediastinal, 0numWithin, 0numContour, heart, normal, size, mediastinum, unremarkable, lungs, hypoinflated, clear, NEGEX_acute, NEGEX_disease]</td>\n",
              "    </tr>\n",
              "    <tr>\n",
              "      <th>274</th>\n",
              "      <td>Cardiac and mediastinal contours are within normal limits. Granulomatous calcifications and mediastinum. The lungs are clear. Bony structures are intact. No acute findings.</td>\n",
              "      <td>abnormal</td>\n",
              "      <td>0</td>\n",
              "      <td>[1numNormal, 0numActive, 0numSize, 0numDisease, 1numClear, 0numHeart, 1numLung, 0numCardiomediastinal, 1numWithin, 1numContour, cardiac, mediastinal, contours, within, normal, limits, granulomatous, calcifications, mediastinum, lungs, clear, bony, structures, intact, NEGEX_acute, NEGEX_findings]</td>\n",
              "    </tr>\n",
              "    <tr>\n",
              "      <th>376</th>\n",
              "      <td>The lungs are clear. The heart and pulmonary XXXX are normal. Pleural spaces are clear. Mediastinal contours are normal. There is stable lucency in the right mid clavicle dating back to XXXX. No acute cardiopulmonary disease</td>\n",
              "      <td>abnormal</td>\n",
              "      <td>0</td>\n",
              "      <td>[2numNormal, 0numActive, 0numSize, 1numDisease, 2numClear, 1numHeart, 1numLung, 0numCardiomediastinal, 0numWithin, 1numContour, lungs, clear, heart, pulmonary, normal, pleural, spaces, clear, mediastinal, contours, normal, stable, lucency, right, mid, clavicle, dating, back, NEGEX_acute, NEGEX_cardiopulmonary, NEGEX_disease]</td>\n",
              "    </tr>\n",
              "    <tr>\n",
              "      <th>1855</th>\n",
              "      <td>There are low lung volumes. The lungs are clear. No focal airspace consolidation. No pleural effusion or pneumothorax. Heart size and mediastinal contour appear within normal limits. No acute abnormality demonstrated.</td>\n",
              "      <td>abnormal</td>\n",
              "      <td>0</td>\n",
              "      <td>[2numNormal, 0numActive, 1numSize, 0numDisease, 1numClear, 0numHeart, 2numLung, 0numCardiomediastinal, 1numWithin, 1numContour, low, lung, volumes, lungs, clear, NEGEX_focal, NEGEX_airspace, NEGEX_consolidation, NEGEX_pleural, NEGEX_effusion, NEGEX_pneumothorax, heart, size, mediastinal, contour, appear, within, normal, limits, NEGEX_acute, NEGEX_abnormality, demonstrated]</td>\n",
              "    </tr>\n",
              "    <tr>\n",
              "      <th>3767</th>\n",
              "      <td>Tortuous thoracic aorta. Well-expanded and clear lungs. Mediastinal contour within normal limits. No acute cardiopulmonary abnormality identified.</td>\n",
              "      <td>abnormal</td>\n",
              "      <td>0</td>\n",
              "      <td>[2numNormal, 0numActive, 0numSize, 0numDisease, 1numClear, 0numHeart, 1numLung, 0numCardiomediastinal, 1numWithin, 1numContour, tortuous, thoracic, aorta, well-expanded, clear, lungs, mediastinal, contour, within, normal, limits, NEGEX_acute, NEGEX_cardiopulmonary, NEGEX_abnormality, NEGEX_identified]</td>\n",
              "    </tr>\n",
              "    <tr>\n",
              "      <th>1936</th>\n",
              "      <td>The lungs are clear. The heart and pulmonary XXXX appear normal. Pleural spaces are clear. The mediastinal contours are normal. Bony overlap in the lung apices could obscure a small pulmonary nodule. No acute cardiopulmonary disease</td>\n",
              "      <td>abnormal</td>\n",
              "      <td>0</td>\n",
              "      <td>[2numNormal, 0numActive, 0numSize, 1numDisease, 2numClear, 1numHeart, 2numLung, 0numCardiomediastinal, 0numWithin, 1numContour, lungs, clear, heart, pulmonary, appear, normal, pleural, spaces, clear, mediastinal, contours, normal, bony, overlap, lung, apices, could, obscure, small, pulmonary, nodule, NEGEX_acute, NEGEX_cardiopulmonary, NEGEX_disease]</td>\n",
              "    </tr>\n",
              "    <tr>\n",
              "      <th>3185</th>\n",
              "      <td>Stable calcified hilar XXXX and granulomas. Lungs are clear bilaterally. There is no focal consolidation, pleural effusion, or pneumothoraces. Cardiomediastinal silhouette is within normal limits. XXXX are unremarkable. No acute cardiopulmonary abnormality.</td>\n",
              "      <td>abnormal</td>\n",
              "      <td>0</td>\n",
              "      <td>[2numNormal, 0numActive, 0numSize, 0numDisease, 1numClear, 0numHeart, 0numLung, 0numCardiomediastinal, 1numWithin, 0numContour, stable, calcified, hilar, granulomas, lungs, clear, bilaterally, NEGEX_focal, NEGEX_consolidation, NEGEX_pleural, NEGEX_effusion, NEGEX_pneumothoraces, cardiomediastinal, silhouette, within, normal, limits, unremarkable, NEGEX_acute, NEGEX_cardiopulmonary, NEGEX_abnormality]</td>\n",
              "    </tr>\n",
              "  </tbody>\n",
              "</table>\n",
              "</div>\n",
              "      <button class=\"colab-df-convert\" onclick=\"convertToInteractive('df-ebb0b17b-dfd9-461e-8ac3-b4fbdd4e1476')\"\n",
              "              title=\"Convert this dataframe to an interactive table.\"\n",
              "              style=\"display:none;\">\n",
              "        \n",
              "  <svg xmlns=\"http://www.w3.org/2000/svg\" height=\"24px\"viewBox=\"0 0 24 24\"\n",
              "       width=\"24px\">\n",
              "    <path d=\"M0 0h24v24H0V0z\" fill=\"none\"/>\n",
              "    <path d=\"M18.56 5.44l.94 2.06.94-2.06 2.06-.94-2.06-.94-.94-2.06-.94 2.06-2.06.94zm-11 1L8.5 8.5l.94-2.06 2.06-.94-2.06-.94L8.5 2.5l-.94 2.06-2.06.94zm10 10l.94 2.06.94-2.06 2.06-.94-2.06-.94-.94-2.06-.94 2.06-2.06.94z\"/><path d=\"M17.41 7.96l-1.37-1.37c-.4-.4-.92-.59-1.43-.59-.52 0-1.04.2-1.43.59L10.3 9.45l-7.72 7.72c-.78.78-.78 2.05 0 2.83L4 21.41c.39.39.9.59 1.41.59.51 0 1.02-.2 1.41-.59l7.78-7.78 2.81-2.81c.8-.78.8-2.07 0-2.86zM5.41 20L4 18.59l7.72-7.72 1.47 1.35L5.41 20z\"/>\n",
              "  </svg>\n",
              "      </button>\n",
              "      \n",
              "  <style>\n",
              "    .colab-df-container {\n",
              "      display:flex;\n",
              "      flex-wrap:wrap;\n",
              "      gap: 12px;\n",
              "    }\n",
              "\n",
              "    .colab-df-convert {\n",
              "      background-color: #E8F0FE;\n",
              "      border: none;\n",
              "      border-radius: 50%;\n",
              "      cursor: pointer;\n",
              "      display: none;\n",
              "      fill: #1967D2;\n",
              "      height: 32px;\n",
              "      padding: 0 0 0 0;\n",
              "      width: 32px;\n",
              "    }\n",
              "\n",
              "    .colab-df-convert:hover {\n",
              "      background-color: #E2EBFA;\n",
              "      box-shadow: 0px 1px 2px rgba(60, 64, 67, 0.3), 0px 1px 3px 1px rgba(60, 64, 67, 0.15);\n",
              "      fill: #174EA6;\n",
              "    }\n",
              "\n",
              "    [theme=dark] .colab-df-convert {\n",
              "      background-color: #3B4455;\n",
              "      fill: #D2E3FC;\n",
              "    }\n",
              "\n",
              "    [theme=dark] .colab-df-convert:hover {\n",
              "      background-color: #434B5C;\n",
              "      box-shadow: 0px 1px 3px 1px rgba(0, 0, 0, 0.15);\n",
              "      filter: drop-shadow(0px 1px 2px rgba(0, 0, 0, 0.3));\n",
              "      fill: #FFFFFF;\n",
              "    }\n",
              "  </style>\n",
              "\n",
              "      <script>\n",
              "        const buttonEl =\n",
              "          document.querySelector('#df-ebb0b17b-dfd9-461e-8ac3-b4fbdd4e1476 button.colab-df-convert');\n",
              "        buttonEl.style.display =\n",
              "          google.colab.kernel.accessAllowed ? 'block' : 'none';\n",
              "\n",
              "        async function convertToInteractive(key) {\n",
              "          const element = document.querySelector('#df-ebb0b17b-dfd9-461e-8ac3-b4fbdd4e1476');\n",
              "          const dataTable =\n",
              "            await google.colab.kernel.invokeFunction('convertToInteractive',\n",
              "                                                     [key], {});\n",
              "          if (!dataTable) return;\n",
              "\n",
              "          const docLinkHtml = 'Like what you see? Visit the ' +\n",
              "            '<a target=\"_blank\" href=https://colab.research.google.com/notebooks/data_table.ipynb>data table notebook</a>'\n",
              "            + ' to learn more about interactive tables.';\n",
              "          element.innerHTML = '';\n",
              "          dataTable['output_type'] = 'display_data';\n",
              "          await google.colab.output.renderOutput(dataTable, element);\n",
              "          const docLink = document.createElement('div');\n",
              "          docLink.innerHTML = docLinkHtml;\n",
              "          element.appendChild(docLink);\n",
              "        }\n",
              "      </script>\n",
              "    </div>\n",
              "  </div>\n",
              "  "
            ]
          },
          "metadata": {},
          "execution_count": 169
        }
      ]
    },
    {
      "cell_type": "code",
      "source": [
        "mem1 = dict()\n",
        "mem0 = dict()\n",
        "for tokenList in troubleshoot_df['tokens']:\n",
        "  for token in tokenList:\n",
        "    mem1[token] = 0\n",
        "    mem0[token] = 0"
      ],
      "metadata": {
        "id": "wjpdLfU4tlrZ"
      },
      "execution_count": 170,
      "outputs": []
    },
    {
      "cell_type": "code",
      "source": [
        "for i in range(len(troubleshoot_df)):\n",
        "  if troubleshoot_df.iloc[i][\"nb\"] == 1:\n",
        "    for token in troubleshoot_df.iloc[i][\"tokens\"]:\n",
        "      mem1[token] += 1\n",
        "  else:\n",
        "    for token in troubleshoot_df.iloc[i][\"tokens\"]:\n",
        "      mem0[token] += 1"
      ],
      "metadata": {
        "id": "bj3_bVoJuEya"
      },
      "execution_count": 171,
      "outputs": []
    },
    {
      "cell_type": "code",
      "source": [
        "index = list(mem0.keys())"
      ],
      "metadata": {
        "id": "HFAqEgZ1vdls"
      },
      "execution_count": 172,
      "outputs": []
    },
    {
      "cell_type": "code",
      "source": [
        "vis = pd.DataFrame({'Misclassifying 0': list(mem0.values()),\n",
        "                   'Misclassifying 1': list(mem1.values()),\n",
        "                    \"total\": totalCount}, index=index)"
      ],
      "metadata": {
        "id": "ptcCoumGvLoC"
      },
      "execution_count": 173,
      "outputs": []
    },
    {
      "cell_type": "code",
      "source": [
        "vis"
      ],
      "metadata": {
        "colab": {
          "base_uri": "https://localhost:8080/",
          "height": 423
        },
        "id": "6_WBhp9uvs9M",
        "outputId": "fb4b0ae5-b39b-4a64-ae5d-a59b306dae98"
      },
      "execution_count": 174,
      "outputs": [
        {
          "output_type": "execute_result",
          "data": {
            "text/plain": [
              "             Misclassifying 0  Misclassifying 1  total\n",
              "3numNormal   5                 1                 6    \n",
              "0numActive   43                3                 46   \n",
              "0numSize     26                4                 30   \n",
              "0numDisease  32                2                 34   \n",
              "0numClear    17                2                 19   \n",
              "...          ..               ..                 ..   \n",
              "could        1                 0                 1    \n",
              "obscure      1                 0                 1    \n",
              "nodule       1                 0                 1    \n",
              "hilar        1                 0                 1    \n",
              "granulomas   1                 0                 1    \n",
              "\n",
              "[264 rows x 3 columns]"
            ],
            "text/html": [
              "\n",
              "  <div id=\"df-9ee63f4d-6df6-4f4a-8181-136701b4e793\">\n",
              "    <div class=\"colab-df-container\">\n",
              "      <div>\n",
              "<style scoped>\n",
              "    .dataframe tbody tr th:only-of-type {\n",
              "        vertical-align: middle;\n",
              "    }\n",
              "\n",
              "    .dataframe tbody tr th {\n",
              "        vertical-align: top;\n",
              "    }\n",
              "\n",
              "    .dataframe thead th {\n",
              "        text-align: right;\n",
              "    }\n",
              "</style>\n",
              "<table border=\"1\" class=\"dataframe\">\n",
              "  <thead>\n",
              "    <tr style=\"text-align: right;\">\n",
              "      <th></th>\n",
              "      <th>Misclassifying 0</th>\n",
              "      <th>Misclassifying 1</th>\n",
              "      <th>total</th>\n",
              "    </tr>\n",
              "  </thead>\n",
              "  <tbody>\n",
              "    <tr>\n",
              "      <th>3numNormal</th>\n",
              "      <td>5</td>\n",
              "      <td>1</td>\n",
              "      <td>6</td>\n",
              "    </tr>\n",
              "    <tr>\n",
              "      <th>0numActive</th>\n",
              "      <td>43</td>\n",
              "      <td>3</td>\n",
              "      <td>46</td>\n",
              "    </tr>\n",
              "    <tr>\n",
              "      <th>0numSize</th>\n",
              "      <td>26</td>\n",
              "      <td>4</td>\n",
              "      <td>30</td>\n",
              "    </tr>\n",
              "    <tr>\n",
              "      <th>0numDisease</th>\n",
              "      <td>32</td>\n",
              "      <td>2</td>\n",
              "      <td>34</td>\n",
              "    </tr>\n",
              "    <tr>\n",
              "      <th>0numClear</th>\n",
              "      <td>17</td>\n",
              "      <td>2</td>\n",
              "      <td>19</td>\n",
              "    </tr>\n",
              "    <tr>\n",
              "      <th>...</th>\n",
              "      <td>...</td>\n",
              "      <td>...</td>\n",
              "      <td>...</td>\n",
              "    </tr>\n",
              "    <tr>\n",
              "      <th>could</th>\n",
              "      <td>1</td>\n",
              "      <td>0</td>\n",
              "      <td>1</td>\n",
              "    </tr>\n",
              "    <tr>\n",
              "      <th>obscure</th>\n",
              "      <td>1</td>\n",
              "      <td>0</td>\n",
              "      <td>1</td>\n",
              "    </tr>\n",
              "    <tr>\n",
              "      <th>nodule</th>\n",
              "      <td>1</td>\n",
              "      <td>0</td>\n",
              "      <td>1</td>\n",
              "    </tr>\n",
              "    <tr>\n",
              "      <th>hilar</th>\n",
              "      <td>1</td>\n",
              "      <td>0</td>\n",
              "      <td>1</td>\n",
              "    </tr>\n",
              "    <tr>\n",
              "      <th>granulomas</th>\n",
              "      <td>1</td>\n",
              "      <td>0</td>\n",
              "      <td>1</td>\n",
              "    </tr>\n",
              "  </tbody>\n",
              "</table>\n",
              "<p>264 rows × 3 columns</p>\n",
              "</div>\n",
              "      <button class=\"colab-df-convert\" onclick=\"convertToInteractive('df-9ee63f4d-6df6-4f4a-8181-136701b4e793')\"\n",
              "              title=\"Convert this dataframe to an interactive table.\"\n",
              "              style=\"display:none;\">\n",
              "        \n",
              "  <svg xmlns=\"http://www.w3.org/2000/svg\" height=\"24px\"viewBox=\"0 0 24 24\"\n",
              "       width=\"24px\">\n",
              "    <path d=\"M0 0h24v24H0V0z\" fill=\"none\"/>\n",
              "    <path d=\"M18.56 5.44l.94 2.06.94-2.06 2.06-.94-2.06-.94-.94-2.06-.94 2.06-2.06.94zm-11 1L8.5 8.5l.94-2.06 2.06-.94-2.06-.94L8.5 2.5l-.94 2.06-2.06.94zm10 10l.94 2.06.94-2.06 2.06-.94-2.06-.94-.94-2.06-.94 2.06-2.06.94z\"/><path d=\"M17.41 7.96l-1.37-1.37c-.4-.4-.92-.59-1.43-.59-.52 0-1.04.2-1.43.59L10.3 9.45l-7.72 7.72c-.78.78-.78 2.05 0 2.83L4 21.41c.39.39.9.59 1.41.59.51 0 1.02-.2 1.41-.59l7.78-7.78 2.81-2.81c.8-.78.8-2.07 0-2.86zM5.41 20L4 18.59l7.72-7.72 1.47 1.35L5.41 20z\"/>\n",
              "  </svg>\n",
              "      </button>\n",
              "      \n",
              "  <style>\n",
              "    .colab-df-container {\n",
              "      display:flex;\n",
              "      flex-wrap:wrap;\n",
              "      gap: 12px;\n",
              "    }\n",
              "\n",
              "    .colab-df-convert {\n",
              "      background-color: #E8F0FE;\n",
              "      border: none;\n",
              "      border-radius: 50%;\n",
              "      cursor: pointer;\n",
              "      display: none;\n",
              "      fill: #1967D2;\n",
              "      height: 32px;\n",
              "      padding: 0 0 0 0;\n",
              "      width: 32px;\n",
              "    }\n",
              "\n",
              "    .colab-df-convert:hover {\n",
              "      background-color: #E2EBFA;\n",
              "      box-shadow: 0px 1px 2px rgba(60, 64, 67, 0.3), 0px 1px 3px 1px rgba(60, 64, 67, 0.15);\n",
              "      fill: #174EA6;\n",
              "    }\n",
              "\n",
              "    [theme=dark] .colab-df-convert {\n",
              "      background-color: #3B4455;\n",
              "      fill: #D2E3FC;\n",
              "    }\n",
              "\n",
              "    [theme=dark] .colab-df-convert:hover {\n",
              "      background-color: #434B5C;\n",
              "      box-shadow: 0px 1px 3px 1px rgba(0, 0, 0, 0.15);\n",
              "      filter: drop-shadow(0px 1px 2px rgba(0, 0, 0, 0.3));\n",
              "      fill: #FFFFFF;\n",
              "    }\n",
              "  </style>\n",
              "\n",
              "      <script>\n",
              "        const buttonEl =\n",
              "          document.querySelector('#df-9ee63f4d-6df6-4f4a-8181-136701b4e793 button.colab-df-convert');\n",
              "        buttonEl.style.display =\n",
              "          google.colab.kernel.accessAllowed ? 'block' : 'none';\n",
              "\n",
              "        async function convertToInteractive(key) {\n",
              "          const element = document.querySelector('#df-9ee63f4d-6df6-4f4a-8181-136701b4e793');\n",
              "          const dataTable =\n",
              "            await google.colab.kernel.invokeFunction('convertToInteractive',\n",
              "                                                     [key], {});\n",
              "          if (!dataTable) return;\n",
              "\n",
              "          const docLinkHtml = 'Like what you see? Visit the ' +\n",
              "            '<a target=\"_blank\" href=https://colab.research.google.com/notebooks/data_table.ipynb>data table notebook</a>'\n",
              "            + ' to learn more about interactive tables.';\n",
              "          element.innerHTML = '';\n",
              "          dataTable['output_type'] = 'display_data';\n",
              "          await google.colab.output.renderOutput(dataTable, element);\n",
              "          const docLink = document.createElement('div');\n",
              "          docLink.innerHTML = docLinkHtml;\n",
              "          element.appendChild(docLink);\n",
              "        }\n",
              "      </script>\n",
              "    </div>\n",
              "  </div>\n",
              "  "
            ]
          },
          "metadata": {},
          "execution_count": 174
        }
      ]
    },
    {
      "cell_type": "code",
      "source": [
        "vis10 = vis.sort_values(by=\"total\", ascending= False).head(10).sort_values(by=\"total\").drop(\"total\", axis = 1)\n",
        "vis10"
      ],
      "metadata": {
        "colab": {
          "base_uri": "https://localhost:8080/",
          "height": 363
        },
        "id": "F-advrKpwuUJ",
        "outputId": "eb804bc3-3a75-49e2-a0fa-caeab264d67d"
      },
      "execution_count": 175,
      "outputs": [
        {
          "output_type": "execute_result",
          "data": {
            "text/plain": [
              "                       Misclassifying 0  Misclassifying 1\n",
              "0numCardiomediastinal  30                3               \n",
              "0numDisease            32                2               \n",
              "NEGEX_cardiopulmonary  33                2               \n",
              "0numHeart              32                4               \n",
              "0numContour            33                4               \n",
              "lungs                  34                3               \n",
              "clear                  34                3               \n",
              "0numActive             43                3               \n",
              "NEGEX_acute            49                2               \n",
              "normal                 52                3               "
            ],
            "text/html": [
              "\n",
              "  <div id=\"df-341c114c-4191-4e49-adfe-5b19614503d1\">\n",
              "    <div class=\"colab-df-container\">\n",
              "      <div>\n",
              "<style scoped>\n",
              "    .dataframe tbody tr th:only-of-type {\n",
              "        vertical-align: middle;\n",
              "    }\n",
              "\n",
              "    .dataframe tbody tr th {\n",
              "        vertical-align: top;\n",
              "    }\n",
              "\n",
              "    .dataframe thead th {\n",
              "        text-align: right;\n",
              "    }\n",
              "</style>\n",
              "<table border=\"1\" class=\"dataframe\">\n",
              "  <thead>\n",
              "    <tr style=\"text-align: right;\">\n",
              "      <th></th>\n",
              "      <th>Misclassifying 0</th>\n",
              "      <th>Misclassifying 1</th>\n",
              "    </tr>\n",
              "  </thead>\n",
              "  <tbody>\n",
              "    <tr>\n",
              "      <th>0numCardiomediastinal</th>\n",
              "      <td>30</td>\n",
              "      <td>3</td>\n",
              "    </tr>\n",
              "    <tr>\n",
              "      <th>0numDisease</th>\n",
              "      <td>32</td>\n",
              "      <td>2</td>\n",
              "    </tr>\n",
              "    <tr>\n",
              "      <th>NEGEX_cardiopulmonary</th>\n",
              "      <td>33</td>\n",
              "      <td>2</td>\n",
              "    </tr>\n",
              "    <tr>\n",
              "      <th>0numHeart</th>\n",
              "      <td>32</td>\n",
              "      <td>4</td>\n",
              "    </tr>\n",
              "    <tr>\n",
              "      <th>0numContour</th>\n",
              "      <td>33</td>\n",
              "      <td>4</td>\n",
              "    </tr>\n",
              "    <tr>\n",
              "      <th>lungs</th>\n",
              "      <td>34</td>\n",
              "      <td>3</td>\n",
              "    </tr>\n",
              "    <tr>\n",
              "      <th>clear</th>\n",
              "      <td>34</td>\n",
              "      <td>3</td>\n",
              "    </tr>\n",
              "    <tr>\n",
              "      <th>0numActive</th>\n",
              "      <td>43</td>\n",
              "      <td>3</td>\n",
              "    </tr>\n",
              "    <tr>\n",
              "      <th>NEGEX_acute</th>\n",
              "      <td>49</td>\n",
              "      <td>2</td>\n",
              "    </tr>\n",
              "    <tr>\n",
              "      <th>normal</th>\n",
              "      <td>52</td>\n",
              "      <td>3</td>\n",
              "    </tr>\n",
              "  </tbody>\n",
              "</table>\n",
              "</div>\n",
              "      <button class=\"colab-df-convert\" onclick=\"convertToInteractive('df-341c114c-4191-4e49-adfe-5b19614503d1')\"\n",
              "              title=\"Convert this dataframe to an interactive table.\"\n",
              "              style=\"display:none;\">\n",
              "        \n",
              "  <svg xmlns=\"http://www.w3.org/2000/svg\" height=\"24px\"viewBox=\"0 0 24 24\"\n",
              "       width=\"24px\">\n",
              "    <path d=\"M0 0h24v24H0V0z\" fill=\"none\"/>\n",
              "    <path d=\"M18.56 5.44l.94 2.06.94-2.06 2.06-.94-2.06-.94-.94-2.06-.94 2.06-2.06.94zm-11 1L8.5 8.5l.94-2.06 2.06-.94-2.06-.94L8.5 2.5l-.94 2.06-2.06.94zm10 10l.94 2.06.94-2.06 2.06-.94-2.06-.94-.94-2.06-.94 2.06-2.06.94z\"/><path d=\"M17.41 7.96l-1.37-1.37c-.4-.4-.92-.59-1.43-.59-.52 0-1.04.2-1.43.59L10.3 9.45l-7.72 7.72c-.78.78-.78 2.05 0 2.83L4 21.41c.39.39.9.59 1.41.59.51 0 1.02-.2 1.41-.59l7.78-7.78 2.81-2.81c.8-.78.8-2.07 0-2.86zM5.41 20L4 18.59l7.72-7.72 1.47 1.35L5.41 20z\"/>\n",
              "  </svg>\n",
              "      </button>\n",
              "      \n",
              "  <style>\n",
              "    .colab-df-container {\n",
              "      display:flex;\n",
              "      flex-wrap:wrap;\n",
              "      gap: 12px;\n",
              "    }\n",
              "\n",
              "    .colab-df-convert {\n",
              "      background-color: #E8F0FE;\n",
              "      border: none;\n",
              "      border-radius: 50%;\n",
              "      cursor: pointer;\n",
              "      display: none;\n",
              "      fill: #1967D2;\n",
              "      height: 32px;\n",
              "      padding: 0 0 0 0;\n",
              "      width: 32px;\n",
              "    }\n",
              "\n",
              "    .colab-df-convert:hover {\n",
              "      background-color: #E2EBFA;\n",
              "      box-shadow: 0px 1px 2px rgba(60, 64, 67, 0.3), 0px 1px 3px 1px rgba(60, 64, 67, 0.15);\n",
              "      fill: #174EA6;\n",
              "    }\n",
              "\n",
              "    [theme=dark] .colab-df-convert {\n",
              "      background-color: #3B4455;\n",
              "      fill: #D2E3FC;\n",
              "    }\n",
              "\n",
              "    [theme=dark] .colab-df-convert:hover {\n",
              "      background-color: #434B5C;\n",
              "      box-shadow: 0px 1px 3px 1px rgba(0, 0, 0, 0.15);\n",
              "      filter: drop-shadow(0px 1px 2px rgba(0, 0, 0, 0.3));\n",
              "      fill: #FFFFFF;\n",
              "    }\n",
              "  </style>\n",
              "\n",
              "      <script>\n",
              "        const buttonEl =\n",
              "          document.querySelector('#df-341c114c-4191-4e49-adfe-5b19614503d1 button.colab-df-convert');\n",
              "        buttonEl.style.display =\n",
              "          google.colab.kernel.accessAllowed ? 'block' : 'none';\n",
              "\n",
              "        async function convertToInteractive(key) {\n",
              "          const element = document.querySelector('#df-341c114c-4191-4e49-adfe-5b19614503d1');\n",
              "          const dataTable =\n",
              "            await google.colab.kernel.invokeFunction('convertToInteractive',\n",
              "                                                     [key], {});\n",
              "          if (!dataTable) return;\n",
              "\n",
              "          const docLinkHtml = 'Like what you see? Visit the ' +\n",
              "            '<a target=\"_blank\" href=https://colab.research.google.com/notebooks/data_table.ipynb>data table notebook</a>'\n",
              "            + ' to learn more about interactive tables.';\n",
              "          element.innerHTML = '';\n",
              "          dataTable['output_type'] = 'display_data';\n",
              "          await google.colab.output.renderOutput(dataTable, element);\n",
              "          const docLink = document.createElement('div');\n",
              "          docLink.innerHTML = docLinkHtml;\n",
              "          element.appendChild(docLink);\n",
              "        }\n",
              "      </script>\n",
              "    </div>\n",
              "  </div>\n",
              "  "
            ]
          },
          "metadata": {},
          "execution_count": 175
        }
      ]
    },
    {
      "cell_type": "code",
      "source": [
        "ax = vis10.plot.barh(stacked=True)"
      ],
      "metadata": {
        "colab": {
          "base_uri": "https://localhost:8080/",
          "height": 430
        },
        "id": "9iznewqGvj-w",
        "outputId": "e9127a64-6762-4285-cb25-255152a084f0"
      },
      "execution_count": 176,
      "outputs": [
        {
          "output_type": "display_data",
          "data": {
            "text/plain": [
              "<Figure size 640x480 with 1 Axes>"
            ],
            "image/png": "[encoded data removed]"
          },
          "metadata": {}
        }
      ]
    }
  ]
}